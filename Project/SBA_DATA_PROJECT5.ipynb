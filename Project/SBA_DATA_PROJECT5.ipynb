{
 "cells": [
  {
   "cell_type": "code",
   "execution_count": 3,
   "metadata": {},
   "outputs": [],
   "source": [
    "import requests\n",
    "import time\n",
    "import json, os\n",
    "import urllib.request\n",
    "import matplotlib\n",
    "import matplotlib.pyplot as plt\n",
    "# import nltk\n",
    "# from nltk.corpus import stopwords\n",
    "# from konlpy.tag import Twitter\n",
    "# from collections import Counter\n",
    "# from wordcloud import WordCloud\n",
    "# from IPython.display import set_matplotlib_formats\n",
    "from bs4 import BeautifulSoup\n",
    "from selenium import webdriver\n",
    "\n",
    "%matplotlib inline\n",
    "matplotlib.rc('font', family = 'Malgun Gothic')\n",
    "# set_matplotlib_formats('retina')\n",
    "matplotlib.rc('axes', unicode_minus = False)"
   ]
  },
  {
   "cell_type": "code",
   "execution_count": 2,
   "metadata": {},
   "outputs": [],
   "source": [
    "driver = webdriver.Chrome()\n",
    "driver.get(\"https://www.instagram.com\")"
   ]
  },
  {
   "cell_type": "code",
   "execution_count": 4,
   "metadata": {},
   "outputs": [],
   "source": [
    "driver.find_elements_by_css_selector(\"#loginForm > div > div:nth-child(5) > button > span.KPnG0\")[0].click()"
   ]
  },
  {
   "cell_type": "code",
   "execution_count": 5,
   "metadata": {},
   "outputs": [],
   "source": [
    "driver.find_element_by_name(\"email\").send_keys(\"\")\n",
    "driver.find_element_by_name(\"pass\").send_keys(\"\")\n",
    "driver.find_elements_by_css_selector(\"#loginbutton\")[0].click()"
   ]
  },
  {
   "cell_type": "code",
   "execution_count": 7,
   "metadata": {},
   "outputs": [],
   "source": [
    "driver.get(\"https://www.instagram.com/explore/tags/충남부여\")"
   ]
  },
  {
   "cell_type": "code",
   "execution_count": 8,
   "metadata": {},
   "outputs": [],
   "source": [
    "driver.find_elements_by_css_selector(\".EZdmt div:nth-child(1) > div:nth-child(1) > a\")[0].click()"
   ]
  },
  {
   "cell_type": "code",
   "execution_count": 9,
   "metadata": {},
   "outputs": [],
   "source": [
    "dom = BeautifulSoup(driver.page_source, \"lxml\")"
   ]
  },
  {
   "cell_type": "code",
   "execution_count": 14,
   "metadata": {},
   "outputs": [],
   "source": [
    "word_list = dom.select(\".C4VMK  span\")"
   ]
  },
  {
   "cell_type": "code",
   "execution_count": 15,
   "metadata": {},
   "outputs": [],
   "source": [
    "word_list = \"\".join([_.text for _ in word_list])"
   ]
  },
  {
   "cell_type": "code",
   "execution_count": 16,
   "metadata": {},
   "outputs": [
    {
     "data": {
      "text/plain": [
       "'fo___ody💛높은댕이💛-충남 부여에 있는 브런치 맛집이에요!💕주변 풍경도 예쁘고 쾌적해서추천드립니다!!!브런치도 송이버섯 오므라이스🍳, 각종 크로와상 샌드위치 모두 다 너무 맛있어요🥐🥐주말에 여행 갈 계획이 있으시다면 부여여행도 추천드립니다❤️그리고 도시를 잠시 떠나고 싶으신 분들에게도강추입니다😍🌿🌿-#여행스타그램 #충남부여 #높은댕이 #브런치카페 #오므라이스 #크로와상샌드위치 #브런치맛집 #주말여행 #주말드라이브 #서울근교여행 #먹스타그램 #먹스타맞팔 #선팔하면맞팔 #맞팔해요 #인친환영 #소통해요 #좋반댓 #foodstagram #brunchtime #dailygram #오늘뭐먹지 #불금🔥#데이트 #데이트드라이브 #데이트코스추천 #부여카페le._.mooon비쥬얼 진짜 대박이네요😝💗mukmukyamyam선팔했어용 먹팔해요💕💕💕mukstagram_oy먹팔해요 !!food_7_life브런치 색감이 알록달록🧡💚ciao_bella_olivia드뎌주말이네요.더운데 맛있는거 많이 드시고 행복한 주말되세요.인친님🤗youngsoo_84와~ 음식도 음식이지만 사진도 너무 잘 찍으셨네요~ 부여갈때 꼭 들러볼래요~👍👍🤗tequila_review_liveyou먹팔해요~~✨🌼😋mr.chustagram먹팔해용😋😋yumyummatzip요기 대박 힐링장소로 딱인데여👍 먹팔소통해욤💕lovees66와~ 여기 넘~ 이뻐요~~😍😍😍apricity_100소통하고싶어서 선팔하고가요ෆ,,🙈kbumil@yeon_xi_  요기❤️'"
      ]
     },
     "execution_count": 16,
     "metadata": {},
     "output_type": "execute_result"
    }
   ],
   "source": [
    "word_list"
   ]
  },
  {
   "cell_type": "code",
   "execution_count": null,
   "metadata": {},
   "outputs": [],
   "source": []
  },
  {
   "cell_type": "code",
   "execution_count": null,
   "metadata": {},
   "outputs": [],
   "source": []
  }
 ],
 "metadata": {
  "kernelspec": {
   "display_name": "Python 3",
   "language": "python",
   "name": "python3"
  },
  "language_info": {
   "codemirror_mode": {
    "name": "ipython",
    "version": 3
   },
   "file_extension": ".py",
   "mimetype": "text/x-python",
   "name": "python",
   "nbconvert_exporter": "python",
   "pygments_lexer": "ipython3",
   "version": "3.8.3"
  }
 },
 "nbformat": 4,
 "nbformat_minor": 4
}
