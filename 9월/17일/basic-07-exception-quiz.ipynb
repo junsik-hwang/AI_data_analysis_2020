{
 "cells": [
  {
   "cell_type": "markdown",
   "metadata": {},
   "source": [
    "## 1. test = [1, 2]; test[2]의 예외처리를 하라\n",
    "## 3. A=[1,'가',2] 각 요소를 2로 나누는 코드 작성-> 에러발생 시 예외처리 코드 작성\n",
    "## 4. 클럽을 입장할 때 나이를 물어본다. 20세 이하면 raise를 일으켜 입장불가를 나타내라\n",
    "## 5. (다푸신 분만)본인이 생각하는 사용자 정의 예외를 시나리오와 함께 코드를 작성하라\n"
   ]
  },
  {
   "cell_type": "code",
   "execution_count": 11,
   "metadata": {
    "scrolled": false
   },
   "outputs": [
    {
     "ename": "IndexError",
     "evalue": "list index out of range",
     "output_type": "error",
     "traceback": [
      "\u001b[1;31m---------------------------------------------------------------------------\u001b[0m",
      "\u001b[1;31mIndexError\u001b[0m                                Traceback (most recent call last)",
      "\u001b[1;32m<ipython-input-11-963b65a8daca>\u001b[0m in \u001b[0;36m<module>\u001b[1;34m\u001b[0m\n\u001b[1;32m----> 1\u001b[1;33m \u001b[0mtest\u001b[0m \u001b[1;33m=\u001b[0m \u001b[1;33m[\u001b[0m\u001b[1;36m1\u001b[0m\u001b[1;33m,\u001b[0m \u001b[1;36m2\u001b[0m\u001b[1;33m]\u001b[0m\u001b[1;33m;\u001b[0m \u001b[0mtest\u001b[0m\u001b[1;33m[\u001b[0m\u001b[1;36m2\u001b[0m\u001b[1;33m]\u001b[0m\u001b[1;33m\u001b[0m\u001b[1;33m\u001b[0m\u001b[0m\n\u001b[0m",
      "\u001b[1;31mIndexError\u001b[0m: list index out of range"
     ]
    }
   ],
   "source": [
    "test = [1, 2]; test[2]"
   ]
  },
  {
   "cell_type": "code",
   "execution_count": 3,
   "metadata": {},
   "outputs": [
    {
     "name": "stdout",
     "output_type": "stream",
     "text": [
      "범위를 벗어나는 인덱스 입니다.\n"
     ]
    }
   ],
   "source": [
    "try:\n",
    "    test[2]\n",
    "except IndexError:\n",
    "    print('범위를 벗어나는 인덱스 입니다.')"
   ]
  },
  {
   "cell_type": "code",
   "execution_count": 2,
   "metadata": {},
   "outputs": [
    {
     "data": {
      "text/plain": [
       "[1, '가', 2]"
      ]
     },
     "execution_count": 2,
     "metadata": {},
     "output_type": "execute_result"
    }
   ],
   "source": [
    "#3. A=[1,'가',2] 각 요소를 2로 나누는 코드 작성-> 에러발생 시 예외처리 코드 작성\n",
    "A=[1,'가',2]\n",
    "A"
   ]
  },
  {
   "cell_type": "code",
   "execution_count": 8,
   "metadata": {},
   "outputs": [
    {
     "name": "stdout",
     "output_type": "stream",
     "text": [
      "0.5\n",
      "1.0\n"
     ]
    }
   ],
   "source": [
    "for i in A:\n",
    "    try:\n",
    "        print(i/2)\n",
    "    except:\n",
    "        continue #break"
   ]
  },
  {
   "cell_type": "code",
   "execution_count": 10,
   "metadata": {},
   "outputs": [
    {
     "name": "stdout",
     "output_type": "stream",
     "text": [
      "당신의 나이는 몇 살 입니까? 20\n",
      "입장 불가 나이입니다. 미성년자는 입장하실 수 없습니다.\n"
     ]
    }
   ],
   "source": [
    "#4. 클럽을 입장할 때 나이를 물어본다. 20세 이하면 raise를 일으켜 입장불가를 나타내라\n",
    "try:\n",
    "    age = int(input(\"당신의 나이는 몇 살 입니까? \"))\n",
    "    if age <= 20:\n",
    "        raise Exception(\"미성년자는 입장하실 수 없습니다.\")\n",
    "    else:\n",
    "        print(\"입장이 가능합니다. 즐거운 시간 보내세요.\")\n",
    "except Exception as e:\n",
    "    print(\"입장 불가 나이입니다. %s\" %e)"
   ]
  }
 ],
 "metadata": {
  "kernelspec": {
   "display_name": "Python 3",
   "language": "python",
   "name": "python3"
  },
  "language_info": {
   "codemirror_mode": {
    "name": "ipython",
    "version": 3
   },
   "file_extension": ".py",
   "mimetype": "text/x-python",
   "name": "python",
   "nbconvert_exporter": "python",
   "pygments_lexer": "ipython3",
   "version": "3.7.9"
  }
 },
 "nbformat": 4,
 "nbformat_minor": 2
}
