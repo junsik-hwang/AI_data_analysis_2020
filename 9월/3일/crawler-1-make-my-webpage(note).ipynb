{
 "cells": [
  {
   "cell_type": "markdown",
   "metadata": {},
   "source": [
    "## 노트패드++다운로드\n",
    "> ### \"메모장의 업그레이드판\"\n",
    "![](https://upload.wikimedia.org/wikipedia/commons/0/0f/Notepad%2B%2B_Logo.png)\n",
    "\n",
    "- 텍스트 편집기(TextEdit)의 한 종류\n",
    "    - sublime text, atom, brackets 등이 있음\n",
    "- 언어마다 하이라이팅\n",
    "- 블록 구별 가능\n",
    "- 가볍고 편리한 코드 편집\n",
    "![](https://notepad-plus-plus.org/assets/images/notepad4ever.gif)\n",
    "\n",
    "\n"
   ]
  },
  {
   "cell_type": "markdown",
   "metadata": {},
   "source": [
    "[download](https://github.com/notepad-plus-plus/notepad-plus-plus/releases/download/v7.8.8/npp.7.8.8.Installer.x64.exe)"
   ]
  },
  {
   "cell_type": "markdown",
   "metadata": {},
   "source": [
    "> 지난 시간에 HTML구조를 파악하여 크롤링 맛보기를 보여드렸다.\n",
    "\n",
    "# contents\n",
    "\n",
    "### - 주로 사용되는 태그를 이용해 HTML 만들어보기\n",
    "\n",
    "> 만들어보면 구조가 파악된다.\n",
    "\n",
    "> 데이터 과학에 적합한 언어인 파이썬이 있듯, 웹에 적합한 언어는 \n",
    "\n",
    "> 한 가지 언어를 배우기에는 오랜 시간이 걸린다.\n",
    "\n",
    "> 우리는 크롤링을 위한 것만 배울 것임"
   ]
  },
  {
   "cell_type": "markdown",
   "metadata": {},
   "source": [
    "## html 문법\n",
    "`<태그이름> 내용 </태그이름>`\n",
    "\n",
    "- 태그는 <>(꺾쇠표)로 열고 닫는다\n",
    "- `<br>`같은 줄바꿈 태그는 예외\n",
    "![](http://tcpschool.com/lectures/img_html_tag_structure.png)\n",
    "## 주로 사용되는 태그"
   ]
  },
  {
   "cell_type": "markdown",
   "metadata": {},
   "source": [
    "준비: 노트패드++ -> 새 파일 -> 언어(L) -> HTML"
   ]
  },
  {
   "cell_type": "markdown",
   "metadata": {},
   "source": [
    "> 일단 뼈대를 만들어놓고 시작하자\n",
    "\n",
    "![](http://tcpschool.com/lectures/img_html_basic_structure.png)\n",
    "```\n",
    "<html>\n",
    "\t<head>\n",
    "\t<body>\n",
    "\t</body>\n",
    "</html>\n",
    "```"
   ]
  },
  {
   "cell_type": "markdown",
   "metadata": {},
   "source": [
    "### h\n",
    "- 헤더 태그, 헤더 1 ~ 6호\n",
    "- 크기별 \n",
    "\n",
    "```html\n",
    "\t\t\t<h1>h1태그의 글씨 크기</h1>\n",
    "\t\t\t<h6>h1태그의 글씨 크기</h6>\n",
    "\n",
    "```"
   ]
  },
  {
   "cell_type": "markdown",
   "metadata": {},
   "source": [
    "### p\n",
    "- \"paragraph\"\n",
    "- HTML 단락\n",
    "-  태그\n",
    "```html\n",
    "    <p align=\"center\"> 제 이름은 <br>p태그입니다 </p>\n",
    "```\n",
    "> br태그는 한 칸 띄움\n",
    "\n",
    "### a\n",
    "- 하이퍼링크를 만드는 태그\n",
    "- 문서 또는 웹사이트 링크 생성\n",
    "- `href`속성을 가짐\n",
    "\n",
    "```html\n",
    "    <p align=\"center\"> 제 이름은 <br>p태그입니다 </p>\n",
    "    <a href=\"https://google.com\">XX신님의 링크</a><br>\n",
    "```"
   ]
  },
  {
   "cell_type": "markdown",
   "metadata": {},
   "source": [
    "### iframe\n",
    "- HTML 인라인 프레임\n",
    "- HTML안에 또 다른 HTML\n",
    "- 로도 가져올 수 있음\n",
    "\n",
    "```html\n",
    "\t\t\t\t<center>\n",
    "                    <iframe width=\"90%\" height=\"315\" src=\"https://www.zigbang.com/search/map?lat=37.54906&amp;lng=126.9705&amp;zoom=8&amp;GGKW=google\"></iframe>\n",
    "                    <iframe width=\"560\" height=\"315\" src=\"https://www.youtube.com/embed/cn9GkolmIn4\" frameborder=\"0\" allow=\"autoplay; encrypted-media\" allowfullscreen></iframe>\n",
    "                </center>\n",
    " \n",
    "```"
   ]
  },
  {
   "cell_type": "markdown",
   "metadata": {},
   "source": [
    "### div\n",
    "- \"division\" → 구획, 부분\n",
    "- HTML 문서의 구획 요소 중 가장 흔히 사용하는 것\n",
    "> 화면을 좀 나눠서 사용하고 싶어\n",
    "\n",
    "> 이번에는 구분할 수 있는  이름을 넣어주자\n",
    "\n",
    "```html\n",
    "\t\t<div class=\"firstdiv\" style=\"height: auto; width: 100%; border:5px solid gold;\"> \"아래와 구분 지을거야\"\n",
    "            <h1 class=\"r\">h1태그의 글씨 크기</h1>\n",
    "            <h6>h6태그의 글씨 크기</h6>\n",
    "        </div>\n",
    "\n",
    "         <div class=\"seconddiv\">   \n",
    "            <p align=\"center\"> 제 이름은 <br>p태그입니다 </p>\n",
    "            <a href=\"https://google.com\">XX신님의 링크</a><br>\n",
    "                <center>\n",
    "                    <iframe width=\"90%\" height=\"315\" src=\"https://www.zigbang.com/search/map?lat=37.54906&amp;lng=126.9705&amp;zoom=8&amp;GGKW=google\"></iframe>\n",
    "                    <iframe width=\"560\" height=\"315\" src=\"https://www.youtube.com/embed/cn9GkolmIn4\" frameborder=\"0\" allow=\"autoplay; encrypted-media\" allowfullscreen></iframe>\n",
    "                </center>\n",
    "         </div>\n",
    "\n",
    "```"
   ]
  },
  {
   "cell_type": "markdown",
   "metadata": {},
   "source": [
    "### ul\n",
    "- unordered list(ol->ordered list)\n",
    "\n",
    "```html\n",
    "\t\t\t<h3>2호선 주요역</h3>\n",
    "\t\t\t\t<ul style=\"list-style-type:square;\">\n",
    "\t\t\t\t\t<li >강남역</li>    \n",
    "\t\t\t\t\t<li>교대역</li>\n",
    "\t\t\t\t\t<li>사당역</li>\n",
    "\t\t\t\t\t<li>홍대입구역</li>\n",
    "\t\t\t\t\t<li>신촌역</li>\n",
    "\t\t\t\t</ul>\n",
    "\t\t\n",
    "```"
   ]
  },
  {
   "cell_type": "markdown",
   "metadata": {},
   "source": [
    "### table\n",
    "- 표를 나타내는 태그\n",
    "- 내부에 행을 나타내는  셀을 나타내는  태그 등이 사용됨\n",
    "\n",
    "### tr\n",
    "- 표 내부에서 행을 나타내는 태그\n",
    "\n",
    "### th\n",
    "- \"\"\n",
    "- 헤더 칸(cell)을 나타내는 태그\n",
    "- 기본 스타일: 중앙 정렬(text-align:center), 두껍게(font-weight:bold)\n",
    "\n",
    "### td\n",
    "- \"\"\n",
    "- 일반적인 칸(cell)을 나타내는 태그\n",
    "- 기본 스타일: 왼쪽 정렬(text-align:left)\n",
    "\n",
    "```html\n",
    "\t\t\t<table width=\"500\" border=\"1\" align=\"center\">\n",
    "\t\t\t  <tr>\n",
    "\t\t\t\t<th>이름</th>\n",
    "\t\t\t\t<th>나이</th>\n",
    "\t\t\t\t<th>점수</th>\n",
    "\t\t\t  <tr>\n",
    "\t\t\t\t<td>철수</td>\n",
    "\t\t\t\t<td>23세</td>\n",
    "\t\t\t\t<td>70점</td>\n",
    "\t\t\t  </tr>\n",
    "\t\t\t  <tr>\n",
    "\t\t\t\t<td>영희</td>\n",
    "\t\t\t\t<td>21세</td>\n",
    "\t\t\t\t<td>89점</td>\n",
    "\t\t\t  </tr>\n",
    "\t\t\t</table>\t\n",
    "```"
   ]
  },
  {
   "cell_type": "markdown",
   "metadata": {},
   "source": [
    "### 완성 -> 바탕화면에 저장"
   ]
  },
  {
   "cell_type": "markdown",
   "metadata": {},
   "source": [
    "완성코드"
   ]
  },
  {
   "cell_type": "markdown",
   "metadata": {},
   "source": [
    "```html\n",
    "\n",
    "<html>\n",
    "    <head>\n",
    "        <title>크롤링용 홈페이지 만들기</title>\n",
    "    </head>\n",
    "    <body>\n",
    "\t\t<div class=\"firstdiv\" style=\"height: auto; width: 100%; border:5px solid gold;\"> \"아래와 구분 지을거야\"\n",
    "\t\t\t<h1 class=\"r\">h1태그의 글씨 크기</h1>\n",
    "\t\t\t<h6>h6태그의 글씨 크기</h6>\n",
    "\t\t\t\t<h3>2호선 주요역</h3>\n",
    "                <ul style=\"list-style-type:square;\">\n",
    "                    <li id=\"abc\">강남역</li>    \n",
    "                    <li>교대역</li>\n",
    "                    <li>사당역</li>\n",
    "                    <li>홍대입구역</li>\n",
    "                    <li>신촌역</li>\n",
    "                </ul>\n",
    "\t\t\t            <table width=\"500\" border=\"1\" align=\"center\">\n",
    "              <tr>\n",
    "                <th>이름</th>\n",
    "                <th>나이</th>\n",
    "                <th>점수</th>\n",
    "              </tr>\n",
    "              <tr>\n",
    "                <td>철수</td>\n",
    "                <td>23세</td>\n",
    "                <td>70점</td>\n",
    "              </tr>\n",
    "              <tr>\n",
    "                <td>영희</td>\n",
    "                <td>21세</td>\n",
    "                <td>89점</td>\n",
    "              </tr>\n",
    "            </table>    \n",
    "\t\t</div>\n",
    "          \n",
    "         <div class=\"seconddiv\">   \n",
    "\t\t\t<p align=\"center\"> 제 이름은 <br>p태그입니다 </p>\n",
    "\t\t\t<a href=\"https://google.com\">XX신님의 링크</a><br>\n",
    "\t\t\t\t<center>\n",
    "\t\t\t\t\t<iframe width=\"90%\" height=\"315\" src=\"https://www.zigbang.com/search/map?lat=37.54906&amp;lng=126.9705&amp;zoom=8&amp;GGKW=google\"></iframe>\n",
    "\t\t\t\t\t<iframe width=\"560\" height=\"315\" src=\"https://www.youtube.com/embed/cn9GkolmIn4\" frameborder=\"0\" allow=\"autoplay; encrypted-media\" allowfullscreen></iframe>\n",
    "\t\t\t\t</center>\n",
    "\t\t\t\t\n",
    "\n",
    "         </div>\t\n",
    "\t\n",
    "    </body>\n",
    "</html>\n",
    "\n",
    "\n",
    "```"
   ]
  },
  {
   "cell_type": "code",
   "execution_count": null,
   "metadata": {},
   "outputs": [],
   "source": []
  }
 ],
 "metadata": {
  "kernelspec": {
   "display_name": "Python 3",
   "language": "python",
   "name": "python3"
  },
  "language_info": {
   "codemirror_mode": {
    "name": "ipython",
    "version": 3
   },
   "file_extension": ".py",
   "mimetype": "text/x-python",
   "name": "python",
   "nbconvert_exporter": "python",
   "pygments_lexer": "ipython3",
   "version": "3.8.3"
  }
 },
 "nbformat": 4,
 "nbformat_minor": 2
}
