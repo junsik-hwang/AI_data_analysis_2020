{
 "cells": [
  {
   "cell_type": "markdown",
   "metadata": {},
   "source": [
    "# 크롤러 도구들\n",
    "\n",
    "- ###  - HTTP 통신을 위해 사용하는 라이브러리\n",
    "    - HTTP: URL에 어떤 것을 검색하면 웹서버에 요청(request)이 되어 답(response)이 오는 것\n",
    "- ###  - 크롤러 프레임워크\n",
    "    - 다양하고 복잡한 크롤링을 할 때 사용, 개인 용도로 부적합(다른 도구를 더 추천)\n",
    "![](http://gabrielelanaro.github.io/public/post_resources/part1_scraping/spider.png)\n",
    "- ###  - HTML Parser(구문 분석) 라이브러리\n",
    "    - HTML을 파이썬이 이해할 수 있는 구조로 변환\n",
    "- ##  - 웹개발 테스팅 도구 \n",
    "    - 개발한 것들이 어떤 환경(여러 웹브라우저, 여러 운영체제)에서도 잘 돌아가는지 테스팅 "
   ]
  },
  {
   "cell_type": "markdown",
   "metadata": {},
   "source": [
    "![](https://d1sr4ybm5bj1wl.cloudfront.net/img/2017-01-25-HowToMakeWebCrawler-With-Selenium/selenium1.jpg)\n",
    "![](https://blog.coderifleman.com/assets/img/2016/e2e-test-and-nightwatch/e2e_and_nightwatch.02.png)\n"
   ]
  },
  {
   "cell_type": "markdown",
   "metadata": {},
   "source": [
    "> ## \"어떤 것을 써도 상관없지만 저는 Selenium을 씁니다.\""
   ]
  },
  {
   "cell_type": "markdown",
   "metadata": {},
   "source": [
    "# 왜 Selenium인가?"
   ]
  },
  {
   "cell_type": "markdown",
   "metadata": {},
   "source": [
    "[직방 리뷰](https://www.zigbang.com/apt/complex/5942)\n",
    "- 리뷰를 가져오려는데 HTML이 변경되지 않는다.\n",
    "\n",
    "[스타벅스 매장위치](https://www.istarbucks.co.kr/store/store_map.do)\n",
    "\n",
    "- 메뉴(퀵 검색, 지역 검색, My매장)를 아무리 눌러봐도 HTML이 변경되지 않는다."
   ]
  },
  {
   "cell_type": "markdown",
   "metadata": {},
   "source": [
    "----\n",
    "## webpage 구성 요소\n",
    "\n",
    "#### HTML\n",
    "- ``, 기본적인 구조를 설계\n",
    "\n",
    "#### CSS\n",
    "- ``, Cascading Style Sheet약자로 웹 스타일 설정하는 언어\n",
    "\n",
    "#### JavaScript\n",
    "- ``, 웹 페이지의 동작을 사용하기 위한 언어\n",
    "----"
   ]
  },
  {
   "cell_type": "markdown",
   "metadata": {},
   "source": [
    "# Selenium\n",
    "\n",
    "### 장점\n",
    "- 많은 홈페이지들이 자바스크립트를 사용\n",
    "> requests같은 라이브러리는 자바스크립트를 분석해야 한다.(검사에서 네트워크로 가서 JS파일들을 보자)\n",
    "\n",
    "> ## \"부장님이 빨리 결과 달라는데 어느세월에 WEB을 공부하나...난 웹 프로그래머가 아니다.\"\n",
    "\n",
    "- 웹 브라우저를 제어 가능\n",
    "> Selenium을 사용하면 우리 눈으로 보는 것처럼 제어가 가능하다.(클릭, 키보드 타이핑 등)\n",
    "\n",
    "[중고생도 ‘매크로’ 암표 사재기](https://www.youtube.com/watch?v=Mo_rwWTB5Dk)\n",
    "\n",
    "\n",
    "### 단점\n",
    "- 속도가 느리다\n",
    "> 다른 도구 쓸 때 sleep(시간 대기)생각하면 그 놈이 그 놈, `빠른 것 + sleep(100) = 느린 것` 결국 시간은 같아짐\n",
    "\n",
    "- parser의 기능이 부족하다\n",
    "> 왠만한 건 다 되지만 아주 극히 드문 케이스로 BeautifulSoup을 써야하는 경우가 있음"
   ]
  },
  {
   "cell_type": "markdown",
   "metadata": {},
   "source": [
    "# 크롤링 순서(코드 관점)\n",
    "\n",
    "1. 사용할 도구 설치\n",
    "2. 모듈 \n",
    "3. 웹 드라이버 실행\n",
    "4. 크롤링할 웹 페이지를 로드\n",
    "5. 가져올 정보의 웹 구조를 파악\n",
    "6. 를 이용하여 정보를 획득\n",
    "7. 정보를 사용할 수 있게 정제\n",
    "8. 정보를 저장소(DB/파일)에 저장\n",
    "9. 자동화가 필요하면 "
   ]
  },
  {
   "cell_type": "markdown",
   "metadata": {},
   "source": [
    "## 1. 사용할 도구 설치"
   ]
  },
  {
   "cell_type": "markdown",
   "metadata": {},
   "source": [
    "### 요구 사항\n",
    "\n",
    "- [크롬 브라우저](https://www.google.co.kr/chrome/index.html)\n",
    "- [크롬 드라이버](http://chromedriver.chromium.org/downloads)\n",
    "> 다른 부라우저를 사용해도 가능하지만 크롬으로 진행"
   ]
  },
  {
   "cell_type": "markdown",
   "metadata": {},
   "source": [
    "크롬 -> 설정 -> chrome 정보에 버전과 동일한 크롬 드라이버 버전을 받아야 함"
   ]
  },
  {
   "cell_type": "markdown",
   "metadata": {},
   "source": [
    " 셀레니움(` install selenium`) *오류 발생(permission error)시, 명령 프롬프트 관리자 권한으로 실행"
   ]
  },
  {
   "cell_type": "markdown",
   "metadata": {},
   "source": [
    "## 2. 모듈 임포트"
   ]
  },
  {
   "cell_type": "code",
   "execution_count": 3,
   "metadata": {},
   "outputs": [],
   "source": [
    "from selenium import webdriver"
   ]
  },
  {
   "cell_type": "markdown",
   "metadata": {},
   "source": [
    "## 3. 웹 드라이버 실행"
   ]
  },
  {
   "cell_type": "markdown",
   "metadata": {},
   "source": [
    "- 다운 받은 크롬 드라이버를 현재 작업 디렉토리(CWD)에 넣어주자"
   ]
  },
  {
   "cell_type": "code",
   "execution_count": 4,
   "metadata": {},
   "outputs": [
    {
     "data": {
      "text/plain": [
       "'D:\\\\SBA'"
      ]
     },
     "execution_count": 4,
     "metadata": {},
     "output_type": "execute_result"
    }
   ],
   "source": [
    "import os\n",
    "os.getcwd()"
   ]
  },
  {
   "cell_type": "code",
   "execution_count": 8,
   "metadata": {},
   "outputs": [],
   "source": [
    "driver = webdriver.Chrome('./chromedriver.exe')\n",
    "#driver = webdriver.Firefox()"
   ]
  },
  {
   "cell_type": "code",
   "execution_count": 7,
   "metadata": {},
   "outputs": [],
   "source": [
    "driver.close()"
   ]
  },
  {
   "cell_type": "markdown",
   "metadata": {},
   "source": [
    "## 4. 크롤링할 웹 페이지를 로드"
   ]
  },
  {
   "cell_type": "code",
   "execution_count": 10,
   "metadata": {},
   "outputs": [],
   "source": [
    "driver.get(r\"D:/SBA/my_html.html\")"
   ]
  },
  {
   "cell_type": "code",
   "execution_count": 12,
   "metadata": {},
   "outputs": [],
   "source": [
    "driver.get('https://new.www.naver.com/')\n",
    "driver.implicitly_wait(2) # 브라우저가 HTML 띄우는데 시간이 소요됨 - 기다려주자"
   ]
  },
  {
   "cell_type": "code",
   "execution_count": 13,
   "metadata": {},
   "outputs": [],
   "source": [
    "driver.get(r\"D:/SBA/my_html.html\")"
   ]
  },
  {
   "cell_type": "code",
   "execution_count": 14,
   "metadata": {
    "scrolled": true
   },
   "outputs": [
    {
     "data": {
      "text/plain": [
       "True"
      ]
     },
     "execution_count": 14,
     "metadata": {},
     "output_type": "execute_result"
    }
   ],
   "source": [
    "driver.save_screenshot(\"./my_html_screenshot.png\")"
   ]
  },
  {
   "cell_type": "markdown",
   "metadata": {},
   "source": [
    "> 우리가 만든 웹의 내용들을 가져와 보자"
   ]
  },
  {
   "cell_type": "markdown",
   "metadata": {},
   "source": [
    "## 5. 가져올 정보의 웹 구조를 파악"
   ]
  },
  {
   "cell_type": "markdown",
   "metadata": {},
   "source": [
    "## 6. 선택자를 이용하여 정보를 획득"
   ]
  },
  {
   "cell_type": "markdown",
   "metadata": {},
   "source": [
    "| 서식        | 설명                 |\n",
    "| --------- | ------------------ |\n",
    "| *         | 모든 요소를 선택합니다       |\n",
    "| <태그이름>    | 태그 이름을 기반으로 선택합니다  |\n",
    "| **.**<클래스 이름> | 클래스 이름을 기반으로 선택합니다 |\n",
    "| **#**<id 이름>  | id 속성을 기반으로 선택합니다  |"
   ]
  },
  {
   "cell_type": "markdown",
   "metadata": {},
   "source": [
    "- css selector를 이용\n",
    "> 제 이름은 p 태그입니다를 가져와보자\n"
   ]
  },
  {
   "cell_type": "code",
   "execution_count": 16,
   "metadata": {},
   "outputs": [
    {
     "name": "stdout",
     "output_type": "stream",
     "text": [
      "제 이름은\n",
      "p태그입니다\n"
     ]
    }
   ],
   "source": [
    "print(driver.find_element_by_css_selector(\"div.seconddiv > p\").text)"
   ]
  },
  {
   "cell_type": "markdown",
   "metadata": {},
   "source": [
    "- xpath를 이용\n",
    "> 링크의 이름과 링크를 가져와보자"
   ]
  },
  {
   "cell_type": "code",
   "execution_count": 17,
   "metadata": {},
   "outputs": [
    {
     "data": {
      "text/plain": [
       "'XX신님의 링크'"
      ]
     },
     "execution_count": 17,
     "metadata": {},
     "output_type": "execute_result"
    }
   ],
   "source": [
    "driver.find_element_by_xpath(\"/html//div[2]/a\").text"
   ]
  },
  {
   "cell_type": "code",
   "execution_count": 21,
   "metadata": {},
   "outputs": [
    {
     "data": {
      "text/plain": [
       "'https://google.com/'"
      ]
     },
     "execution_count": 21,
     "metadata": {},
     "output_type": "execute_result"
    }
   ],
   "source": [
    "driver.find_element_by_xpath(\"/html/body/div[2]/a\").get_attribute(\"href\")"
   ]
  },
  {
   "cell_type": "code",
   "execution_count": 22,
   "metadata": {},
   "outputs": [
    {
     "data": {
      "text/plain": [
       "'https://google.com/'"
      ]
     },
     "execution_count": 22,
     "metadata": {},
     "output_type": "execute_result"
    }
   ],
   "source": [
    "driver.find_element_by_link_text(\"XX신님의 링크\").get_attribute(\"href\")"
   ]
  },
  {
   "cell_type": "markdown",
   "metadata": {},
   "source": [
    "- 클래스를 이용\n",
    "> h1태그의 글씨 그기를 가져와보자"
   ]
  },
  {
   "cell_type": "code",
   "execution_count": 23,
   "metadata": {
    "scrolled": true
   },
   "outputs": [
    {
     "data": {
      "text/plain": [
       "'h1태그의 글씨 크기'"
      ]
     },
     "execution_count": 23,
     "metadata": {},
     "output_type": "execute_result"
    }
   ],
   "source": [
    "driver.find_element_by_class_name(\"r\").text"
   ]
  },
  {
   "cell_type": "markdown",
   "metadata": {},
   "source": [
    "> 유투브를 클릭하게 하자"
   ]
  },
  {
   "cell_type": "code",
   "execution_count": 24,
   "metadata": {},
   "outputs": [],
   "source": [
    "driver.find_element_by_xpath(\"/html/body/div[2]/center/iframe[2]\").click()"
   ]
  },
  {
   "cell_type": "markdown",
   "metadata": {},
   "source": [
    "- id 속성을 이용\n",
    "> 강남역을 가져와보자"
   ]
  },
  {
   "cell_type": "code",
   "execution_count": 28,
   "metadata": {},
   "outputs": [
    {
     "data": {
      "text/plain": [
       "'강남역'"
      ]
     },
     "execution_count": 28,
     "metadata": {},
     "output_type": "execute_result"
    }
   ],
   "source": [
    "driver.find_element_by_xpath(\"/html/body/div[1]/ul/li[1]\").text"
   ]
  },
  {
   "cell_type": "markdown",
   "metadata": {},
   "source": [
    "> 젤 아래 표의 컬럼명을 가져와보자"
   ]
  },
  {
   "cell_type": "code",
   "execution_count": 41,
   "metadata": {},
   "outputs": [
    {
     "data": {
      "text/plain": [
       "['이름', '나이', '점수']"
      ]
     },
     "execution_count": 41,
     "metadata": {},
     "output_type": "execute_result"
    }
   ],
   "source": [
    "my_col_temp = driver.find_elements_by_css_selector(\"table > tbody > tr:nth-child(1) > th\")\n",
    "\n",
    "my_col = []\n",
    "for i in my_col_temp:\n",
    "    my_col.append(i.text)\n",
    "    \n",
    "my_col"
   ]
  },
  {
   "cell_type": "markdown",
   "metadata": {},
   "source": [
    "## 7. 정보를 사용할 수 있게 정제"
   ]
  },
  {
   "cell_type": "markdown",
   "metadata": {},
   "source": [
    "## 8. 정보를 저장소(DB/파일)에 저장"
   ]
  },
  {
   "cell_type": "code",
   "execution_count": 8,
   "metadata": {
    "collapsed": true
   },
   "outputs": [],
   "source": [
    "import pandas as pd\n",
    "from sqlalchemy import create_engine"
   ]
  },
  {
   "cell_type": "markdown",
   "metadata": {},
   "source": [
    "> pymysql도 많이 쓰이지만 sqlalchemy가 더 편해요."
   ]
  },
  {
   "cell_type": "markdown",
   "metadata": {
    "collapsed": true
   },
   "source": [
    "```python\n",
    "params = {\n",
    "    'user': 'abc@abc',\n",
    "    'pass': '!)29dp4ㄹㅇdj55dlㄹㅇ',\n",
    "    'host': 'abc-db.mysql.database.azure.com',\n",
    "    'port': '1234',\n",
    "    'schema': 'abc_db?charset=utf8',\n",
    "}\n",
    "engine = create_engine('mysql+mysqldb://{user}:{pass}@{host}:{port}/{schema}'.format(**params), echo=False)\n",
    ".\n",
    ".\n",
    ".\n",
    "# <<<<<<<< your code >>>>>>>>>\n",
    ".\n",
    ".\n",
    "\n",
    ".\n",
    "contents = pd.DataFrame(contents,columns=['contents',])\n",
    "\n",
    "final_df = new_df.join(contents, how='left')\n",
    "final_df.to_sql('tb_fn',con=engine, if_exists='append', index=False)\n",
    "```"
   ]
  },
  {
   "cell_type": "code",
   "execution_count": 42,
   "metadata": {},
   "outputs": [],
   "source": [
    "driver.close() #드라이버 종료"
   ]
  },
  {
   "cell_type": "markdown",
   "metadata": {},
   "source": [
    "## 9. 자동화가 필요하면 자동화\n",
    "![](./KakaoTalk_20180620_173211072.png)\n",
    "\n",
    "- 데이터 수집 실행 기간에 따라 주기적으로 해야할 경우 사용\n",
    "- 윈도우 ``\n",
    "- Linux계열 `b`\n",
    "### 장점\n",
    " 1. 정기적인 크롤링 실행\n",
    " 2. 로그를 저장하여 제대로 동작하는지 판별\n"
   ]
  }
 ],
 "metadata": {
  "kernelspec": {
   "display_name": "Python 3",
   "language": "python",
   "name": "python3"
  },
  "language_info": {
   "codemirror_mode": {
    "name": "ipython",
    "version": 3
   },
   "file_extension": ".py",
   "mimetype": "text/x-python",
   "name": "python",
   "nbconvert_exporter": "python",
   "pygments_lexer": "ipython3",
   "version": "3.8.3"
  }
 },
 "nbformat": 4,
 "nbformat_minor": 2
}
