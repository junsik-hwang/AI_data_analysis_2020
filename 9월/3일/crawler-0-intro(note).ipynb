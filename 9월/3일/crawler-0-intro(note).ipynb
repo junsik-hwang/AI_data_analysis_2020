{
 "cells": [
  {
   "cell_type": "markdown",
   "metadata": {},
   "source": [
    "> ### 데이터 분석을 위한 재료가 필요하다. 그 재료를 모으는 일이 데이터 수집"
   ]
  },
  {
   "cell_type": "markdown",
   "metadata": {},
   "source": [
    "# 데이터 수집의 방법\n",
    "1. 장인정신으로 한 땀 한 땀 필요한 데이터를 복사 붙여넣기 한다.\n",
    "2. 회사의 DB, 인터넷에서 다운로드 한다.\n",
    "3. 제공하는 API를 통해서 데이터를 일정량 가져온다.  \n",
    "    *API:https://www.astera.com/wp-content/uploads/2020/01/rest-768x580.png\n",
    "3. 웹에서 데이터를 직접 긁어온다."
   ]
  },
  {
   "cell_type": "markdown",
   "metadata": {},
   "source": [
    "# 데이터 수집의 단계\n",
    "1. 데이터 선정\n",
    "    - 목적에 맞는 데이터를 찾기\n",
    "2. 데이터 수집\n",
    "    - 문제없이 데이터를 수집\n",
    "3. 데이터 정리\n",
    "    - 저장이 가능한 수준으로 정리\n",
    "4. 데이터 저장\n",
    "    - DB/파일 형태로 저장"
   ]
  },
  {
   "cell_type": "markdown",
   "metadata": {},
   "source": [
    "# scraping vs crawling\n",
    "스크랩핑(scraping) : 한 화면의 데이터를 수집(단발성 측면)\n",
    "\n",
    "크롤링(Crawling) : 자동화된 방법으로 데이터를 수집(자동화 측면)"
   ]
  },
  {
   "cell_type": "markdown",
   "metadata": {},
   "source": [
    "[네이버 영화 평점](https://movie.naver.com/movie/point/af/list.nhn?st=mcode&sword=149236&target=after)"
   ]
  },
  {
   "cell_type": "markdown",
   "metadata": {},
   "source": [
    "> 1페이지 리뷰 수집은 스크랩핑, 여러 페이지 리뷰 수집은 크롤링"
   ]
  },
  {
   "cell_type": "markdown",
   "metadata": {},
   "source": [
    "# 수집 데이터의 종류\n",
    "- 텍스트\n",
    "- 테이블\n",
    "- JSON(JavaScript Object Notation)\n",
    "- XML\n",
    "- 이미지 등\n",
    "\n"
   ]
  },
  {
   "cell_type": "markdown",
   "metadata": {},
   "source": [
    "# 웹의 구조"
   ]
  },
  {
   "cell_type": "markdown",
   "metadata": {},
   "source": [
    "- 웹은 HTML(HyperText Markup Language)로 구성\n",
    "\n",
    "- HyperText의 뜻은 링크(문자)에 의해 이동이 가능하다는 말"
   ]
  },
  {
   "cell_type": "markdown",
   "metadata": {},
   "source": [
    "- HTML -> 웹 브라우저 -> 사용자"
   ]
  },
  {
   "cell_type": "markdown",
   "metadata": {},
   "source": [
    "- `페이지 소스 보기` vs `검사`"
   ]
  },
  {
   "cell_type": "markdown",
   "metadata": {},
   "source": [
    "> 인터넷 화면에서 오른쪽 클릭해서 `페이지 소스 보기`하면 HTML제작자가 웹 브라우저에 HTML을 전달한 원본이 나온다.\n",
    "\n",
    "> 웹 브라우저(Chrome, Explorer, Firefox 등)에서 HTML을 읽어 사용자가 알아볼 수 있는 화면으로 만들어 준다.\n",
    "\n",
    "> 따라서 웹 브라우저마다 똑같은 HTML이라도 조금씩 다른화면이 나온다."
   ]
  },
  {
   "cell_type": "markdown",
   "metadata": {},
   "source": [
    "`페이지 소스 보기`와 `검사`의 내용이 조금씩 차이가 있다.\n",
    "\n",
    "`는 HTML원본, ``는 웹 브라우저가 제공하는 기능"
   ]
  },
  {
   "cell_type": "markdown",
   "metadata": {},
   "source": [
    "### DOM을 이용한 HTML구조\n",
    "- DOM(Document Object Model), 계층구조로 표현한다는 뜻\n",
    "- 인터넷 창에서 `검사`를 눌러보자"
   ]
  },
  {
   "cell_type": "markdown",
   "metadata": {},
   "source": [
    "![](http://cfile24.uf.tistory.com/image/247BF84854F55CE42C04BD)"
   ]
  },
  {
   "cell_type": "markdown",
   "metadata": {},
   "source": [
    "![](http://tcpschool.com/lectures/img_html_basic_structure.png)"
   ]
  },
  {
   "cell_type": "markdown",
   "metadata": {},
   "source": [
    "![](http://tcpschool.com/lectures/img_html_tag_structure.png)"
   ]
  },
  {
   "cell_type": "markdown",
   "metadata": {},
   "source": [
    "- 맛보기"
   ]
  },
  {
   "cell_type": "code",
   "execution_count": null,
   "metadata": {},
   "outputs": [],
   "source": [
    "# !pip install beautifulsoup4\n",
    "# !pip install requests"
   ]
  },
  {
   "cell_type": "code",
   "execution_count": 1,
   "metadata": {
    "scrolled": true
   },
   "outputs": [
    {
     "name": "stdout",
     "output_type": "stream",
     "text": [
      "200\n"
     ]
    },
    {
     "data": {
      "text/plain": [
       "'너무 재밌었어요 !♡♡♡'"
      ]
     },
     "execution_count": 1,
     "metadata": {},
     "output_type": "execute_result"
    }
   ],
   "source": [
    "import requests\n",
    "from bs4 import BeautifulSoup\n",
    "url = \"https://movie.naver.com/movie/point/af/list.nhn?st=mcode&sword=154285&target=after\"\n",
    "html =  requests.get(url)\n",
    "print(html.status_code)\n",
    "html = html.text\n",
    "soup = BeautifulSoup(html, 'html.parser')\n",
    "soup.select(\"td.title>br\")[1].next_sibling.strip()"
   ]
  },
  {
   "cell_type": "code",
   "execution_count": 68,
   "metadata": {},
   "outputs": [
    {
     "name": "stdout",
     "output_type": "stream",
     "text": [
      "200\n",
      "['진짜 쥬라기 월드를 향한 포석', '너무 재밌었어요 !♡♡♡', '넘재밌음. 몇번봐도 잘만들었음.', '재미 없어요.', '20OOO이니깐 고2때 본건데, 와 옆에 애새끼들 떠드는것 때문에 보는 분위기 다조졌는거 어직도 기억난다. 부모들아 아자슥들 관리좀 해라. 글고 얘들아 니네들도 좀 입 쳐 다물고. 시끄러벘다.', '공원은 어쩌다 월드로 와이드해졌는가 - 하나도 새롭지 않은 대신 퍽 착실한 리뉴얼', '', '최악의 빌런은 쬐끄만꼬맹이. 이래서 애들이 싫어', '블루 다시 보니 너무 반갑~! 델타,찰스,에코 모두 너무 좋은데~ 인간과 공룡중에 공룡을 택한 소녀의 선택은 탁월했다!', '']\n"
     ]
    }
   ],
   "source": [
    "import requests\n",
    "from bs4 import BeautifulSoup\n",
    "url = \"https://movie.naver.com/movie/point/af/list.nhn?st=mcode&sword=154285&target=after\"\n",
    "html =  requests.get(url)\n",
    "print(html.status_code)\n",
    "html = html.text\n",
    "soup = BeautifulSoup(html, 'html.parser')\n",
    "temps = []\n",
    "for i in soup.select(\"td.title>br\"):\n",
    "    temp=i.next_sibling.strip()\n",
    "    temps.append(temp)\n",
    "print(temps)"
   ]
  },
  {
   "cell_type": "code",
   "execution_count": 69,
   "metadata": {
    "scrolled": true
   },
   "outputs": [
    {
     "name": "stdout",
     "output_type": "stream",
     "text": [
      "진짜 쥬라기 월드를 향한 포석\n",
      "너무 재밌었어요 !♡♡♡\n",
      "넘재밌음. 몇번봐도 잘만들었음.\n",
      "재미 없어요.\n",
      "20OOO이니깐 고2때 본건데, 와 옆에 애새끼들 떠드는것 때문에 보는 분위기 다조졌는거 어직도 기억난다. 부모들아 아자슥들 관리좀 해라. 글고 얘들아 니네들도 좀 입 쳐 다물고. 시끄러벘다.\n",
      "공원은 어쩌다 월드로 와이드해졌는가 - 하나도 새롭지 않은 대신 퍽 착실한 리뉴얼\n",
      "\n",
      "최악의 빌런은 쬐끄만꼬맹이. 이래서 애들이 싫어\n",
      "블루 다시 보니 너무 반갑~! 델타,찰스,에코 모두 너무 좋은데~ 인간과 공룡중에 공룡을 택한 소녀의 선택은 탁월했다!\n",
      "\n"
     ]
    }
   ],
   "source": [
    "for i in temps:\n",
    "    print(i)"
   ]
  },
  {
   "cell_type": "markdown",
   "metadata": {},
   "source": [
    "----"
   ]
  },
  {
   "cell_type": "markdown",
   "metadata": {},
   "source": [
    "# 크롤링 주의 사항\n",
    "- 지적재산권 확인\n",
    "    - 사례, [잡코리아 정보를 크롤링한 사람인](https://byline.network/2016/02/1-64/)    \n",
    "\n",
    "\n",
    "- 사이트의 부담\n",
    "    - ip차단(403 Error)\n",
    "    -  함수를 통해 적당한 속도로 반복\n",
    "    \n",
    "- 이용방침을 확인(allow/disallow)\n",
    "    - `url/robots.txt`로 확인\n",
    "    - [구글로봇](https://www.google.com/robots.txt)\n",
    "\n",
    "\n",
    "출처: [Aalok Siingh, ecommerce strategist and digital media expert](https://www.quora.com/Is-it-legal-to-crawl-E-commerce-websites-like-Amazon-Flipkart-Snapdeal-Paytm)"
   ]
  },
  {
   "cell_type": "code",
   "execution_count": null,
   "metadata": {},
   "outputs": [],
   "source": []
  }
 ],
 "metadata": {
  "kernelspec": {
   "display_name": "Python 3",
   "language": "python",
   "name": "python3"
  },
  "language_info": {
   "codemirror_mode": {
    "name": "ipython",
    "version": 3
   },
   "file_extension": ".py",
   "mimetype": "text/x-python",
   "name": "python",
   "nbconvert_exporter": "python",
   "pygments_lexer": "ipython3",
   "version": "3.8.3"
  }
 },
 "nbformat": 4,
 "nbformat_minor": 2
}
