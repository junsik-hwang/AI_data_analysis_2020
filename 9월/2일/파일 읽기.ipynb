{
 "cells": [
  {
   "cell_type": "code",
   "execution_count": 3,
   "metadata": {},
   "outputs": [],
   "source": [
    "f = open('hello.txt', 'w')\n",
    "f.write('Hello World\\n')\n",
    "f.write('Hello World\\n')\n",
    "f.write('Hello World\\n')\n",
    "f.write('Hello World\\n')\n",
    "f.close()"
   ]
  },
  {
   "cell_type": "code",
   "execution_count": null,
   "metadata": {},
   "outputs": [],
   "source": []
  },
  {
   "cell_type": "code",
   "execution_count": 5,
   "metadata": {},
   "outputs": [
    {
     "name": "stdout",
     "output_type": "stream",
     "text": [
      "Hello World\n",
      "Hello World\n",
      "Hello World\n",
      "Hello World\n",
      "\n",
      "<class 'str'>\n"
     ]
    }
   ],
   "source": [
    "f = open('hello.txt', 'r')\n",
    "s = f.read()\n",
    "f.close()\n",
    "\n",
    "print(s)\n",
    "print(type(s))"
   ]
  },
  {
   "cell_type": "code",
   "execution_count": 6,
   "metadata": {},
   "outputs": [
    {
     "name": "stdout",
     "output_type": "stream",
     "text": [
      "0123456789\n",
      "<class 'str'>\n"
     ]
    }
   ],
   "source": [
    "f = open('hello.txt', 'w')\n",
    "for i in range(10):\n",
    "    f.write(str(i))\n",
    "f.close()\n",
    "\n",
    "\n",
    "f2 = open('hello.txt', 'r')\n",
    "res = f2.read()\n",
    "f2.close()\n",
    "\n",
    "print(res)\n",
    "print(type(res))"
   ]
  },
  {
   "cell_type": "code",
   "execution_count": null,
   "metadata": {},
   "outputs": [],
   "source": [
    "# 자동 close\n",
    "with open('hello.txt', 'w') as file:\n",
    "    for i in range(10):\n",
    "        f.write(str(i))"
   ]
  },
  {
   "cell_type": "code",
   "execution_count": 7,
   "metadata": {},
   "outputs": [
    {
     "name": "stdout",
     "output_type": "stream",
     "text": [
      "abc\n",
      "bcd\n",
      "def\n",
      "['abc\\n', 'bcd\\n', 'def..\\n']\n"
     ]
    }
   ],
   "source": [
    "lines = ['abc\\n', 'bcd\\n', 'def..\\n']\n",
    "with open('hello.txt', 'w') as file1:\n",
    "    file1.writelines(lines)\n",
    "\n",
    "with open('hello.txt', 'r') as file2:\n",
    "    r = file2.readlines()\n",
    "\n",
    "for i in r:\n",
    "    print(i.strip('.\\n'))\n",
    "\n",
    "print(r)"
   ]
  },
  {
   "cell_type": "code",
   "execution_count": null,
   "metadata": {},
   "outputs": [],
   "source": []
  }
 ],
 "metadata": {
  "kernelspec": {
   "display_name": "Python 3",
   "language": "python",
   "name": "python3"
  },
  "language_info": {
   "codemirror_mode": {
    "name": "ipython",
    "version": 3
   },
   "file_extension": ".py",
   "mimetype": "text/x-python",
   "name": "python",
   "nbconvert_exporter": "python",
   "pygments_lexer": "ipython3",
   "version": "3.8.3"
  }
 },
 "nbformat": 4,
 "nbformat_minor": 4
}
