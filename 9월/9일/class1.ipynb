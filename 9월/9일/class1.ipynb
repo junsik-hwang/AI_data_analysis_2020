{
 "cells": [
  {
   "cell_type": "code",
   "execution_count": 1,
   "metadata": {},
   "outputs": [
    {
     "name": "stdout",
     "output_type": "stream",
     "text": [
      "이름   총점   평균\n",
      "윤인성  368  92.0\n",
      "연하진  382  95.5\n",
      "구지연  354  88.5\n",
      "나선주  378  94.5\n",
      "윤아린  389  97.25\n",
      "윤명월  336  84.0\n"
     ]
    }
   ],
   "source": [
    "students = [\n",
    "    {\"name\": \"윤인성\", \"korean\": 87, \"math\": 98, \"english\": 88, \"science\": 95},\n",
    "    {\"name\": \"연하진\", \"korean\": 92, \"math\": 96, \"english\": 96, \"science\": 98},\n",
    "    {\"name\": \"구지연\", \"korean\": 76, \"math\": 94, \"english\": 94, \"science\": 90},\n",
    "    {\"name\": \"나선주\", \"korean\": 98, \"math\": 92, \"english\": 96, \"science\": 92},\n",
    "    {\"name\": \"윤아린\", \"korean\": 95, \"math\": 98, \"english\": 98, \"science\": 98},\n",
    "    {\"name\": \"윤명월\", \"korean\": 64, \"math\": 88, \"english\": 92, \"science\": 92}\n",
    "]\n",
    "\n",
    "\n",
    "print(\"이름\", \"총점\", \"평균\", sep=\"   \")\n",
    "\n",
    "for student in students:\n",
    "    score_sum = student[\"korean\"] + student[\"math\"] + student[\"english\"] + student[\"science\"]\n",
    "    score_avg = score_sum / 4\n",
    "    print(student[\"name\"], score_sum, score_avg, sep=\"  \")\n"
   ]
  },
  {
   "cell_type": "code",
   "execution_count": 5,
   "metadata": {},
   "outputs": [
    {
     "name": "stdout",
     "output_type": "stream",
     "text": [
      "이름   총점   평균\n",
      "연하진, 382, 95.5\n",
      "구지연, 354, 88.5\n",
      "나선주, 378, 94.5\n",
      "윤아린, 389, 97.25\n",
      "윤명월, 336, 84.0\n"
     ]
    }
   ],
   "source": [
    "def student_get_sum(student):\n",
    "    return student[\"korean\"] + student[\"math\"] + student[\"english\"] + student[\"science\"]\n",
    "\n",
    "def student_get_avg(student):\n",
    "    return student_get_sum(student) / 4\n",
    "\n",
    "def student_to_string(student):\n",
    "    return f'{student[\"name\"]}, {student_get_sum(student)}, {student_get_avg(student)}'\n",
    "\n",
    "students = [\n",
    "    {\"name\": \"연하진\", \"korean\": 92, \"math\": 96, \"english\": 96, \"science\": 98},\n",
    "    {\"name\": \"구지연\", \"korean\": 76, \"math\": 94, \"english\": 94, \"science\": 90},\n",
    "    {\"name\": \"나선주\", \"korean\": 98, \"math\": 92, \"english\": 96, \"science\": 92},\n",
    "    {\"name\": \"윤아린\", \"korean\": 95, \"math\": 98, \"english\": 98, \"science\": 98},\n",
    "    {\"name\": \"윤명월\", \"korean\": 64, \"math\": 88, \"english\": 92, \"science\": 92}\n",
    "]\n",
    "\n",
    "print(\"이름\", \"총점\", \"평균\", sep=\"   \")\n",
    "\n",
    "for student in students:\n",
    "    print(student_to_string(student))\n"
   ]
  },
  {
   "cell_type": "code",
   "execution_count": 28,
   "metadata": {},
   "outputs": [
    {
     "name": "stdout",
     "output_type": "stream",
     "text": [
      "이름   총점   평균\n",
      "연하진 : 382, 95.5\n",
      "구지연 : 354, 88.5\n",
      "나선주 : 378, 94.5\n",
      "윤인성 : 368, 92.0\n",
      "윤아린 : 389, 97.25\n",
      "윤명월 : 336, 84.0\n"
     ]
    }
   ],
   "source": [
    "class School:\n",
    "    def __init__(self, name, korean, math, english, science):\n",
    "        self.name = name\n",
    "        self.korean = korean\n",
    "        self.math = math\n",
    "        self.english = english\n",
    "        self.science = science\n",
    "    \n",
    "    def student_get_sum(self):\n",
    "        return self.korean + self.math + self.english + self.science\n",
    "\n",
    "    def student_get_avg(self):\n",
    "        return self.student_get_sum() / 4\n",
    "\n",
    "    def to_string(self):\n",
    "        return f'{self.name} : {self.student_get_sum()}, {self.student_get_avg()}'\n",
    "    \n",
    "    def __str__(self):\n",
    "        \n",
    "\n",
    "school = [School(\"연하진\",92,96,96,98), School(\"구지연\",76,94,94,90), School(\"나선주\",98,92,96,92),\n",
    "          School(\"윤인성\",87,98,88,95), School(\"윤아린\",95,98,98,98), School(\"윤명월\",64,88,92,92)]\n",
    "\n",
    "print(\"이름\", \"총점\", \"평균\", sep=\"   \")\n",
    "for _ in school:\n",
    "    print(_.to_string())"
   ]
  },
  {
   "cell_type": "code",
   "execution_count": null,
   "metadata": {},
   "outputs": [],
   "source": []
  }
 ],
 "metadata": {
  "kernelspec": {
   "display_name": "Python 3",
   "language": "python",
   "name": "python3"
  },
  "language_info": {
   "codemirror_mode": {
    "name": "ipython",
    "version": 3
   },
   "file_extension": ".py",
   "mimetype": "text/x-python",
   "name": "python",
   "nbconvert_exporter": "python",
   "pygments_lexer": "ipython3",
   "version": "3.8.3"
  }
 },
 "nbformat": 4,
 "nbformat_minor": 4
}
