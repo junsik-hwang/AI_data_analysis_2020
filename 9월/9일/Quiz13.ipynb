{
 "cells": [
  {
   "cell_type": "code",
   "execution_count": 23,
   "metadata": {},
   "outputs": [
    {
     "name": "stdout",
     "output_type": "stream",
     "text": [
      "100 2 3 100 2 3 3 2 100 3 2 100 "
     ]
    }
   ],
   "source": [
    "class Mylist():\n",
    "    def __init__(self, mlist):\n",
    "        self.mlist = mlist\n",
    "        \n",
    "    def replace(self, old, new):\n",
    "        n = 0\n",
    "        for _ in self.mlist :\n",
    "            if(_ == old):\n",
    "                self.mlist[self.mlist.index(_)] = new\n",
    "            print(self.mlist[n], end = ' ')\n",
    "            n += 1\n",
    "\n",
    "rep = Mylist([1,2,3,1,2,3,3,2,1,3,2,1])\n",
    "rep.replace(1,100)"
   ]
  },
  {
   "cell_type": "code",
   "execution_count": null,
   "metadata": {},
   "outputs": [],
   "source": []
  }
 ],
 "metadata": {
  "kernelspec": {
   "display_name": "Python 3",
   "language": "python",
   "name": "python3"
  },
  "language_info": {
   "codemirror_mode": {
    "name": "ipython",
    "version": 3
   },
   "file_extension": ".py",
   "mimetype": "text/x-python",
   "name": "python",
   "nbconvert_exporter": "python",
   "pygments_lexer": "ipython3",
   "version": "3.8.3"
  }
 },
 "nbformat": 4,
 "nbformat_minor": 4
}
