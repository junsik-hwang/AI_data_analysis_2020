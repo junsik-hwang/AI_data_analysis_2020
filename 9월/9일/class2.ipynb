{
 "cells": [
  {
   "cell_type": "code",
   "execution_count": 11,
   "metadata": {},
   "outputs": [
    {
     "name": "stdout",
     "output_type": "stream",
     "text": [
      "윤인성 : 368 | 92.0\n",
      "연하진 : 382 | 95.5\n",
      "구지연 : 354 | 88.5\n",
      "나선주 : 378 | 94.5\n",
      "윤아린 : 389 | 97.2\n",
      "윤명월 : 336 | 84.0\n"
     ]
    }
   ],
   "source": [
    "class Student:\n",
    "    def __init__(self, name, korean, math, english, science):\n",
    "        self.name = name\n",
    "        self.korean = korean\n",
    "        self.math = math\n",
    "        self.english = english\n",
    "        self.science = science\n",
    "\n",
    "    def student_get_sum(self):\n",
    "        return self.korean + self.math + self.english + self.science\n",
    "\n",
    "    def student_get_avg(self):\n",
    "        return round((self.student_get_sum() / 4), 1)\n",
    "\n",
    "    def to_string(self):\n",
    "        return f\"{self.name} : {self.student_get_sum()} | {self.student_get_avg()}\"\n",
    "\n",
    "    \n",
    "class StudentListController:\n",
    "    def __init__(self):\n",
    "        self.student = [Student(\"윤인성\", 87, 98, 88, 95), Student(\"연하진\", 92, 96, 96, 98), Student(\"구지연\", 76, 94, 94, 90),\n",
    "                         Student(\"나선주\", 98, 92, 96, 92), Student(\"윤아린\", 95, 98, 98, 98), Student(\"윤명월\", 64, 88, 92, 92)]\n",
    "        \n",
    "    \n",
    "#     def __getitem__(self, index):\n",
    "#         if index < len(self.student):\n",
    "#             return self.student[index]\n",
    "#         else:\n",
    "#             raise IndexError\n",
    "            \n",
    "    def __iter__(self):\n",
    "        self.index = 0\n",
    "        return self \n",
    "    \n",
    "    def __next__(self):\n",
    "        if self.index < len(self.student):\n",
    "            n = self.student[self.index]\n",
    "            self.index += 1\n",
    "            return n\n",
    "        else:\n",
    "            raise StopIteration\n",
    "\n",
    "            \n",
    "mgr = StudentListController()\n",
    "for student in mgr:\n",
    "    print(student.to_string())"
   ]
  },
  {
   "cell_type": "code",
   "execution_count": null,
   "metadata": {},
   "outputs": [],
   "source": []
  }
 ],
 "metadata": {
  "kernelspec": {
   "display_name": "Python 3",
   "language": "python",
   "name": "python3"
  },
  "language_info": {
   "codemirror_mode": {
    "name": "ipython",
    "version": 3
   },
   "file_extension": ".py",
   "mimetype": "text/x-python",
   "name": "python",
   "nbconvert_exporter": "python",
   "pygments_lexer": "ipython3",
   "version": "3.8.3"
  }
 },
 "nbformat": 4,
 "nbformat_minor": 4
}
