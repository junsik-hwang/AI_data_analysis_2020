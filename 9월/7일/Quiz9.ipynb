{
 "cells": [
  {
   "cell_type": "code",
   "execution_count": 1,
   "metadata": {},
   "outputs": [],
   "source": [
    "# 편의점 재고 관리 프로그램"
   ]
  },
  {
   "cell_type": "code",
   "execution_count": 31,
   "metadata": {},
   "outputs": [],
   "source": [
    "items = {\"coffee\": 0, \"pen\": 0, \"apple\": 0, \"milk\": 0, \"coke\": 0, \"book\": 0}\n",
    "\n",
    "expire = {\"coffee\": 7, \"pen\": 0, \"apple\": 20, \"milk\": 5, \"coke\": 30, \"book\": 0}\n",
    "\n",
    "notice = {\"coffee\": \"냉장보관\", \"pen\": \"없음\", \"apple\": \"상온보관\", \"milk\": \"냉장보관\", \n",
    "          \"coke\": \"흔들지 말것\", \"book\": \"없음\"}"
   ]
  },
  {
   "cell_type": "code",
   "execution_count": 34,
   "metadata": {},
   "outputs": [
    {
     "name": "stdout",
     "output_type": "stream",
     "text": [
      "---- 재고 관리 프로그램 ----\n",
      "  1 - 현재 재고 상태 출력\n",
      "  2 - 재고 수정\n",
      "  3 - 검색(품목명)\n",
      "  4 - 검색(유통기한)\n",
      "  9 - 종료\n",
      "명령번호 : 9\n"
     ]
    }
   ],
   "source": [
    "def start():\n",
    "    print(\"---- 재고 관리 프로그램 ----\")\n",
    "    print(\"  1 - 현재 재고 상태 출력\")\n",
    "    print(\"  2 - 재고 수정\")\n",
    "    print(\"  3 - 검색(품목명)\")\n",
    "    print(\"  4 - 검색(유통기한)\")\n",
    "    print(\"  9 - 종료\")\n",
    "    return int(input(\"명령번호 : \"))\n",
    "\n",
    "\n",
    "def one():\n",
    "    print()\n",
    "    print(\"----- 재고 수량 -----\")\n",
    "    for i in range(len(items)):\n",
    "        goods = list(items.keys())[i]\n",
    "        goods_cnt = list(items.values())[i]\n",
    "        goods_exp = list(expire.values())[i]\n",
    "        goods_not = list(notice.values())[i]\n",
    "        print(f\"{goods} : 재고 수량({goods_cnt}), 유통기한({goods_exp}), 주의사항({goods_not})\")\n",
    "            \n",
    "\n",
    "def two():\n",
    "    print()\n",
    "    print(\"----- 재고 수정 -----\")\n",
    "    for _ in list(items.keys()):\n",
    "        print(_, end = ' ')\n",
    "    print()\n",
    "    goods = input(\"품목명 : \")\n",
    "    goods_cnt = int(input(\"수량 : \"))\n",
    "    if(goods in items.keys()):\n",
    "        items[goods] = goods_cnt\n",
    "        print(f\"{goods} 품목 수량이 {goods_cnt}개로 수정되었습니다.\")\n",
    "        print(end = '\\n')\n",
    "    else:\n",
    "        print(f\"{goods} 품목은 존재하지 않습니다.\")\n",
    "        \n",
    "def three():\n",
    "    print()\n",
    "    print(\"----- 검색 : 품목명 -----\")\n",
    "    goods = input(\"검색 할 품목명 : \")\n",
    "    print(f\"{goods} : 수량({items[goods]}), 유통기한({expire[goods]}), 주의사항({notice[goods]})\")\n",
    "    print()\n",
    "    \n",
    "def four():\n",
    "    print()\n",
    "    print(\"----- 검색 : 유통기한 -----\")\n",
    "    exp = int(input(\"유통기한 : \"))\n",
    "    print(f\"유통기한이 {exp}일 이상인 품목 : \", end = '')\n",
    "    for _ in list(expire.keys()):\n",
    "        if(expire[_] >= exp):\n",
    "            print(_, end = ' ')\n",
    "    print()\n",
    "    print()\n",
    "\n",
    "num = 0\n",
    "while(num != 9):\n",
    "    num = start()\n",
    "    if(num == 1):\n",
    "        one()\n",
    "    elif(num == 2):\n",
    "        two()\n",
    "    elif(num == 3):\n",
    "        three()\n",
    "    elif(num == 4):\n",
    "        four()\n",
    "    elif(num == 9):\n",
    "        pass\n",
    "    else:\n",
    "        print(\"올바르지 않은 명령어입니다.\")"
   ]
  }
 ],
 "metadata": {
  "kernelspec": {
   "display_name": "Python 3",
   "language": "python",
   "name": "python3"
  },
  "language_info": {
   "codemirror_mode": {
    "name": "ipython",
    "version": 3
   },
   "file_extension": ".py",
   "mimetype": "text/x-python",
   "name": "python",
   "nbconvert_exporter": "python",
   "pygments_lexer": "ipython3",
   "version": "3.8.3"
  }
 },
 "nbformat": 4,
 "nbformat_minor": 4
}
