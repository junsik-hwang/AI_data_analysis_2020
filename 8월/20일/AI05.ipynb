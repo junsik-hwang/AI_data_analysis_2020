{
 "cells": [
  {
   "cell_type": "code",
   "execution_count": 1,
   "metadata": {},
   "outputs": [],
   "source": [
    "import numpy as np\n",
    "import pandas as pd\n",
    "import seaborn as sns\n",
    "import matplotlib.pyplot as plt\n",
    "import scipy.stats as stats"
   ]
  },
  {
   "cell_type": "code",
   "execution_count": 2,
   "metadata": {},
   "outputs": [],
   "source": [
    "diamonds = pd.read_excel(\"/SBA/diamonds.xlsx\",\n",
    "                        sheet_name = 0,\n",
    "                        header     = 0)"
   ]
  },
  {
   "cell_type": "markdown",
   "metadata": {},
   "source": [
    "- - -"
   ]
  },
  {
   "cell_type": "markdown",
   "metadata": {},
   "source": [
    "### 정규성 검정(Normality Test)"
   ]
  },
  {
   "cell_type": "code",
   "execution_count": 3,
   "metadata": {},
   "outputs": [],
   "source": [
    "# 귀무가설 : 모집단의 양적 자료는 정규분포를 따른다.\n",
    "# 대립가설 : 모집단의 양적 자료는 정규분포를 따르지 않는다."
   ]
  },
  {
   "cell_type": "code",
   "execution_count": 4,
   "metadata": {},
   "outputs": [
    {
     "name": "stderr",
     "output_type": "stream",
     "text": [
      "C:\\ProgramData\\Anaconda3\\lib\\site-packages\\scipy\\stats\\morestats.py:1681: UserWarning: p-value may not be accurate for N > 5000.\n",
      "  warnings.warn(\"p-value may not be accurate for N > 5000.\")\n"
     ]
    },
    {
     "data": {
      "text/plain": [
       "ShapiroResult(statistic=0.7981084585189819, pvalue=0.0)"
      ]
     },
     "execution_count": 4,
     "metadata": {},
     "output_type": "execute_result"
    }
   ],
   "source": [
    "# 1. Shapiro-Wilk Normalitytest\n",
    "# 데이터의 개수가 5000개 미만일 때 가장 유명함\n",
    "# scipy.stats -> stats\n",
    "# stats.shapiro(data.variable)\n",
    "stats.shapiro(diamonds.price)"
   ]
  },
  {
   "cell_type": "code",
   "execution_count": 5,
   "metadata": {},
   "outputs": [
    {
     "data": {
      "text/plain": [
       "AndersonResult(statistic=3474.0163510249695, critical_values=array([0.576, 0.656, 0.787, 0.918, 1.092]), significance_level=array([15. , 10. ,  5. ,  2.5,  1. ]))"
      ]
     },
     "execution_count": 5,
     "metadata": {},
     "output_type": "execute_result"
    }
   ],
   "source": [
    "# 2. Anderson-Darling Normality test\n",
    "# 데이터의 개수가 5000개 이상일 때 가장 유명함\n",
    "# stats.anderson(data.variable, dist = \"norm\")\n",
    "\n",
    "# 참고\n",
    "# dist : distribution        = 분포\n",
    "# norm : normal distribution = 정규 분포\n",
    "\n",
    "# 표본에 있는 데이터의 개수(표본 크기) = sample size\n",
    "stats.anderson(diamonds.price, dist = \"norm\")"
   ]
  },
  {
   "cell_type": "markdown",
   "metadata": {},
   "source": [
    "결론  \n",
    "유의수준 0.05에서의 임계값이 0.787이고  \n",
    "표본에서 검정통계량이 3474.016 으로 임계값 0.787 보다 크므로  \n",
    "price는 정규분포를 따르지 않는다. 즉, 정규성 가정이 깨짐"
   ]
  },
  {
   "cell_type": "markdown",
   "metadata": {},
   "source": [
    "- - -"
   ]
  },
  {
   "cell_type": "markdown",
   "metadata": {},
   "source": [
    "#### 일표본 검정의 단계"
   ]
  },
  {
   "cell_type": "markdown",
   "metadata": {},
   "source": [
    "Step 1. 정규성 검정(Normality Test)\n",
    "- stats.shapiro or stats.anderson 사용\n",
    "- 귀무가설 : 정규분포를 따른다.\n",
    "- 대립가설 : 정규분포를 따르지 않는다"
   ]
  },
  {
   "cell_type": "markdown",
   "metadata": {},
   "source": [
    "Step 2-1. 일표본 t검정(One sample t-test)  \n",
    "**1단계의 결론이 귀무가설(정규성 만족) 일 때**  \n",
    "stats.ttest_1samp(data.variable, popmean = )"
   ]
  },
  {
   "cell_type": "markdown",
   "metadata": {},
   "source": [
    "Step 2-2. 윌콕슨의 부호 순위 검정(Wilcox's signed rank test)  \n",
    "**조건 : 1단계의 결론이 대립가설(정규성 불만족) 일 때**\n",
    "stats.wilcoxon(data.variable - myu, alternative = )"
   ]
  },
  {
   "cell_type": "code",
   "execution_count": 6,
   "metadata": {},
   "outputs": [
    {
     "data": {
      "text/plain": [
       "53940"
      ]
     },
     "execution_count": 6,
     "metadata": {},
     "output_type": "execute_result"
    }
   ],
   "source": [
    "# 연습 : diamonds의 price\n",
    "# 귀무가설 : 다이아몬드 가격의 평균은 4000달러이다.\n",
    "# 대립가설 : 다이아몬드 가격의 평균은 4000달러보다 많다.\n",
    "diamonds.price.count()"
   ]
  },
  {
   "cell_type": "code",
   "execution_count": 7,
   "metadata": {},
   "outputs": [
    {
     "data": {
      "text/plain": [
       "AndersonResult(statistic=3474.0163510249695, critical_values=array([0.576, 0.656, 0.787, 0.918, 1.092]), significance_level=array([15. , 10. ,  5. ,  2.5,  1. ]))"
      ]
     },
     "execution_count": 7,
     "metadata": {},
     "output_type": "execute_result"
    }
   ],
   "source": [
    "# 데이터 개수가 5000개 이상 - 정규성 불만족\n",
    "stats.anderson(diamonds.price, dist = \"norm\")"
   ]
  },
  {
   "cell_type": "code",
   "execution_count": 8,
   "metadata": {},
   "outputs": [
    {
     "data": {
      "text/plain": [
       "WilcoxonResult(statistic=576399622.0, pvalue=1.0)"
      ]
     },
     "execution_count": 8,
     "metadata": {},
     "output_type": "execute_result"
    }
   ],
   "source": [
    "stats.wilcoxon(diamonds.price - diamonds.price.mean(), alternative = \"greater\")"
   ]
  },
  {
   "cell_type": "code",
   "execution_count": 9,
   "metadata": {},
   "outputs": [],
   "source": [
    "# 결론\n",
    "# 유의확률이 1.000이므로 유의수준 0.05에서\n",
    "# 다이아몬드 가격은 통계적으로 유의하게 변하지 않았다."
   ]
  },
  {
   "cell_type": "markdown",
   "metadata": {},
   "source": [
    "- - -"
   ]
  },
  {
   "cell_type": "markdown",
   "metadata": {},
   "source": [
    "## 독립 2표본 검정(Two sample test)\n",
    "- 두 개의 독립적인 모집단의 양적 자료가 차이가 있는지를 분석하는 방법\n",
    "- 독립 : A 집단의 양적 자료가 B 집단의 양적 자료에게 영향을 주지 않는 상태"
   ]
  },
  {
   "cell_type": "markdown",
   "metadata": {},
   "source": [
    "### 1. 독립 2표본 t검정(Two sample t-test)"
   ]
  },
  {
   "cell_type": "markdown",
   "metadata": {},
   "source": [
    "* 1.1 등분산이 가정된 독립 2표본 t검정\n",
    "* 1.2 이분산이 가정된 독립 2표본 t검정"
   ]
  },
  {
   "cell_type": "code",
   "execution_count": 18,
   "metadata": {},
   "outputs": [],
   "source": [
    "# 귀무가설 : Ideal 가격의 평균과 NonIdeal 가격의 평균은 같다.\n",
    "# 대립가설 : Ideal 가격의 평균이 NonIdeal 가격의 평균보다 비싸다.\n",
    "\n",
    "ideal    = diamonds.loc[diamonds.cut == \"Ideal\", \"price\"]\n",
    "nonideal = diamonds.loc[diamonds.cut != \"Ideal\", \"price\"]"
   ]
  },
  {
   "cell_type": "code",
   "execution_count": 19,
   "metadata": {},
   "outputs": [],
   "source": [
    "# 등분산 검정(Equality of Variance Test)\n",
    "# 귀무가설 : 등분산이다.\n",
    "# 대립가설 : 이분산이다.\n",
    "\n",
    "# (1) Levene  Test : stats.levene(data1, data2)\n",
    "# (2) Bartlett Test : stats.bartlett(data1, data2)"
   ]
  },
  {
   "cell_type": "code",
   "execution_count": 20,
   "metadata": {},
   "outputs": [
    {
     "data": {
      "text/plain": [
       "LeveneResult(statistic=244.8982065343527, pvalue=4.446981310047094e-55)"
      ]
     },
     "execution_count": 20,
     "metadata": {},
     "output_type": "execute_result"
    }
   ],
   "source": [
    "# levene의 등분산 검정\n",
    "stats.levene(ideal, nonideal)"
   ]
  },
  {
   "cell_type": "code",
   "execution_count": 21,
   "metadata": {},
   "outputs": [],
   "source": [
    "# 결론\n",
    "# 244.898 = 검정통계량 = F\n",
    "# F ~ F 분포\n",
    "# p-value : 0.000\n",
    "\n",
    "# 유의확률이 0.000 이므로 유의수준 0.05 에서 이분산이다."
   ]
  },
  {
   "cell_type": "code",
   "execution_count": 24,
   "metadata": {},
   "outputs": [
    {
     "data": {
      "text/plain": [
       "BartlettResult(statistic=117.27579363247222, pvalue=2.4980059769203218e-27)"
      ]
     },
     "execution_count": 24,
     "metadata": {},
     "output_type": "execute_result"
    }
   ],
   "source": [
    "# Bartlett의 등분산 검정\n",
    "stats.bartlett(ideal, nonideal)"
   ]
  },
  {
   "cell_type": "markdown",
   "metadata": {},
   "source": [
    "- - -"
   ]
  },
  {
   "cell_type": "code",
   "execution_count": 22,
   "metadata": {},
   "outputs": [
    {
     "data": {
      "text/plain": [
       "Ttest_indResult(statistic=-22.985734120999393, pvalue=2.7359864985506295e-116)"
      ]
     },
     "execution_count": 22,
     "metadata": {},
     "output_type": "execute_result"
    }
   ],
   "source": [
    "# 이분산이 가정된 독립 2표본 검정\n",
    "# stats.ttest_ind(data1, data2, equal_var = False)\n",
    "\n",
    "# 참고\n",
    "# ind        : independent\n",
    "# equal_var  : equality of variance\n",
    "\n",
    "stats.ttest_ind(ideal, nonideal, equal_var = False)"
   ]
  },
  {
   "cell_type": "code",
   "execution_count": 25,
   "metadata": {},
   "outputs": [],
   "source": [
    "# statistic = -22.9857... = 이분산 일 때의 t 값\n",
    "\n",
    "# 유의확률이 1.000이므로 유의수준 0.05에서\n",
    "# 품질이 Ideal인 다이아몬드와 품질이 NonIdeal의 가격에\n",
    "# 통계적으로 유의한 차이는 없는 것으로 나타났다."
   ]
  },
  {
   "cell_type": "markdown",
   "metadata": {},
   "source": [
    " - - -"
   ]
  },
  {
   "cell_type": "markdown",
   "metadata": {},
   "source": [
    "## 2. 윌콕슨의 순위합 검정(Wilcoxon's rank sum test)"
   ]
  },
  {
   "cell_type": "code",
   "execution_count": 26,
   "metadata": {},
   "outputs": [
    {
     "data": {
      "text/plain": [
       "RanksumsResult(statistic=-27.277266218787283, pvalue=7.894328467663634e-164)"
      ]
     },
     "execution_count": 26,
     "metadata": {},
     "output_type": "execute_result"
    }
   ],
   "source": [
    "# stats.ranksums(data1, data2)\n",
    "stats.ranksums(ideal, nonideal)"
   ]
  },
  {
   "cell_type": "markdown",
   "metadata": {},
   "source": [
    "**결론**\n",
    "\n",
    "-27.277 = Z : 표준 정규분포  \n",
    "p-value = 1 - (0.000) / 2 = 1.000  \n",
    "  \n",
    "유의확률이 1.000 이므로 유의수준 0.05에서  \n",
    "Ideal과 NonIdeal의 가격에 통계적으로 유의한 차이는 없는 것으로 나타났다."
   ]
  },
  {
   "cell_type": "markdown",
   "metadata": {},
   "source": [
    "### 단계\n",
    "* 1단계 : 정규성 검정 : 2번 실시\n",
    " * 귀무가설 : 정규분포를 따른다.\n",
    " * 대립가설 : 정규분표를 따르지 않는다."
   ]
  },
  {
   "cell_type": "code",
   "execution_count": 27,
   "metadata": {},
   "outputs": [
    {
     "data": {
      "text/plain": [
       "AndersonResult(statistic=1865.0905557672413, critical_values=array([0.576, 0.656, 0.787, 0.918, 1.092]), significance_level=array([15. , 10. ,  5. ,  2.5,  1. ]))"
      ]
     },
     "execution_count": 27,
     "metadata": {},
     "output_type": "execute_result"
    }
   ],
   "source": [
    "# ideal\n",
    "stats.anderson(ideal, dist = \"norm\")"
   ]
  },
  {
   "cell_type": "markdown",
   "metadata": {},
   "source": [
    "**결론**  \n",
    "유의수준        : 0.05  \n",
    "임계값 = 기각역 : 0.787  \n",
    "검정통계량      : 1865.091  \n",
    "  \n",
    "검정통계량(1865.091)이 기각역(0.787)보다 크므로 대립가설 : 정규성 가정이 깨짐"
   ]
  },
  {
   "cell_type": "code",
   "execution_count": 28,
   "metadata": {},
   "outputs": [
    {
     "data": {
      "text/plain": [
       "AndersonResult(statistic=1725.841416197174, critical_values=array([0.576, 0.656, 0.787, 0.918, 1.092]), significance_level=array([15. , 10. ,  5. ,  2.5,  1. ]))"
      ]
     },
     "execution_count": 28,
     "metadata": {},
     "output_type": "execute_result"
    }
   ],
   "source": [
    "# (2) NonIdeal\n",
    "stats.anderson(nonideal, dist = \"norm\")"
   ]
  },
  {
   "cell_type": "markdown",
   "metadata": {},
   "source": [
    "**결론**  \n",
    "유의수준        : 0.05  \n",
    "임계값 = 기각역 : 0.787  \n",
    "검정통계량      : 1725.841 \n",
    "  \n",
    "검정통계량(1725.841)이 기각역(0.787)보다 크므로 대립가설 : 정규성 가정이 깨짐"
   ]
  },
  {
   "cell_type": "code",
   "execution_count": 29,
   "metadata": {},
   "outputs": [
    {
     "data": {
      "text/plain": [
       "RanksumsResult(statistic=-27.277266218787283, pvalue=7.894328467663634e-164)"
      ]
     },
     "execution_count": 29,
     "metadata": {},
     "output_type": "execute_result"
    }
   ],
   "source": [
    "# 2단계 : Wilcoxon's rank sum test\n",
    "stats.ranksums(ideal, nonideal)"
   ]
  },
  {
   "cell_type": "markdown",
   "metadata": {},
   "source": [
    "- - -"
   ]
  },
  {
   "cell_type": "code",
   "execution_count": 30,
   "metadata": {},
   "outputs": [],
   "source": [
    "# 문제1\n",
    "# cut : \"Fair\", \"Good\", \"Very good\", \"Premium\", \"Ideal\"\n",
    "\n",
    "# \"good\" data, \"very_good\" data 선언\n",
    "# 귀무가설 : \"Good\" 가격의 평균과 \"Very Good\" 가격의 평균은 같다.\n",
    "# 대립가설 : \"Good\" 가격의 평균과 \"Very Good\" 가격의 평균은 같지 않다."
   ]
  },
  {
   "cell_type": "code",
   "execution_count": 37,
   "metadata": {},
   "outputs": [],
   "source": [
    "good      = diamonds.loc[diamonds.cut == \"Good\", \"price\"]\n",
    "very_good = diamonds.loc[diamonds.cut == \"Very Good\", \"price\"]"
   ]
  },
  {
   "cell_type": "code",
   "execution_count": 44,
   "metadata": {},
   "outputs": [
    {
     "name": "stdout",
     "output_type": "stream",
     "text": [
      "Good :  ShapiroResult(statistic=0.8170838952064514, pvalue=0.0)\n",
      "Very good :  AndersonResult(statistic=673.1474634497645, critical_values=array([0.576, 0.656, 0.787, 0.918, 1.092]), significance_level=array([15. , 10. ,  5. ,  2.5,  1. ]))\n"
     ]
    }
   ],
   "source": [
    "# 1단계 : 정규성 검정\n",
    "# 귀무가설 : 정규분포를 따른다.\n",
    "# 대립가설 : 정규분포를 따르지 않는다.\n",
    "\n",
    "good_normality      = stats.shapiro(good)\n",
    "very_good_normality = stats.anderson(very_good, dist = \"norm\")\n",
    "\n",
    "print(\"Good : \", good_normality)\n",
    "print(\"Very good : \", very_good_normality)"
   ]
  },
  {
   "cell_type": "code",
   "execution_count": null,
   "metadata": {},
   "outputs": [],
   "source": [
    "# 결론\n",
    "# Good      : 검정통계량 = 0.817   / p-value = 0.000 --> 정규성 가정이 깨짐  \n",
    "# Very Good : 검정통계량 : 673.147 / 기각역(0.787)   --> 정규성 가정이 깨짐"
   ]
  },
  {
   "cell_type": "code",
   "execution_count": 42,
   "metadata": {},
   "outputs": [
    {
     "data": {
      "text/plain": [
       "RanksumsResult(statistic=2.2734929145300424, pvalue=0.022996492627487226)"
      ]
     },
     "execution_count": 42,
     "metadata": {},
     "output_type": "execute_result"
    }
   ],
   "source": [
    "# 2단계 : Wilcoxon's rank sum test\n",
    "stats.ranksums(good, very_good)"
   ]
  },
  {
   "cell_type": "code",
   "execution_count": 45,
   "metadata": {},
   "outputs": [],
   "source": [
    "# 결론\n",
    "# 검정통계량 : 2.273\n",
    "# p-value    : 0.023\n",
    "\n",
    "# 유의확률(p-value)이 0.023 이므로 유의수준 0.05 에서 \n",
    "# \"Good\" 과 \"Very Good\" 의 가격에는 통계적으로 유의한 차이가 있는 것으로 나타났다."
   ]
  },
  {
   "cell_type": "markdown",
   "metadata": {},
   "source": [
    "- - -"
   ]
  },
  {
   "cell_type": "code",
   "execution_count": 46,
   "metadata": {},
   "outputs": [],
   "source": [
    "# 문제 2\n",
    "# carat_07_less    : carat이 0.7 미만인 데이터의 price\n",
    "# carat_07_greater : carat이 0.7 이상인 데이터의 price\n",
    "\n",
    "# 기무가설 : carat_07_less 가격의 평균과 carat_07_greater 가격의 평균은 같다.\n",
    "# 대립가설 : carat_07_less 가격의 평균이 carat_07_greater 가격의 평균보다 작다."
   ]
  },
  {
   "cell_type": "code",
   "execution_count": 48,
   "metadata": {},
   "outputs": [],
   "source": [
    "carat_07_less    = diamonds.loc[diamonds.carat <  0.7, \"price\"]\n",
    "carat_07_greater = diamonds.loc[diamonds.carat >= 0.7, \"price\"]"
   ]
  },
  {
   "cell_type": "code",
   "execution_count": 52,
   "metadata": {},
   "outputs": [
    {
     "name": "stdout",
     "output_type": "stream",
     "text": [
      "Less   :  AndersonResult(statistic=829.0496819120162, critical_values=array([0.576, 0.656, 0.787, 0.918, 1.092]), significance_level=array([15. , 10. ,  5. ,  2.5,  1. ]))\n",
      "Greater:  AndersonResult(statistic=1231.4303477231406, critical_values=array([0.576, 0.656, 0.787, 0.918, 1.092]), significance_level=array([15. , 10. ,  5. ,  2.5,  1. ]))\n"
     ]
    }
   ],
   "source": [
    "# 1단계 : 정규성 검정\n",
    "# 귀무가설 : 정규분포를 따른다.\n",
    "# 대립가설 : 정규분포를 따르지 않는다.\n",
    "\n",
    "less_normality  = stats.anderson(carat_07_less,    dist = \"norm\")\n",
    "great_normality = stats.anderson(carat_07_greater, dist = \"norm\")\n",
    "\n",
    "print(\"Less   : \", less_normality)\n",
    "print(\"Greater: \", great_normality)"
   ]
  },
  {
   "cell_type": "code",
   "execution_count": 53,
   "metadata": {},
   "outputs": [],
   "source": [
    "# 결론\n",
    "# less    : 검정통계량 = 829.050  / 기각역(0.787)  --> 정규성 가정이 깨짐  \n",
    "# greater : 검정통계량 : 1231.43  / 기각역(0.787)  --> 정규성 가정이 깨짐"
   ]
  },
  {
   "cell_type": "code",
   "execution_count": 54,
   "metadata": {},
   "outputs": [
    {
     "data": {
      "text/plain": [
       "RanksumsResult(statistic=-198.14102870691278, pvalue=0.0)"
      ]
     },
     "execution_count": 54,
     "metadata": {},
     "output_type": "execute_result"
    }
   ],
   "source": [
    "# 2단계 : Wilcoxon's rank sum test\n",
    "stats.ranksums(carat_07_less, carat_07_greater)"
   ]
  },
  {
   "cell_type": "code",
   "execution_count": null,
   "metadata": {},
   "outputs": [],
   "source": [
    "# 결론\n",
    "# 검정통계량 : Z = -198.141\n",
    "# p-value    : 0.000(python의 p-value) / 2 = 0.000\n",
    "\n",
    "# 유의확률(p-value)이 0.000 이므로 유의수준 0.05 에서 \n",
    "# \"Less\" 과 \"Greater\" 의 가격에는 통계적으로 유의하게 작은 것으로 나타났다."
   ]
  }
 ],
 "metadata": {
  "kernelspec": {
   "display_name": "Python 3",
   "language": "python",
   "name": "python3"
  },
  "language_info": {
   "codemirror_mode": {
    "name": "ipython",
    "version": 3
   },
   "file_extension": ".py",
   "mimetype": "text/x-python",
   "name": "python",
   "nbconvert_exporter": "python",
   "pygments_lexer": "ipython3",
   "version": "3.8.3"
  }
 },
 "nbformat": 4,
 "nbformat_minor": 4
}
