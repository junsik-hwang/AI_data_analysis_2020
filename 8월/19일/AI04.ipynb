{
 "cells": [
  {
   "cell_type": "code",
   "execution_count": 5,
   "metadata": {},
   "outputs": [],
   "source": [
    "import numpy as np\n",
    "import pandas as pd\n",
    "import seaborn as sns\n",
    "import matplotlib.pyplot as plt\n",
    "import scipy.stats as stats"
   ]
  },
  {
   "cell_type": "code",
   "execution_count": 4,
   "metadata": {},
   "outputs": [],
   "source": [
    "diamonds = pd.read_excel(\"/SBA/diamonds.xlsx\",\n",
    "                        sheet_name = 0,\n",
    "                        header     = 0)"
   ]
  },
  {
   "cell_type": "markdown",
   "metadata": {},
   "source": [
    "- - -"
   ]
  },
  {
   "cell_type": "markdown",
   "metadata": {},
   "source": [
    "## 일표본 검정(One sample test)\n",
    "* 하나의 모집단의 평균이 기존보다 커졌는지, 작아졌는지, 달라졌는지를 분석하는 방법\n",
    "* 양적 자료 : 1개"
   ]
  },
  {
   "cell_type": "markdown",
   "metadata": {},
   "source": [
    "### 1. 일표본 t검정(One sample t-test)\n",
    " - 모집단의 양적 자료가 정규분포를 따른다고 할 때 사용"
   ]
  },
  {
   "cell_type": "markdown",
   "metadata": {},
   "source": [
    "**귀무가설 : 다이아몬드 가격의 평균은 4000달러이다.  \n",
    "대립가설 : 다이아몬드 가격의 평균은 4000달러보다 많다.**"
   ]
  },
  {
   "cell_type": "code",
   "execution_count": 8,
   "metadata": {},
   "outputs": [],
   "source": [
    "# scipy.stats -> stats\n",
    "# stats.ttest_1samp(data.variable, popmean = )\n",
    "\n",
    "# 참고\n",
    "# data.variable : 검정 변수\n",
    "# popmean       : 귀무가설의 모평균(μ)"
   ]
  },
  {
   "cell_type": "code",
   "execution_count": 18,
   "metadata": {},
   "outputs": [
    {
     "name": "stdout",
     "output_type": "stream",
     "text": [
      "3932.799721913237\n",
      "3989.4397381463023\n",
      "53940\n",
      "-3.912142197410893\n"
     ]
    }
   ],
   "source": [
    "price_mean = diamonds.price.mean()\n",
    "price_std  = diamonds.price.std()\n",
    "price_n    = diamonds.price.count()\n",
    "price_t    = (price_mean - 4000) / (price_std / np.sqrt(price_n))\n",
    "\n",
    "print(price_mean)\n",
    "print(price_std)\n",
    "print(price_n)\n",
    "print(price_t)"
   ]
  },
  {
   "cell_type": "code",
   "execution_count": 9,
   "metadata": {},
   "outputs": [
    {
     "data": {
      "text/plain": [
       "Ttest_1sampResult(statistic=-3.9121421974108177, pvalue=9.159308675707768e-05)"
      ]
     },
     "execution_count": 9,
     "metadata": {},
     "output_type": "execute_result"
    }
   ],
   "source": [
    "stats.ttest_1samp(diamonds.price, popmean = 4000)"
   ]
  },
  {
   "cell_type": "code",
   "execution_count": 19,
   "metadata": {},
   "outputs": [],
   "source": [
    "# 결론\n",
    "# 유의확률(p-value)이 1.0 이므로 유의수준 0.05에서\n",
    "# '다이아몬드 가격의 평균은 4000달러이다' 라는 귀무가설을 채택한다.\n",
    "# 다이아몬드 가격에는 통계적으로 유의한 차이는 없는 것으로 나타났다."
   ]
  },
  {
   "cell_type": "markdown",
   "metadata": {},
   "source": [
    "- - -"
   ]
  },
  {
   "cell_type": "code",
   "execution_count": 22,
   "metadata": {},
   "outputs": [
    {
     "name": "stdout",
     "output_type": "stream",
     "text": [
      "0.7979397478679852\n",
      "0.47401124440538067\n",
      "53940\n",
      "-99.00285472900812\n"
     ]
    }
   ],
   "source": [
    "# diamonds.carat\n",
    "# 귀무가설 : 다이아몬드 무게의 평균은 1캐럿이다.\n",
    "# 대립가설 : 다이아몬드 무게의 평균은 1캐럿보다 작다.\n",
    "\n",
    "carat_mean = diamonds.carat.mean()\n",
    "carat_std  = diamonds.carat.std()\n",
    "carat_n    = diamonds.carat.count()\n",
    "carat_t    = (carat_mean - 1) / (carat_std / np.sqrt(carat_n))\n",
    "\n",
    "print(carat_mean)\n",
    "print(carat_std)\n",
    "print(carat_n)\n",
    "print(carat_t)"
   ]
  },
  {
   "cell_type": "code",
   "execution_count": 23,
   "metadata": {},
   "outputs": [
    {
     "data": {
      "text/plain": [
       "Ttest_1sampResult(statistic=-99.00285472899229, pvalue=0.0)"
      ]
     },
     "execution_count": 23,
     "metadata": {},
     "output_type": "execute_result"
    }
   ],
   "source": [
    "stats.ttest_1samp(diamonds.carat, popmean = 1)"
   ]
  },
  {
   "cell_type": "code",
   "execution_count": null,
   "metadata": {},
   "outputs": [],
   "source": [
    "# 결론\n",
    "# 유의확률(p-value)이 0.000 이므로 유의수준 0.5 에서\n",
    "# 다이아몬드의 무게가 통계적으로 유의한 변화가 있는 것으로 나타났다.\n",
    "# 다이아몬드의 무게가 통계적으로 유의하게 작아진 것으로 나타났다."
   ]
  },
  {
   "cell_type": "markdown",
   "metadata": {},
   "source": [
    " - - -"
   ]
  },
  {
   "cell_type": "code",
   "execution_count": 24,
   "metadata": {},
   "outputs": [],
   "source": [
    "# 귀무가설 : 다이아몬드의 x 길이의 평균은 5이다.\n",
    "# 대립가설 : 다이아몬드의 x 길이의 평균은 5가 아니다."
   ]
  },
  {
   "cell_type": "code",
   "execution_count": 25,
   "metadata": {},
   "outputs": [
    {
     "name": "stdout",
     "output_type": "stream",
     "text": [
      "0.7979397478679852\n",
      "0.47401124440538067\n",
      "53940\n",
      "-99.00285472900812\n"
     ]
    }
   ],
   "source": [
    "x_mean = diamonds.x.mean()\n",
    "x_std  = diamonds.x.std()\n",
    "x_n    = diamonds.x.count()\n",
    "x_t    = (x_mean - 5) / (x_std / np.sqrt(x_n))\n",
    "\n",
    "print(carat_mean)\n",
    "print(carat_std)\n",
    "print(carat_n)\n",
    "print(carat_t)"
   ]
  },
  {
   "cell_type": "code",
   "execution_count": 26,
   "metadata": {},
   "outputs": [
    {
     "data": {
      "text/plain": [
       "Ttest_1sampResult(statistic=151.37912832761043, pvalue=0.0)"
      ]
     },
     "execution_count": 26,
     "metadata": {},
     "output_type": "execute_result"
    }
   ],
   "source": [
    "stats.ttest_1samp(diamonds.x, popmean = 5)"
   ]
  },
  {
   "cell_type": "code",
   "execution_count": 27,
   "metadata": {},
   "outputs": [],
   "source": [
    "# 결론\n",
    "# 유의확률(p-value)이 0.000 이므로 유의수준 0.05에서\n",
    "# 다이아몬드 x의 길이는 통계적으로 유의하게 변화된 것으로 나타났다."
   ]
  },
  {
   "cell_type": "markdown",
   "metadata": {},
   "source": [
    "---"
   ]
  },
  {
   "cell_type": "markdown",
   "metadata": {},
   "source": [
    "---"
   ]
  },
  {
   "cell_type": "markdown",
   "metadata": {},
   "source": [
    "### 2. 윌콕슨의 부호 순위 검정(Wilcoxon's signed rank test)"
   ]
  },
  {
   "cell_type": "markdown",
   "metadata": {},
   "source": [
    "- 모집단의 양적 자료가 정규분포를 따르지 않을 때 (정규성 가정이 깨질 때)"
   ]
  },
  {
   "cell_type": "code",
   "execution_count": null,
   "metadata": {},
   "outputs": [],
   "source": [
    "# stats.wilcoxon(data.variable - myu, alternative = 'greater' or 'less' or 'two.sided')\n",
    "\n",
    "# data.variable = myu : wilcox는 기본이 평균  = 0\n",
    "# alternative   = 대립가설\n",
    "# alternative   = \"greater\"  : myu  >  0\n",
    "# alternative   = \"less\"     : myu  <  0\n",
    "# alternative   = \"two.side\" : myu !=  0"
   ]
  },
  {
   "cell_type": "code",
   "execution_count": 28,
   "metadata": {},
   "outputs": [
    {
     "data": {
      "text/plain": [
       "WilcoxonResult(statistic=564679024.5, pvalue=1.0)"
      ]
     },
     "execution_count": 28,
     "metadata": {},
     "output_type": "execute_result"
    }
   ],
   "source": [
    "# 귀무가설 : 다이아몬드 가격의 평균은 4000달러이다.  \n",
    "# 대립가설 : 다이아몬드 가격의 평균은 4000달러보다 많다.\n",
    "\n",
    "stats.wilcoxon(diamonds.price - 4000, alternative = 'greater')"
   ]
  },
  {
   "cell_type": "code",
   "execution_count": null,
   "metadata": {},
   "outputs": [],
   "source": [
    "# 결론\n",
    "# 유의확률이 1.000 이므로 유의수준 0.05에서 귀무가설을 채택"
   ]
  }
 ],
 "metadata": {
  "kernelspec": {
   "display_name": "Python 3",
   "language": "python",
   "name": "python3"
  },
  "language_info": {
   "codemirror_mode": {
    "name": "ipython",
    "version": 3
   },
   "file_extension": ".py",
   "mimetype": "text/x-python",
   "name": "python",
   "nbconvert_exporter": "python",
   "pygments_lexer": "ipython3",
   "version": "3.8.3"
  }
 },
 "nbformat": 4,
 "nbformat_minor": 4
}
