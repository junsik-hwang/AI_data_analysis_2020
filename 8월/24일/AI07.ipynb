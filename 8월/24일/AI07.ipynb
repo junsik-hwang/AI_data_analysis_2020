{
 "cells": [
  {
   "cell_type": "code",
   "execution_count": 53,
   "metadata": {},
   "outputs": [],
   "source": [
    "import pandas as pd\n",
    "import seaborn as sns\n",
    "import matplotlib.pyplot as plt\n",
    "import scipy.stats as stats\n",
    "import researchpy as rp\n",
    "import pingouin as pg\n",
    "import statsmodels.api as sm\n",
    "from statsmodels.formula.api import ols\n",
    "from statsmodels.stats.multicomp import pairwise_tukeyhsd\n",
    "from statsmodels.stats.multicomp import MultiComparison\n",
    "import scikit_posthocs as sp"
   ]
  },
  {
   "cell_type": "code",
   "execution_count": 2,
   "metadata": {},
   "outputs": [],
   "source": [
    "iris = pd.read_excel(\"/SBA/iris.xlsx\",\n",
    "                     sheet_name = 0,\n",
    "                     header     = 0)"
   ]
  },
  {
   "cell_type": "markdown",
   "metadata": {},
   "source": [
    "## 분산분석(ANOVA : Analysis of Variance)\n",
    "- 독립적인 k개 집단의 양적 자료에 차이가 있는지를 분석하는 방법"
   ]
  },
  {
   "cell_type": "code",
   "execution_count": 7,
   "metadata": {},
   "outputs": [
    {
     "data": {
      "text/html": [
       "<div>\n",
       "<style scoped>\n",
       "    .dataframe tbody tr th:only-of-type {\n",
       "        vertical-align: middle;\n",
       "    }\n",
       "\n",
       "    .dataframe tbody tr th {\n",
       "        vertical-align: top;\n",
       "    }\n",
       "\n",
       "    .dataframe thead th {\n",
       "        text-align: right;\n",
       "    }\n",
       "</style>\n",
       "<table border=\"1\" class=\"dataframe\">\n",
       "  <thead>\n",
       "    <tr style=\"text-align: right;\">\n",
       "      <th></th>\n",
       "      <th>sepal_length</th>\n",
       "      <th>sepal_width</th>\n",
       "      <th>petal_length</th>\n",
       "      <th>petal_width</th>\n",
       "      <th>species</th>\n",
       "    </tr>\n",
       "  </thead>\n",
       "  <tbody>\n",
       "    <tr>\n",
       "      <th>0</th>\n",
       "      <td>5.1</td>\n",
       "      <td>3.5</td>\n",
       "      <td>1.4</td>\n",
       "      <td>0.2</td>\n",
       "      <td>setosa</td>\n",
       "    </tr>\n",
       "    <tr>\n",
       "      <th>1</th>\n",
       "      <td>4.9</td>\n",
       "      <td>3.0</td>\n",
       "      <td>1.4</td>\n",
       "      <td>0.2</td>\n",
       "      <td>setosa</td>\n",
       "    </tr>\n",
       "    <tr>\n",
       "      <th>2</th>\n",
       "      <td>4.7</td>\n",
       "      <td>3.2</td>\n",
       "      <td>1.3</td>\n",
       "      <td>0.2</td>\n",
       "      <td>setosa</td>\n",
       "    </tr>\n",
       "    <tr>\n",
       "      <th>3</th>\n",
       "      <td>4.6</td>\n",
       "      <td>3.1</td>\n",
       "      <td>1.5</td>\n",
       "      <td>0.2</td>\n",
       "      <td>setosa</td>\n",
       "    </tr>\n",
       "    <tr>\n",
       "      <th>4</th>\n",
       "      <td>5.0</td>\n",
       "      <td>3.6</td>\n",
       "      <td>1.4</td>\n",
       "      <td>0.2</td>\n",
       "      <td>setosa</td>\n",
       "    </tr>\n",
       "  </tbody>\n",
       "</table>\n",
       "</div>"
      ],
      "text/plain": [
       "   sepal_length  sepal_width  petal_length  petal_width species\n",
       "0           5.1          3.5           1.4          0.2  setosa\n",
       "1           4.9          3.0           1.4          0.2  setosa\n",
       "2           4.7          3.2           1.3          0.2  setosa\n",
       "3           4.6          3.1           1.5          0.2  setosa\n",
       "4           5.0          3.6           1.4          0.2  setosa"
      ]
     },
     "execution_count": 7,
     "metadata": {},
     "output_type": "execute_result"
    }
   ],
   "source": [
    "iris.head()"
   ]
  },
  {
   "cell_type": "code",
   "execution_count": 8,
   "metadata": {},
   "outputs": [],
   "source": [
    "# iris 데이터 설명\n",
    "# sepal_length : 꽃받침의 길이(cm)\n",
    "# sepal_width  : 꽃받침의 너비(cm)\n",
    "# petal_length : 꽃잎의 길이(cm)\n",
    "# petal_width  : 꽃잎의 너비(cm)\n",
    "# species      : 꽃의 종류(setosa, versicolor, virginica)"
   ]
  },
  {
   "cell_type": "markdown",
   "metadata": {},
   "source": [
    "- - -"
   ]
  },
  {
   "cell_type": "code",
   "execution_count": 9,
   "metadata": {},
   "outputs": [],
   "source": [
    "# 귀무가설 : iris 품종에 따라 꽃잎의 길이에 차이가 없다.\n",
    "# 대립가설 : iris 품종에 따라 꽃잎의 길이에 차이가 있다."
   ]
  },
  {
   "cell_type": "code",
   "execution_count": 11,
   "metadata": {},
   "outputs": [
    {
     "name": "stdout",
     "output_type": "stream",
     "text": [
      "\n",
      "\n"
     ]
    },
    {
     "data": {
      "text/html": [
       "<div>\n",
       "<style scoped>\n",
       "    .dataframe tbody tr th:only-of-type {\n",
       "        vertical-align: middle;\n",
       "    }\n",
       "\n",
       "    .dataframe tbody tr th {\n",
       "        vertical-align: top;\n",
       "    }\n",
       "\n",
       "    .dataframe thead th {\n",
       "        text-align: right;\n",
       "    }\n",
       "</style>\n",
       "<table border=\"1\" class=\"dataframe\">\n",
       "  <thead>\n",
       "    <tr style=\"text-align: right;\">\n",
       "      <th></th>\n",
       "      <th>Variable</th>\n",
       "      <th>N</th>\n",
       "      <th>Mean</th>\n",
       "      <th>SD</th>\n",
       "      <th>SE</th>\n",
       "      <th>95% Conf.</th>\n",
       "      <th>Interval</th>\n",
       "    </tr>\n",
       "  </thead>\n",
       "  <tbody>\n",
       "    <tr>\n",
       "      <th>0</th>\n",
       "      <td>petal_length</td>\n",
       "      <td>150.0</td>\n",
       "      <td>3.758</td>\n",
       "      <td>1.7653</td>\n",
       "      <td>0.1441</td>\n",
       "      <td>3.4732</td>\n",
       "      <td>4.0428</td>\n",
       "    </tr>\n",
       "  </tbody>\n",
       "</table>\n",
       "</div>"
      ],
      "text/plain": [
       "       Variable      N   Mean      SD      SE  95% Conf.  Interval\n",
       "0  petal_length  150.0  3.758  1.7653  0.1441     3.4732    4.0428"
      ]
     },
     "execution_count": 11,
     "metadata": {},
     "output_type": "execute_result"
    }
   ],
   "source": [
    "# 꽃잎의 길이\n",
    "rp.summary_cont(iris.petal_length)"
   ]
  },
  {
   "cell_type": "code",
   "execution_count": 13,
   "metadata": {},
   "outputs": [
    {
     "name": "stdout",
     "output_type": "stream",
     "text": [
      "\n",
      "\n"
     ]
    },
    {
     "data": {
      "text/html": [
       "<div>\n",
       "<style scoped>\n",
       "    .dataframe tbody tr th:only-of-type {\n",
       "        vertical-align: middle;\n",
       "    }\n",
       "\n",
       "    .dataframe tbody tr th {\n",
       "        vertical-align: top;\n",
       "    }\n",
       "\n",
       "    .dataframe thead th {\n",
       "        text-align: right;\n",
       "    }\n",
       "</style>\n",
       "<table border=\"1\" class=\"dataframe\">\n",
       "  <thead>\n",
       "    <tr style=\"text-align: right;\">\n",
       "      <th></th>\n",
       "      <th>N</th>\n",
       "      <th>Mean</th>\n",
       "      <th>SD</th>\n",
       "      <th>SE</th>\n",
       "      <th>95% Conf.</th>\n",
       "      <th>Interval</th>\n",
       "    </tr>\n",
       "    <tr>\n",
       "      <th>species</th>\n",
       "      <th></th>\n",
       "      <th></th>\n",
       "      <th></th>\n",
       "      <th></th>\n",
       "      <th></th>\n",
       "      <th></th>\n",
       "    </tr>\n",
       "  </thead>\n",
       "  <tbody>\n",
       "    <tr>\n",
       "      <th>setosa</th>\n",
       "      <td>50</td>\n",
       "      <td>1.462</td>\n",
       "      <td>0.1737</td>\n",
       "      <td>0.0246</td>\n",
       "      <td>1.4126</td>\n",
       "      <td>1.5114</td>\n",
       "    </tr>\n",
       "    <tr>\n",
       "      <th>versicolor</th>\n",
       "      <td>50</td>\n",
       "      <td>4.260</td>\n",
       "      <td>0.4699</td>\n",
       "      <td>0.0665</td>\n",
       "      <td>4.1265</td>\n",
       "      <td>4.3935</td>\n",
       "    </tr>\n",
       "    <tr>\n",
       "      <th>virginica</th>\n",
       "      <td>50</td>\n",
       "      <td>5.552</td>\n",
       "      <td>0.5519</td>\n",
       "      <td>0.0780</td>\n",
       "      <td>5.3952</td>\n",
       "      <td>5.7088</td>\n",
       "    </tr>\n",
       "  </tbody>\n",
       "</table>\n",
       "</div>"
      ],
      "text/plain": [
       "             N   Mean      SD      SE  95% Conf.  Interval\n",
       "species                                                   \n",
       "setosa      50  1.462  0.1737  0.0246     1.4126    1.5114\n",
       "versicolor  50  4.260  0.4699  0.0665     4.1265    4.3935\n",
       "virginica   50  5.552  0.5519  0.0780     5.3952    5.7088"
      ]
     },
     "execution_count": 13,
     "metadata": {},
     "output_type": "execute_result"
    }
   ],
   "source": [
    "# 3 품종 꽃잎의 길이 : petal_length\n",
    "rp.summary_cont(iris.petal_length.groupby(iris.species))"
   ]
  },
  {
   "cell_type": "code",
   "execution_count": 14,
   "metadata": {},
   "outputs": [
    {
     "data": {
      "image/png": "[encoded data removed]",
      "text/plain": [
       "<Figure size 432x288 with 1 Axes>"
      ]
     },
     "metadata": {
      "needs_background": "light"
     },
     "output_type": "display_data"
    }
   ],
   "source": [
    "# 품종별 꽃잎의 길이에 대한 상자그림\n",
    "sns.boxplot(x = \"species\", y = \"petal_length\", data = iris)\n",
    "plt.show()"
   ]
  },
  {
   "cell_type": "code",
   "execution_count": 15,
   "metadata": {},
   "outputs": [],
   "source": [
    "# 정규성을 만족한다고 할 때 등분산 검정을 한다.\n",
    "# 귀무가설 : 등분산이다.\n",
    "# 대립가설 : 이분산이다.\n",
    "\n",
    "# stats.levene()\n",
    "# stats.bartlett()"
   ]
  },
  {
   "cell_type": "code",
   "execution_count": 16,
   "metadata": {},
   "outputs": [
    {
     "data": {
      "text/plain": [
       "LeveneResult(statistic=19.480338801923573, pvalue=3.1287566394085344e-08)"
      ]
     },
     "execution_count": 16,
     "metadata": {},
     "output_type": "execute_result"
    }
   ],
   "source": [
    "stats.levene(iris.loc[iris.species == \"setosa\",     \"petal_length\"],\n",
    "             iris.loc[iris.species == \"versicolor\", \"petal_length\"],\n",
    "             iris.loc[iris.species == \"virginica\",  \"petal_length\"])"
   ]
  },
  {
   "cell_type": "code",
   "execution_count": 17,
   "metadata": {},
   "outputs": [],
   "source": [
    "# 결론\n",
    "# F = 검정통계량 = 19.480\n",
    "# 유의확률(p-value) = 0.000\n",
    "\n",
    "# 유의확률이 0.000 이므로 유의수준 0,05에서 이분산이다."
   ]
  },
  {
   "cell_type": "code",
   "execution_count": 20,
   "metadata": {},
   "outputs": [
    {
     "data": {
      "text/html": [
       "<div>\n",
       "<style scoped>\n",
       "    .dataframe tbody tr th:only-of-type {\n",
       "        vertical-align: middle;\n",
       "    }\n",
       "\n",
       "    .dataframe tbody tr th {\n",
       "        vertical-align: top;\n",
       "    }\n",
       "\n",
       "    .dataframe thead th {\n",
       "        text-align: right;\n",
       "    }\n",
       "</style>\n",
       "<table border=\"1\" class=\"dataframe\">\n",
       "  <thead>\n",
       "    <tr style=\"text-align: right;\">\n",
       "      <th></th>\n",
       "      <th>Source</th>\n",
       "      <th>ddof1</th>\n",
       "      <th>ddof2</th>\n",
       "      <th>F</th>\n",
       "      <th>p-unc</th>\n",
       "      <th>np2</th>\n",
       "    </tr>\n",
       "  </thead>\n",
       "  <tbody>\n",
       "    <tr>\n",
       "      <th>0</th>\n",
       "      <td>species</td>\n",
       "      <td>2</td>\n",
       "      <td>78.072955</td>\n",
       "      <td>1828.091945</td>\n",
       "      <td>2.693327e-66</td>\n",
       "      <td>0.941372</td>\n",
       "    </tr>\n",
       "  </tbody>\n",
       "</table>\n",
       "</div>"
      ],
      "text/plain": [
       "    Source  ddof1      ddof2            F         p-unc       np2\n",
       "0  species      2  78.072955  1828.091945  2.693327e-66  0.941372"
      ]
     },
     "execution_count": 20,
     "metadata": {},
     "output_type": "execute_result"
    }
   ],
   "source": [
    "# 이분산이 가정된 분산분석\n",
    "# pingouin -> pg\n",
    "# pg.welch_anova(dv = \"양적 자료\", between = \"집단(질적 자료)\", data = )\n",
    "\n",
    "# 참고\n",
    "# dv : dependent variable = 종속 변수 = 반응 변수 = Label : 양적 자료\n",
    "# between : independent variable = 독립 변수 = 설명 변수 = Feature : 질적 자료\n",
    "\n",
    "pg.welch_anova(dv = \"petal_length\", between = \"species\", data = iris)"
   ]
  },
  {
   "cell_type": "code",
   "execution_count": 21,
   "metadata": {},
   "outputs": [],
   "source": [
    "# ddof1 : 자유도(k-1)       = 2\n",
    "# ddof2 : 자유도(n-k)       = 78.073\n",
    "# F     : 검정통계량        = 1828.092\n",
    "# p-unc : 유의확률(p-value) = 0.000"
   ]
  },
  {
   "cell_type": "code",
   "execution_count": 22,
   "metadata": {},
   "outputs": [],
   "source": [
    "# 결론\n",
    "# 유의확률이 0.000 이므로 유의수준 0.05 에서\n",
    "# 품종에 따라 꽃잎의 길이에 통계적으로 유의한 차이가 있는 것으로 나타났다."
   ]
  },
  {
   "cell_type": "markdown",
   "metadata": {},
   "source": [
    "- - - "
   ]
  },
  {
   "cell_type": "code",
   "execution_count": 23,
   "metadata": {},
   "outputs": [
    {
     "data": {
      "text/plain": [
       "F_onewayResult(statistic=1180.161182252981, pvalue=2.8567766109615584e-91)"
      ]
     },
     "execution_count": 23,
     "metadata": {},
     "output_type": "execute_result"
    }
   ],
   "source": [
    "# 등분산이 가정된 분산분석\n",
    "# stats.f_oneway(집단1 양적 자료, 집단2 양적 자료, 집단3 양적 자료)\n",
    "\n",
    "# oneway : 일원배치(하나의 질적 자료를 배치)\n",
    "stats.f_oneway(iris.loc[iris.species == \"setosa\", \"petal_length\"],\n",
    "               iris.loc[iris.species == \"versicolor\", \"petal_length\"],\n",
    "               iris.loc[iris.species == \"virginica\", \"petal_length\"])"
   ]
  },
  {
   "cell_type": "code",
   "execution_count": 25,
   "metadata": {},
   "outputs": [],
   "source": [
    "# 결론\n",
    "# 유의확률이 0.000 이므로 유의수준 0.05에서\n",
    "# 품종에 따라 꽃잎의 길이에 통계적으로 유의한 차이가 있는 것으로 나타났다."
   ]
  },
  {
   "cell_type": "markdown",
   "metadata": {},
   "source": [
    "- - - "
   ]
  },
  {
   "cell_type": "code",
   "execution_count": 29,
   "metadata": {
    "scrolled": true
   },
   "outputs": [
    {
     "data": {
      "text/html": [
       "<div>\n",
       "<style scoped>\n",
       "    .dataframe tbody tr th:only-of-type {\n",
       "        vertical-align: middle;\n",
       "    }\n",
       "\n",
       "    .dataframe tbody tr th {\n",
       "        vertical-align: top;\n",
       "    }\n",
       "\n",
       "    .dataframe thead th {\n",
       "        text-align: right;\n",
       "    }\n",
       "</style>\n",
       "<table border=\"1\" class=\"dataframe\">\n",
       "  <thead>\n",
       "    <tr style=\"text-align: right;\">\n",
       "      <th></th>\n",
       "      <th>df</th>\n",
       "      <th>sum_sq</th>\n",
       "      <th>mean_sq</th>\n",
       "      <th>F</th>\n",
       "      <th>PR(&gt;F)</th>\n",
       "    </tr>\n",
       "  </thead>\n",
       "  <tbody>\n",
       "    <tr>\n",
       "      <th>species</th>\n",
       "      <td>2.0</td>\n",
       "      <td>437.1028</td>\n",
       "      <td>218.551400</td>\n",
       "      <td>1180.161182</td>\n",
       "      <td>2.856777e-91</td>\n",
       "    </tr>\n",
       "    <tr>\n",
       "      <th>Residual</th>\n",
       "      <td>147.0</td>\n",
       "      <td>27.2226</td>\n",
       "      <td>0.185188</td>\n",
       "      <td>NaN</td>\n",
       "      <td>NaN</td>\n",
       "    </tr>\n",
       "  </tbody>\n",
       "</table>\n",
       "</div>"
      ],
      "text/plain": [
       "             df    sum_sq     mean_sq            F        PR(>F)\n",
       "species     2.0  437.1028  218.551400  1180.161182  2.856777e-91\n",
       "Residual  147.0   27.2226    0.185188          NaN           NaN"
      ]
     },
     "execution_count": 29,
     "metadata": {},
     "output_type": "execute_result"
    }
   ],
   "source": [
    "# 회귀분석 방법을 이용한 분산분석\n",
    "# result = ols(\"양적 자료 ~ 질적 자료\", data = ).fit()\n",
    "# sm.stats.anova_lm(result, type = 2)\n",
    "\n",
    "iris_result = ols(\"petal_length ~ species\", data = iris).fit()\n",
    "sm.stats.anova_lm(iris_result, type = 2)"
   ]
  },
  {
   "cell_type": "markdown",
   "metadata": {},
   "source": [
    "- - -"
   ]
  },
  {
   "cell_type": "markdown",
   "metadata": {},
   "source": [
    "#### 2. 크루스칼-왈리스 순위 합 검정(Kruskal-Wallis rank sum test)\n",
    "- k 집단 중 하나라도 정규성 가정이 깨질 때 사용함"
   ]
  },
  {
   "cell_type": "code",
   "execution_count": 31,
   "metadata": {},
   "outputs": [
    {
     "data": {
      "text/plain": [
       "KruskalResult(statistic=130.41104857977163, pvalue=4.803973591157605e-29)"
      ]
     },
     "execution_count": 31,
     "metadata": {},
     "output_type": "execute_result"
    }
   ],
   "source": [
    "# stats.kruskal(집단1 양적 자료, 집단2 양적자료, 집단3 양적자료)\n",
    "stats.kruskal(iris.loc[iris.species == \"setosa\", \"petal_length\"],\n",
    "              iris.loc[iris.species == \"versicolor\", \"petal_length\"],\n",
    "              iris.loc[iris.species == \"virginica\", \"petal_length\"])"
   ]
  },
  {
   "cell_type": "code",
   "execution_count": 32,
   "metadata": {},
   "outputs": [],
   "source": [
    "# 결론\n",
    "\n",
    "# Chi-square        : 검정통계량 = 130.411\n",
    "# 유의확률(p-value) : 0.000\n",
    "\n",
    "# 유의확률이 0.000 이므로 유의수준 0.05 에서\n",
    "# 품종에 따라 꽃잎의 길이에 통계적으로 유의한 차이가 있는 것으로 나타났다."
   ]
  },
  {
   "cell_type": "markdown",
   "metadata": {},
   "source": [
    "### 실행 단계"
   ]
  },
  {
   "cell_type": "code",
   "execution_count": 33,
   "metadata": {},
   "outputs": [],
   "source": [
    "# 1단계 : 정규성 검정(shapiro, anderson)\n",
    "# 귀무가설 : 정규분포를 따른다.\n",
    "# 대립가설 : 정규분포를 따르지 않는다."
   ]
  },
  {
   "cell_type": "code",
   "execution_count": 37,
   "metadata": {},
   "outputs": [
    {
     "name": "stdout",
     "output_type": "stream",
     "text": [
      "Setosa :  ShapiroResult(statistic=0.9549766182899475, pvalue=0.05481043830513954)\n",
      "Versicolor :  ShapiroResult(statistic=0.9660047888755798, pvalue=0.1584833413362503)\n",
      "Virginica :  ShapiroResult(statistic=0.9621862769126892, pvalue=0.10977369546890259)\n"
     ]
    }
   ],
   "source": [
    "setosa_normality = stats.shapiro(iris.loc[iris.species == \"setosa\", \"petal_length\"])\n",
    "versicolor_normality = stats.shapiro(iris.loc[iris.species == \"versicolor\", \"petal_length\"])\n",
    "virginica_normality = stats.shapiro(iris.loc[iris.species == \"virginica\", \"petal_length\"])\n",
    "\n",
    "print(\"Setosa : \", setosa_normality)\n",
    "print(\"Versicolor : \", versicolor_normality)\n",
    "print(\"Virginica : \", virginica_normality)"
   ]
  },
  {
   "cell_type": "code",
   "execution_count": 38,
   "metadata": {},
   "outputs": [],
   "source": [
    "# 결론\n",
    "\n",
    "# Setosa     : 유의확률 0.055 > 0.05 = 정규성 가정 만족\n",
    "# Versicolor : 유의확률 0.158 > 0.05 = 정규성 가정 만족\n",
    "# Virginica  : 유의확률 0.110 > 0.05 = 정규성 가정 만족"
   ]
  },
  {
   "cell_type": "code",
   "execution_count": 39,
   "metadata": {},
   "outputs": [
    {
     "data": {
      "text/plain": [
       "LeveneResult(statistic=19.480338801923573, pvalue=3.1287566394085344e-08)"
      ]
     },
     "execution_count": 39,
     "metadata": {},
     "output_type": "execute_result"
    }
   ],
   "source": [
    "# 등분산 검정\n",
    "# 귀무가설 : 등분산이다.\n",
    "# 대립가설 : 이분산이다.\n",
    "\n",
    "stats.levene(iris.loc[iris.species == \"setosa\",     \"petal_length\"],\n",
    "             iris.loc[iris.species == \"versicolor\", \"petal_length\"],\n",
    "             iris.loc[iris.species == \"virginica\",  \"petal_length\"])"
   ]
  },
  {
   "cell_type": "code",
   "execution_count": 40,
   "metadata": {},
   "outputs": [],
   "source": [
    "# 결론\n",
    "# 유의확률이 0.000 이므로 유의수준 0.05 에서 이분산이다."
   ]
  },
  {
   "cell_type": "code",
   "execution_count": 41,
   "metadata": {},
   "outputs": [
    {
     "data": {
      "text/html": [
       "<div>\n",
       "<style scoped>\n",
       "    .dataframe tbody tr th:only-of-type {\n",
       "        vertical-align: middle;\n",
       "    }\n",
       "\n",
       "    .dataframe tbody tr th {\n",
       "        vertical-align: top;\n",
       "    }\n",
       "\n",
       "    .dataframe thead th {\n",
       "        text-align: right;\n",
       "    }\n",
       "</style>\n",
       "<table border=\"1\" class=\"dataframe\">\n",
       "  <thead>\n",
       "    <tr style=\"text-align: right;\">\n",
       "      <th></th>\n",
       "      <th>Source</th>\n",
       "      <th>ddof1</th>\n",
       "      <th>ddof2</th>\n",
       "      <th>F</th>\n",
       "      <th>p-unc</th>\n",
       "      <th>np2</th>\n",
       "    </tr>\n",
       "  </thead>\n",
       "  <tbody>\n",
       "    <tr>\n",
       "      <th>0</th>\n",
       "      <td>species</td>\n",
       "      <td>2</td>\n",
       "      <td>78.072955</td>\n",
       "      <td>1828.091945</td>\n",
       "      <td>2.693327e-66</td>\n",
       "      <td>0.941372</td>\n",
       "    </tr>\n",
       "  </tbody>\n",
       "</table>\n",
       "</div>"
      ],
      "text/plain": [
       "    Source  ddof1      ddof2            F         p-unc       np2\n",
       "0  species      2  78.072955  1828.091945  2.693327e-66  0.941372"
      ]
     },
     "execution_count": 41,
     "metadata": {},
     "output_type": "execute_result"
    }
   ],
   "source": [
    "# 3단계 : 이분산이 가정된 분산분석\n",
    "pg.welch_anova(dv = \"petal_length\", between = \"species\", data = iris)"
   ]
  },
  {
   "cell_type": "code",
   "execution_count": 42,
   "metadata": {},
   "outputs": [],
   "source": [
    "# 결론\n",
    "# 유의확률 0.000 이므로 유의수준 0.05에서\n",
    "# 품종에 따라 꽃잎의 길이에 통계적으로 유의한 차이가 있는 것으로 나타났다."
   ]
  },
  {
   "cell_type": "markdown",
   "metadata": {},
   "source": [
    "- - -"
   ]
  },
  {
   "cell_type": "code",
   "execution_count": 43,
   "metadata": {},
   "outputs": [
    {
     "name": "stdout",
     "output_type": "stream",
     "text": [
      "Setosa :  ShapiroResult(statistic=0.9776989221572876, pvalue=0.4595281183719635)\n",
      "Versicolor :  ShapiroResult(statistic=0.9778355956077576, pvalue=0.46473264694213867)\n",
      "Virginica :  ShapiroResult(statistic=0.9711798429489136, pvalue=0.25832483172416687)\n"
     ]
    }
   ],
   "source": [
    "# 문제1\n",
    "# 귀무가설 : 품종에 따라 꽃받침의 길이에 차이가 없다.\n",
    "# 대립가설 : 품종에 따라 꽃받침의 길이에 차이가 있다.\n",
    "\n",
    "setosa_normality = stats.shapiro(iris.loc[iris.species == \"setosa\", \"sepal_length\"])\n",
    "versicolor_normality = stats.shapiro(iris.loc[iris.species == \"versicolor\", \"sepal_length\"])\n",
    "virginica_normality = stats.shapiro(iris.loc[iris.species == \"virginica\", \"sepal_length\"])\n",
    "\n",
    "print(\"Setosa : \", setosa_normality)\n",
    "print(\"Versicolor : \", versicolor_normality)\n",
    "print(\"Virginica : \", virginica_normality)"
   ]
  },
  {
   "cell_type": "code",
   "execution_count": 44,
   "metadata": {},
   "outputs": [],
   "source": [
    "# 결론\n",
    "\n",
    "# Setosa     : 유의확률 0.46 > 0.05 = 정규성 가정 만족\n",
    "# Versicolor : 유의확률 0.46 > 0.05 = 정규성 가정 만족\n",
    "# Virginica  : 유의확률 0.26 > 0.05 = 정규성 가정 만족"
   ]
  },
  {
   "cell_type": "code",
   "execution_count": 45,
   "metadata": {},
   "outputs": [
    {
     "data": {
      "text/plain": [
       "LeveneResult(statistic=6.35272002048269, pvalue=0.0022585277836218586)"
      ]
     },
     "execution_count": 45,
     "metadata": {},
     "output_type": "execute_result"
    }
   ],
   "source": [
    "# 등분산 검정\n",
    "# 귀무가설 : 등분산이다.\n",
    "# 대립가설 : 이분산이다.\n",
    "\n",
    "stats.levene(iris.loc[iris.species == \"setosa\",     \"sepal_length\"],\n",
    "             iris.loc[iris.species == \"versicolor\", \"sepal_length\"],\n",
    "             iris.loc[iris.species == \"virginica\",  \"sepal_length\"])"
   ]
  },
  {
   "cell_type": "code",
   "execution_count": 46,
   "metadata": {},
   "outputs": [],
   "source": [
    "# 결론\n",
    "# 유의확률이 0.002 이므로 유의수준 0.05 에서 이분산이다."
   ]
  },
  {
   "cell_type": "code",
   "execution_count": 47,
   "metadata": {},
   "outputs": [
    {
     "data": {
      "text/html": [
       "<div>\n",
       "<style scoped>\n",
       "    .dataframe tbody tr th:only-of-type {\n",
       "        vertical-align: middle;\n",
       "    }\n",
       "\n",
       "    .dataframe tbody tr th {\n",
       "        vertical-align: top;\n",
       "    }\n",
       "\n",
       "    .dataframe thead th {\n",
       "        text-align: right;\n",
       "    }\n",
       "</style>\n",
       "<table border=\"1\" class=\"dataframe\">\n",
       "  <thead>\n",
       "    <tr style=\"text-align: right;\">\n",
       "      <th></th>\n",
       "      <th>Source</th>\n",
       "      <th>ddof1</th>\n",
       "      <th>ddof2</th>\n",
       "      <th>F</th>\n",
       "      <th>p-unc</th>\n",
       "      <th>np2</th>\n",
       "    </tr>\n",
       "  </thead>\n",
       "  <tbody>\n",
       "    <tr>\n",
       "      <th>0</th>\n",
       "      <td>species</td>\n",
       "      <td>2</td>\n",
       "      <td>92.211145</td>\n",
       "      <td>138.908285</td>\n",
       "      <td>1.505059e-28</td>\n",
       "      <td>0.618706</td>\n",
       "    </tr>\n",
       "  </tbody>\n",
       "</table>\n",
       "</div>"
      ],
      "text/plain": [
       "    Source  ddof1      ddof2           F         p-unc       np2\n",
       "0  species      2  92.211145  138.908285  1.505059e-28  0.618706"
      ]
     },
     "execution_count": 47,
     "metadata": {},
     "output_type": "execute_result"
    }
   ],
   "source": [
    "# 3단계 : 이분산이 가정된 분산분석\n",
    "pg.welch_anova(dv = \"sepal_length\", between = \"species\", data = iris)"
   ]
  },
  {
   "cell_type": "code",
   "execution_count": 48,
   "metadata": {},
   "outputs": [],
   "source": [
    "# 결론\n",
    "# 유의확률 0.000 이므로 유의수준 0.05에서\n",
    "# 품종에 따라 꽃받침의 길이에 통계적으로 유의한 차이가 있는 것으로 나타났다."
   ]
  },
  {
   "cell_type": "markdown",
   "metadata": {},
   "source": [
    "- -- -"
   ]
  },
  {
   "cell_type": "markdown",
   "metadata": {},
   "source": [
    "#### 다중비교(Multiple Comparisons) = 사후 분석(Post-Hoc)"
   ]
  },
  {
   "cell_type": "code",
   "execution_count": 50,
   "metadata": {},
   "outputs": [
    {
     "name": "stdout",
     "output_type": "stream",
     "text": [
      "   Multiple Comparison of Means - Tukey HSD, FWER=0.05   \n",
      "=========================================================\n",
      "  group1     group2   meandiff p-adj lower  upper  reject\n",
      "---------------------------------------------------------\n",
      "    setosa versicolor    2.798 0.001 2.5942 3.0018   True\n",
      "    setosa  virginica     4.09 0.001 3.8862 4.2938   True\n",
      "versicolor  virginica    1.292 0.001 1.0882 1.4958   True\n",
      "---------------------------------------------------------\n"
     ]
    }
   ],
   "source": [
    "# (1) 정규성 가정이 만족됐을 때\n",
    "# mc = MultiComparison(data = 양적 자료, groups = 질적 자료)\n",
    "# print(mc.tukeyhsd())\n",
    "\n",
    "iris_mc = MultiComparison(iris.petal_length, iris.species)\n",
    "print(iris_mc.tukeyhsd())"
   ]
  },
  {
   "cell_type": "code",
   "execution_count": 51,
   "metadata": {},
   "outputs": [],
   "source": [
    "# (2) 정규성 가정이 깨졌을 때\n",
    "# 패키지 : scikit_posthocs\n",
    "# scikit_posthocs -> sp\n",
    "# sp.posthoc_conover(data, \n",
    "#                    val_col = \"양적 자료\", group_col = \"질적 자료\",\n",
    "#                    p_adjust = \"holm\")\n",
    "\n",
    "# val_col   : dependent variable   = 종속 변수 = 검정 변수  = 양적 자료\n",
    "# group_col : independent variable = 독립 변수 = 그룹(집단) = 질적 자료\n",
    "# p_adjust  : 다중비교(사후분석)의 방법들\n",
    "# \"holm\"    : Bonferroni 방법"
   ]
  },
  {
   "cell_type": "code",
   "execution_count": 56,
   "metadata": {},
   "outputs": [
    {
     "data": {
      "text/html": [
       "<div>\n",
       "<style scoped>\n",
       "    .dataframe tbody tr th:only-of-type {\n",
       "        vertical-align: middle;\n",
       "    }\n",
       "\n",
       "    .dataframe tbody tr th {\n",
       "        vertical-align: top;\n",
       "    }\n",
       "\n",
       "    .dataframe thead th {\n",
       "        text-align: right;\n",
       "    }\n",
       "</style>\n",
       "<table border=\"1\" class=\"dataframe\">\n",
       "  <thead>\n",
       "    <tr style=\"text-align: right;\">\n",
       "      <th></th>\n",
       "      <th>setosa</th>\n",
       "      <th>versicolor</th>\n",
       "      <th>virginica</th>\n",
       "    </tr>\n",
       "  </thead>\n",
       "  <tbody>\n",
       "    <tr>\n",
       "      <th>setosa</th>\n",
       "      <td>1.000000e+00</td>\n",
       "      <td>6.147801e-35</td>\n",
       "      <td>7.780252e-68</td>\n",
       "    </tr>\n",
       "    <tr>\n",
       "      <th>versicolor</th>\n",
       "      <td>6.147801e-35</td>\n",
       "      <td>1.000000e+00</td>\n",
       "      <td>4.856904e-33</td>\n",
       "    </tr>\n",
       "    <tr>\n",
       "      <th>virginica</th>\n",
       "      <td>7.780252e-68</td>\n",
       "      <td>4.856904e-33</td>\n",
       "      <td>1.000000e+00</td>\n",
       "    </tr>\n",
       "  </tbody>\n",
       "</table>\n",
       "</div>"
      ],
      "text/plain": [
       "                  setosa    versicolor     virginica\n",
       "setosa      1.000000e+00  6.147801e-35  7.780252e-68\n",
       "versicolor  6.147801e-35  1.000000e+00  4.856904e-33\n",
       "virginica   7.780252e-68  4.856904e-33  1.000000e+00"
      ]
     },
     "execution_count": 56,
     "metadata": {},
     "output_type": "execute_result"
    }
   ],
   "source": [
    "sp.posthoc_conover(iris,\n",
    "                   val_col   = \"petal_length\",\n",
    "                   group_col = \"species\",\n",
    "                   p_adjust  = \"holm\")"
   ]
  },
  {
   "cell_type": "code",
   "execution_count": 57,
   "metadata": {},
   "outputs": [],
   "source": [
    "# 결론\n",
    "\n",
    "# Setosa VS Versicolor    : 유의확률(0.000) : 두 집단 간에 통계적으로 유의한 차이 있음\n",
    "# Setosa VS Virginica     : 유의확률(0.000) : 두 집단 간에 통계적으로 유의한 차이 있음\n",
    "# Versicolor VS Virginica : 유의확률(0.000) : 두 집단 간에 통계적으로 유의한 차이 있음"
   ]
  },
  {
   "cell_type": "code",
   "execution_count": null,
   "metadata": {},
   "outputs": [],
   "source": []
  }
 ],
 "metadata": {
  "kernelspec": {
   "display_name": "Python 3",
   "language": "python",
   "name": "python3"
  },
  "language_info": {
   "codemirror_mode": {
    "name": "ipython",
    "version": 3
   },
   "file_extension": ".py",
   "mimetype": "text/x-python",
   "name": "python",
   "nbconvert_exporter": "python",
   "pygments_lexer": "ipython3",
   "version": "3.8.3"
  }
 },
 "nbformat": 4,
 "nbformat_minor": 4
}
