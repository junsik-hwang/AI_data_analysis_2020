{
 "cells": [
  {
   "cell_type": "code",
   "execution_count": 1,
   "metadata": {},
   "outputs": [],
   "source": [
    "import numpy as np\n",
    "import pandas as pd\n",
    "import seaborn as sns\n",
    "import matplotlib.pyplot as plt\n",
    "import scipy.stats as stats"
   ]
  },
  {
   "cell_type": "code",
   "execution_count": 2,
   "metadata": {},
   "outputs": [],
   "source": [
    "diamonds = pd.read_excel(\"/SBA/diamonds.xlsx\",\n",
    "                        sheet_name = 0,\n",
    "                        header     = 0)"
   ]
  },
  {
   "cell_type": "markdown",
   "metadata": {},
   "source": [
    "2. Chi-Square test : 카이제곱 검정(두 개의 질적 자료 간의 관련성)  \n",
    "2.1 Chi-Square  \n",
    "2.2 Fisher's Exact Test"
   ]
  },
  {
   "cell_type": "markdown",
   "metadata": {},
   "source": [
    "## 대응 2표본 검정(Paired Test)\n",
    "동일한 개체를 대상으로 사전의 양적 자료와 사후의 양적 자료에  \n",
    "차이가 있는지를 분석하는 방법"
   ]
  },
  {
   "cell_type": "markdown",
   "metadata": {},
   "source": [
    "### 1. 대응 2표본 t검정(Paired t-test)\n",
    "- 조건 : 사전 - 사후를 뺀 값은 정규분포를 따른다는 가정을 만족"
   ]
  },
  {
   "cell_type": "code",
   "execution_count": 3,
   "metadata": {},
   "outputs": [],
   "source": [
    "# 가설검정 01\n",
    "# 귀무가설 : 이부일 강사의 강의효과는 없다. (사전만족도 = 사후 만족도)\n",
    "# 대립가설 : 이부일 강사의 강의효과는 있다. (사전만족도 < 사후 만족도)"
   ]
  },
  {
   "cell_type": "code",
   "execution_count": 4,
   "metadata": {},
   "outputs": [],
   "source": [
    "satisfy = pd.read_excel(io = \"d:/SBA/survey.xlsx\", sheet_name = 0, header = 0)"
   ]
  },
  {
   "cell_type": "code",
   "execution_count": 5,
   "metadata": {},
   "outputs": [
    {
     "data": {
      "text/html": [
       "<div>\n",
       "<style scoped>\n",
       "    .dataframe tbody tr th:only-of-type {\n",
       "        vertical-align: middle;\n",
       "    }\n",
       "\n",
       "    .dataframe tbody tr th {\n",
       "        vertical-align: top;\n",
       "    }\n",
       "\n",
       "    .dataframe thead th {\n",
       "        text-align: right;\n",
       "    }\n",
       "</style>\n",
       "<table border=\"1\" class=\"dataframe\">\n",
       "  <thead>\n",
       "    <tr style=\"text-align: right;\">\n",
       "      <th></th>\n",
       "      <th>name</th>\n",
       "      <th>pre</th>\n",
       "      <th>post</th>\n",
       "    </tr>\n",
       "  </thead>\n",
       "  <tbody>\n",
       "    <tr>\n",
       "      <th>0</th>\n",
       "      <td>표세종</td>\n",
       "      <td>3</td>\n",
       "      <td>4</td>\n",
       "    </tr>\n",
       "    <tr>\n",
       "      <th>1</th>\n",
       "      <td>김수민</td>\n",
       "      <td>5</td>\n",
       "      <td>5</td>\n",
       "    </tr>\n",
       "    <tr>\n",
       "      <th>2</th>\n",
       "      <td>박소민</td>\n",
       "      <td>4</td>\n",
       "      <td>5</td>\n",
       "    </tr>\n",
       "    <tr>\n",
       "      <th>3</th>\n",
       "      <td>김양경</td>\n",
       "      <td>5</td>\n",
       "      <td>5</td>\n",
       "    </tr>\n",
       "    <tr>\n",
       "      <th>4</th>\n",
       "      <td>박주원</td>\n",
       "      <td>3</td>\n",
       "      <td>5</td>\n",
       "    </tr>\n",
       "    <tr>\n",
       "      <th>5</th>\n",
       "      <td>오효근</td>\n",
       "      <td>3</td>\n",
       "      <td>5</td>\n",
       "    </tr>\n",
       "    <tr>\n",
       "      <th>6</th>\n",
       "      <td>박라경</td>\n",
       "      <td>4</td>\n",
       "      <td>5</td>\n",
       "    </tr>\n",
       "    <tr>\n",
       "      <th>7</th>\n",
       "      <td>김상윤</td>\n",
       "      <td>1</td>\n",
       "      <td>5</td>\n",
       "    </tr>\n",
       "    <tr>\n",
       "      <th>8</th>\n",
       "      <td>정재무</td>\n",
       "      <td>3</td>\n",
       "      <td>5</td>\n",
       "    </tr>\n",
       "  </tbody>\n",
       "</table>\n",
       "</div>"
      ],
      "text/plain": [
       "  name  pre  post\n",
       "0  표세종    3     4\n",
       "1  김수민    5     5\n",
       "2  박소민    4     5\n",
       "3  김양경    5     5\n",
       "4  박주원    3     5\n",
       "5  오효근    3     5\n",
       "6  박라경    4     5\n",
       "7  김상윤    1     5\n",
       "8  정재무    3     5"
      ]
     },
     "execution_count": 5,
     "metadata": {},
     "output_type": "execute_result"
    }
   ],
   "source": [
    "satisfy"
   ]
  },
  {
   "cell_type": "code",
   "execution_count": 6,
   "metadata": {},
   "outputs": [
    {
     "data": {
      "text/plain": [
       "Ttest_relResult(statistic=-3.505839284808859, pvalue=0.008010251218035239)"
      ]
     },
     "execution_count": 6,
     "metadata": {},
     "output_type": "execute_result"
    }
   ],
   "source": [
    "# stats.ttest_rel(pre, post)\n",
    "# rel : related\n",
    "\n",
    "stats.ttest_rel(satisfy.pre, satisfy.post)"
   ]
  },
  {
   "cell_type": "code",
   "execution_count": 7,
   "metadata": {},
   "outputs": [],
   "source": [
    "# 결론\n",
    "# -3.506 = t = 검정통계량\n",
    "# 유의확률(p-value) : 0.008 / 2 = 0.004\n",
    "# 유의확률이 0.004 이므로 유의수준 0.05 에서\n",
    "# 이부일 강사의 강의효과는 통계적으로 매우 유의한 것으로 나타났다."
   ]
  },
  {
   "cell_type": "code",
   "execution_count": 10,
   "metadata": {},
   "outputs": [
    {
     "data": {
      "text/html": [
       "<div>\n",
       "<style scoped>\n",
       "    .dataframe tbody tr th:only-of-type {\n",
       "        vertical-align: middle;\n",
       "    }\n",
       "\n",
       "    .dataframe tbody tr th {\n",
       "        vertical-align: top;\n",
       "    }\n",
       "\n",
       "    .dataframe thead th {\n",
       "        text-align: right;\n",
       "    }\n",
       "</style>\n",
       "<table border=\"1\" class=\"dataframe\">\n",
       "  <thead>\n",
       "    <tr style=\"text-align: right;\">\n",
       "      <th></th>\n",
       "      <th>name</th>\n",
       "      <th>pre</th>\n",
       "      <th>post</th>\n",
       "      <th>difference</th>\n",
       "    </tr>\n",
       "  </thead>\n",
       "  <tbody>\n",
       "    <tr>\n",
       "      <th>0</th>\n",
       "      <td>표세종</td>\n",
       "      <td>3</td>\n",
       "      <td>4</td>\n",
       "      <td>-1</td>\n",
       "    </tr>\n",
       "    <tr>\n",
       "      <th>1</th>\n",
       "      <td>김수민</td>\n",
       "      <td>5</td>\n",
       "      <td>5</td>\n",
       "      <td>0</td>\n",
       "    </tr>\n",
       "    <tr>\n",
       "      <th>2</th>\n",
       "      <td>박소민</td>\n",
       "      <td>4</td>\n",
       "      <td>5</td>\n",
       "      <td>-1</td>\n",
       "    </tr>\n",
       "    <tr>\n",
       "      <th>3</th>\n",
       "      <td>김양경</td>\n",
       "      <td>5</td>\n",
       "      <td>5</td>\n",
       "      <td>0</td>\n",
       "    </tr>\n",
       "    <tr>\n",
       "      <th>4</th>\n",
       "      <td>박주원</td>\n",
       "      <td>3</td>\n",
       "      <td>5</td>\n",
       "      <td>-2</td>\n",
       "    </tr>\n",
       "    <tr>\n",
       "      <th>5</th>\n",
       "      <td>오효근</td>\n",
       "      <td>3</td>\n",
       "      <td>5</td>\n",
       "      <td>-2</td>\n",
       "    </tr>\n",
       "    <tr>\n",
       "      <th>6</th>\n",
       "      <td>박라경</td>\n",
       "      <td>4</td>\n",
       "      <td>5</td>\n",
       "      <td>-1</td>\n",
       "    </tr>\n",
       "    <tr>\n",
       "      <th>7</th>\n",
       "      <td>김상윤</td>\n",
       "      <td>1</td>\n",
       "      <td>5</td>\n",
       "      <td>-4</td>\n",
       "    </tr>\n",
       "    <tr>\n",
       "      <th>8</th>\n",
       "      <td>정재무</td>\n",
       "      <td>3</td>\n",
       "      <td>5</td>\n",
       "      <td>-2</td>\n",
       "    </tr>\n",
       "  </tbody>\n",
       "</table>\n",
       "</div>"
      ],
      "text/plain": [
       "  name  pre  post  difference\n",
       "0  표세종    3     4          -1\n",
       "1  김수민    5     5           0\n",
       "2  박소민    4     5          -1\n",
       "3  김양경    5     5           0\n",
       "4  박주원    3     5          -2\n",
       "5  오효근    3     5          -2\n",
       "6  박라경    4     5          -1\n",
       "7  김상윤    1     5          -4\n",
       "8  정재무    3     5          -2"
      ]
     },
     "execution_count": 10,
     "metadata": {},
     "output_type": "execute_result"
    }
   ],
   "source": [
    "satisfy[\"difference\"] = satisfy.pre - satisfy.post\n",
    "satisfy"
   ]
  },
  {
   "cell_type": "code",
   "execution_count": 11,
   "metadata": {},
   "outputs": [
    {
     "data": {
      "text/plain": [
       "count    9.000000\n",
       "mean    -1.444444\n",
       "std      1.236033\n",
       "min     -4.000000\n",
       "25%     -2.000000\n",
       "50%     -1.000000\n",
       "75%     -1.000000\n",
       "max      0.000000\n",
       "Name: difference, dtype: float64"
      ]
     },
     "execution_count": 11,
     "metadata": {},
     "output_type": "execute_result"
    }
   ],
   "source": [
    "satisfy.difference.describe()"
   ]
  },
  {
   "cell_type": "code",
   "execution_count": 13,
   "metadata": {},
   "outputs": [
    {
     "data": {
      "text/plain": [
       "-3.4838709677419355"
      ]
     },
     "execution_count": 13,
     "metadata": {},
     "output_type": "execute_result"
    }
   ],
   "source": [
    "# D mean = -1.44\n",
    "# D std  = 1.24\n",
    "t = (-1.44 - 0) / (1.24 / np.sqrt(9))\n",
    "t"
   ]
  },
  {
   "cell_type": "markdown",
   "metadata": {},
   "source": [
    "- - -"
   ]
  },
  {
   "cell_type": "code",
   "execution_count": 14,
   "metadata": {},
   "outputs": [],
   "source": [
    "# 가설검정 02\n",
    "# 귀무가설 : 다이어트는 몸무게를 줄이는 것에 효과가 없다. (사전 몸무게 = 사후 몸무게)\n",
    "# 대립가설 : 다이어트는 몸무게를 줄이는 것에 효과가 있다. (사전 몸무게 > 사후 몸무게)"
   ]
  },
  {
   "cell_type": "code",
   "execution_count": 15,
   "metadata": {},
   "outputs": [],
   "source": [
    "diet = pd.read_excel(io = \"d:/SBA/diet.xlsx\", \n",
    "                     sheet_name = 0, \n",
    "                     header = 0)"
   ]
  },
  {
   "cell_type": "code",
   "execution_count": 16,
   "metadata": {},
   "outputs": [
    {
     "data": {
      "text/html": [
       "<div>\n",
       "<style scoped>\n",
       "    .dataframe tbody tr th:only-of-type {\n",
       "        vertical-align: middle;\n",
       "    }\n",
       "\n",
       "    .dataframe tbody tr th {\n",
       "        vertical-align: top;\n",
       "    }\n",
       "\n",
       "    .dataframe thead th {\n",
       "        text-align: right;\n",
       "    }\n",
       "</style>\n",
       "<table border=\"1\" class=\"dataframe\">\n",
       "  <thead>\n",
       "    <tr style=\"text-align: right;\">\n",
       "      <th></th>\n",
       "      <th>name</th>\n",
       "      <th>before</th>\n",
       "      <th>after</th>\n",
       "    </tr>\n",
       "  </thead>\n",
       "  <tbody>\n",
       "    <tr>\n",
       "      <th>0</th>\n",
       "      <td>박지영</td>\n",
       "      <td>49</td>\n",
       "      <td>46</td>\n",
       "    </tr>\n",
       "    <tr>\n",
       "      <th>1</th>\n",
       "      <td>최한울</td>\n",
       "      <td>53</td>\n",
       "      <td>49</td>\n",
       "    </tr>\n",
       "    <tr>\n",
       "      <th>2</th>\n",
       "      <td>이가람</td>\n",
       "      <td>55</td>\n",
       "      <td>52</td>\n",
       "    </tr>\n",
       "    <tr>\n",
       "      <th>3</th>\n",
       "      <td>하예은</td>\n",
       "      <td>57</td>\n",
       "      <td>53</td>\n",
       "    </tr>\n",
       "    <tr>\n",
       "      <th>4</th>\n",
       "      <td>손정희</td>\n",
       "      <td>50</td>\n",
       "      <td>47</td>\n",
       "    </tr>\n",
       "    <tr>\n",
       "      <th>5</th>\n",
       "      <td>김남희</td>\n",
       "      <td>45</td>\n",
       "      <td>48</td>\n",
       "    </tr>\n",
       "    <tr>\n",
       "      <th>6</th>\n",
       "      <td>이우진</td>\n",
       "      <td>80</td>\n",
       "      <td>73</td>\n",
       "    </tr>\n",
       "    <tr>\n",
       "      <th>7</th>\n",
       "      <td>장재혁</td>\n",
       "      <td>67</td>\n",
       "      <td>62</td>\n",
       "    </tr>\n",
       "    <tr>\n",
       "      <th>8</th>\n",
       "      <td>이영은</td>\n",
       "      <td>47</td>\n",
       "      <td>44</td>\n",
       "    </tr>\n",
       "  </tbody>\n",
       "</table>\n",
       "</div>"
      ],
      "text/plain": [
       "  name  before  after\n",
       "0  박지영      49     46\n",
       "1  최한울      53     49\n",
       "2  이가람      55     52\n",
       "3  하예은      57     53\n",
       "4  손정희      50     47\n",
       "5  김남희      45     48\n",
       "6  이우진      80     73\n",
       "7  장재혁      67     62\n",
       "8  이영은      47     44"
      ]
     },
     "execution_count": 16,
     "metadata": {},
     "output_type": "execute_result"
    }
   ],
   "source": [
    "diet"
   ]
  },
  {
   "cell_type": "code",
   "execution_count": 17,
   "metadata": {},
   "outputs": [
    {
     "data": {
      "text/plain": [
       "Ttest_relResult(statistic=3.603944642806961, pvalue=0.006942420396505738)"
      ]
     },
     "execution_count": 17,
     "metadata": {},
     "output_type": "execute_result"
    }
   ],
   "source": [
    "stats.ttest_rel(diet.before, diet.after)"
   ]
  },
  {
   "cell_type": "code",
   "execution_count": 18,
   "metadata": {},
   "outputs": [
    {
     "data": {
      "text/html": [
       "<div>\n",
       "<style scoped>\n",
       "    .dataframe tbody tr th:only-of-type {\n",
       "        vertical-align: middle;\n",
       "    }\n",
       "\n",
       "    .dataframe tbody tr th {\n",
       "        vertical-align: top;\n",
       "    }\n",
       "\n",
       "    .dataframe thead th {\n",
       "        text-align: right;\n",
       "    }\n",
       "</style>\n",
       "<table border=\"1\" class=\"dataframe\">\n",
       "  <thead>\n",
       "    <tr style=\"text-align: right;\">\n",
       "      <th></th>\n",
       "      <th>name</th>\n",
       "      <th>before</th>\n",
       "      <th>after</th>\n",
       "      <th>difference</th>\n",
       "    </tr>\n",
       "  </thead>\n",
       "  <tbody>\n",
       "    <tr>\n",
       "      <th>0</th>\n",
       "      <td>박지영</td>\n",
       "      <td>49</td>\n",
       "      <td>46</td>\n",
       "      <td>3</td>\n",
       "    </tr>\n",
       "    <tr>\n",
       "      <th>1</th>\n",
       "      <td>최한울</td>\n",
       "      <td>53</td>\n",
       "      <td>49</td>\n",
       "      <td>4</td>\n",
       "    </tr>\n",
       "    <tr>\n",
       "      <th>2</th>\n",
       "      <td>이가람</td>\n",
       "      <td>55</td>\n",
       "      <td>52</td>\n",
       "      <td>3</td>\n",
       "    </tr>\n",
       "    <tr>\n",
       "      <th>3</th>\n",
       "      <td>하예은</td>\n",
       "      <td>57</td>\n",
       "      <td>53</td>\n",
       "      <td>4</td>\n",
       "    </tr>\n",
       "    <tr>\n",
       "      <th>4</th>\n",
       "      <td>손정희</td>\n",
       "      <td>50</td>\n",
       "      <td>47</td>\n",
       "      <td>3</td>\n",
       "    </tr>\n",
       "    <tr>\n",
       "      <th>5</th>\n",
       "      <td>김남희</td>\n",
       "      <td>45</td>\n",
       "      <td>48</td>\n",
       "      <td>-3</td>\n",
       "    </tr>\n",
       "    <tr>\n",
       "      <th>6</th>\n",
       "      <td>이우진</td>\n",
       "      <td>80</td>\n",
       "      <td>73</td>\n",
       "      <td>7</td>\n",
       "    </tr>\n",
       "    <tr>\n",
       "      <th>7</th>\n",
       "      <td>장재혁</td>\n",
       "      <td>67</td>\n",
       "      <td>62</td>\n",
       "      <td>5</td>\n",
       "    </tr>\n",
       "    <tr>\n",
       "      <th>8</th>\n",
       "      <td>이영은</td>\n",
       "      <td>47</td>\n",
       "      <td>44</td>\n",
       "      <td>3</td>\n",
       "    </tr>\n",
       "  </tbody>\n",
       "</table>\n",
       "</div>"
      ],
      "text/plain": [
       "  name  before  after  difference\n",
       "0  박지영      49     46           3\n",
       "1  최한울      53     49           4\n",
       "2  이가람      55     52           3\n",
       "3  하예은      57     53           4\n",
       "4  손정희      50     47           3\n",
       "5  김남희      45     48          -3\n",
       "6  이우진      80     73           7\n",
       "7  장재혁      67     62           5\n",
       "8  이영은      47     44           3"
      ]
     },
     "execution_count": 18,
     "metadata": {},
     "output_type": "execute_result"
    }
   ],
   "source": [
    "diet[\"difference\"] = (diet.before - diet.after)\n",
    "diet"
   ]
  },
  {
   "cell_type": "code",
   "execution_count": 19,
   "metadata": {},
   "outputs": [],
   "source": [
    "# 결론\n",
    "# 3.603 = t = 검정통계량\n",
    "# 유의확률(p-value) : 0.007 / 2 = 0.003\n",
    "# 유의확률이 0.003 이므로 유의수준 0.05 에서\n",
    "# 다이어트는 몸무게를 줄이는 것에 효과가 있다."
   ]
  },
  {
   "cell_type": "markdown",
   "metadata": {},
   "source": [
    "- - -"
   ]
  },
  {
   "cell_type": "markdown",
   "metadata": {},
   "source": [
    "## 2. 윌콕슨의 부호 순위 검정(Wilcoxon's signed rank test)\n",
    "사전의 양적 자료에서 사후의 양적 자료를 뺀 값이  \n",
    "정규성 가정을 만족하지 않을 때 사용 (즉 정규성 가정이 깨질 때 사용)"
   ]
  },
  {
   "cell_type": "code",
   "execution_count": 20,
   "metadata": {},
   "outputs": [],
   "source": [
    "# 가설검정 01\n",
    "# 귀무가설 : 이부일 강사의 강의효과는 없다. (사전만족도 = 사후 만족도).\n",
    "# 대립가설 : 이부일 강사의 강의효과는 있다. (사전만족도 < 사후 만족도)."
   ]
  },
  {
   "cell_type": "code",
   "execution_count": 21,
   "metadata": {},
   "outputs": [
    {
     "name": "stderr",
     "output_type": "stream",
     "text": [
      "C:\\ProgramData\\Anaconda3\\lib\\site-packages\\scipy\\stats\\morestats.py:2958: UserWarning: Exact p-value calculation does not work if there are ties. Switching to normal approximation.\n",
      "  warnings.warn(\"Exact p-value calculation does not work if there are \"\n",
      "C:\\ProgramData\\Anaconda3\\lib\\site-packages\\scipy\\stats\\morestats.py:2972: UserWarning: Sample size too small for normal approximation.\n",
      "  warnings.warn(\"Sample size too small for normal approximation.\")\n"
     ]
    },
    {
     "data": {
      "text/plain": [
       "WilcoxonResult(statistic=0.0, pvalue=0.008175610787902942)"
      ]
     },
     "execution_count": 21,
     "metadata": {},
     "output_type": "execute_result"
    }
   ],
   "source": [
    "# stats.wilcoxon(pre, post, zero_method = \"wilcox\", alternative = )\n",
    "stats.wilcoxon(satisfy.pre, satisfy.post,\n",
    "               zero_method = \"wilcox\",\n",
    "               alternative = \"less\")"
   ]
  },
  {
   "cell_type": "code",
   "execution_count": 22,
   "metadata": {},
   "outputs": [],
   "source": [
    "# 결론\n",
    "\n",
    "# 검정통계량 = w+ = 0.000\n",
    "# 유의확률(p-value) = 0.008\n",
    "\n",
    "# 유의확률이 0.008 이므로 유의수준 0.05 에서\n",
    "# 이부일 강사의 강의효과는 통계적으로 매우 효과적인 것으로 나타났다."
   ]
  },
  {
   "cell_type": "markdown",
   "metadata": {},
   "source": [
    "- - -"
   ]
  },
  {
   "cell_type": "code",
   "execution_count": 23,
   "metadata": {},
   "outputs": [],
   "source": [
    "# 가설검정 02\n",
    "# 귀무가설 : 다이어트는 몸무게를 줄이는 것에 효과가 없다. (사전 몸무게 = 사후 몸무게)\n",
    "# 대립가설 : 다이어트는 몸무게를 줄이는 것에 효과가 있다. (사전 몸무게 > 사후 몸무게)"
   ]
  },
  {
   "cell_type": "code",
   "execution_count": 24,
   "metadata": {},
   "outputs": [
    {
     "data": {
      "text/plain": [
       "WilcoxonResult(statistic=42.0, pvalue=0.009765625)"
      ]
     },
     "execution_count": 24,
     "metadata": {},
     "output_type": "execute_result"
    }
   ],
   "source": [
    "stats.wilcoxon(diet.before, diet.after,\n",
    "               zero_method = \"wilcox\",\n",
    "               alternative = \"greater\")"
   ]
  },
  {
   "cell_type": "code",
   "execution_count": 25,
   "metadata": {},
   "outputs": [],
   "source": [
    "# 결론\n",
    "\n",
    "# 검정통계량 = w+ = 42.0\n",
    "# 유의확률(p-value) = 0.009\n",
    "\n",
    "# 유의확률이 0.009 이므로 유의수준 0.05 에서\n",
    "# 다이어트는 몸무게를 줄이는 것에 효과가 있다."
   ]
  },
  {
   "cell_type": "markdown",
   "metadata": {},
   "source": [
    "- - -"
   ]
  },
  {
   "cell_type": "markdown",
   "metadata": {},
   "source": [
    "### 실행 단계"
   ]
  },
  {
   "cell_type": "markdown",
   "metadata": {},
   "source": [
    "**만족도(Satisfy)**  \n",
    "1단계 : 정규성 검정\n",
    " - 귀무가설 : (pre - post) 정규분포를 따른다.\n",
    " - 대립가설 : (pre - post) 정규분포를 따르지 않는다."
   ]
  },
  {
   "cell_type": "code",
   "execution_count": 26,
   "metadata": {},
   "outputs": [
    {
     "data": {
      "text/plain": [
       "ShapiroResult(statistic=0.8891119360923767, pvalue=0.19537223875522614)"
      ]
     },
     "execution_count": 26,
     "metadata": {},
     "output_type": "execute_result"
    }
   ],
   "source": [
    "stats.shapiro(satisfy.difference)"
   ]
  },
  {
   "cell_type": "markdown",
   "metadata": {},
   "source": [
    "결론  \n",
    "유의확률이 0.195이므로 유의수준 0.05에서 정규성 가정을 만족한다."
   ]
  },
  {
   "cell_type": "code",
   "execution_count": 27,
   "metadata": {},
   "outputs": [
    {
     "data": {
      "text/plain": [
       "Ttest_relResult(statistic=-3.505839284808859, pvalue=0.008010251218035239)"
      ]
     },
     "execution_count": 27,
     "metadata": {},
     "output_type": "execute_result"
    }
   ],
   "source": [
    "# 2단계 : Paired t-test\n",
    "stats.ttest_rel(satisfy.pre, satisfy.post)"
   ]
  },
  {
   "cell_type": "markdown",
   "metadata": {},
   "source": [
    "결론  \n",
    "유의확률이 0.004 이므로 유의수준 0.05 에서  \n",
    "이부일 강사의 강의는 통계적으로 매우 유의한 효과가 있는 것으로 나타났다."
   ]
  },
  {
   "cell_type": "markdown",
   "metadata": {},
   "source": [
    " - - -"
   ]
  },
  {
   "cell_type": "code",
   "execution_count": 28,
   "metadata": {},
   "outputs": [
    {
     "data": {
      "text/plain": [
       "ShapiroResult(statistic=0.810143232345581, pvalue=0.026645243167877197)"
      ]
     },
     "execution_count": 28,
     "metadata": {},
     "output_type": "execute_result"
    }
   ],
   "source": [
    "# Diet\n",
    "\n",
    "# 1단계 : 정규성 검정\n",
    "# 귀무가설 : (before - after) 정규분포를 따른다.\n",
    "# 대립가설 : (before - after) 정규분포를 따르지 않는다.\n",
    "\n",
    "stats.shapiro(diet.difference)"
   ]
  },
  {
   "cell_type": "markdown",
   "metadata": {},
   "source": [
    "결론  \n",
    "유의확률이 0.02이므로 유의수준 0.05에서 정규성 가정이 깨짐."
   ]
  },
  {
   "cell_type": "code",
   "execution_count": 30,
   "metadata": {},
   "outputs": [
    {
     "data": {
      "text/plain": [
       "WilcoxonResult(statistic=42.0, pvalue=0.009765625)"
      ]
     },
     "execution_count": 30,
     "metadata": {},
     "output_type": "execute_result"
    }
   ],
   "source": [
    "# 2단계 : Wilcoxon's signed rank test\n",
    "stats.wilcoxon(diet.before, \n",
    "               diet.after, \n",
    "               zero_method = \"wilcox\",\n",
    "               alternative = \"greater\")"
   ]
  },
  {
   "cell_type": "markdown",
   "metadata": {},
   "source": [
    "결론  \n",
    "유의확률이 0.009 이므로 유의수준 0.05 에서  \n",
    "다이어트는 살을 빼는데 효과적인 것으로 나타났다."
   ]
  },
  {
   "cell_type": "markdown",
   "metadata": {},
   "source": [
    " - - -\n",
    " - - -"
   ]
  },
  {
   "cell_type": "markdown",
   "metadata": {},
   "source": [
    "## 카이제곱검정(Chi-Square test) = 교차분석\n",
    " - 두 개의 질적 자료 간에 통계적으로 의미 있는 관계(관련성)가 있는지 분석하는 방법"
   ]
  },
  {
   "cell_type": "markdown",
   "metadata": {},
   "source": [
    "귀무가설 : cut(품질)과 color(색상) 간에는 관련성이 없다.  \n",
    "대립가설 : cut(품질)과 color(색상) 간에는 관련성이 있다.  \n",
    "  \n",
    "cut   : 질적 자료(5개의 범주로 구성되어 있음)  \n",
    "color : 질적 자료(7개의 범주로 구성되어 있음)"
   ]
  },
  {
   "cell_type": "code",
   "execution_count": 37,
   "metadata": {},
   "outputs": [
    {
     "data": {
      "text/html": [
       "<div>\n",
       "<style scoped>\n",
       "    .dataframe tbody tr th:only-of-type {\n",
       "        vertical-align: middle;\n",
       "    }\n",
       "\n",
       "    .dataframe tbody tr th {\n",
       "        vertical-align: top;\n",
       "    }\n",
       "\n",
       "    .dataframe thead th {\n",
       "        text-align: right;\n",
       "    }\n",
       "</style>\n",
       "<table border=\"1\" class=\"dataframe\">\n",
       "  <thead>\n",
       "    <tr style=\"text-align: right;\">\n",
       "      <th>color</th>\n",
       "      <th>D</th>\n",
       "      <th>E</th>\n",
       "      <th>F</th>\n",
       "      <th>G</th>\n",
       "      <th>H</th>\n",
       "      <th>I</th>\n",
       "      <th>J</th>\n",
       "    </tr>\n",
       "    <tr>\n",
       "      <th>cut</th>\n",
       "      <th></th>\n",
       "      <th></th>\n",
       "      <th></th>\n",
       "      <th></th>\n",
       "      <th></th>\n",
       "      <th></th>\n",
       "      <th></th>\n",
       "    </tr>\n",
       "  </thead>\n",
       "  <tbody>\n",
       "    <tr>\n",
       "      <th>Fair</th>\n",
       "      <td>163</td>\n",
       "      <td>224</td>\n",
       "      <td>312</td>\n",
       "      <td>314</td>\n",
       "      <td>303</td>\n",
       "      <td>175</td>\n",
       "      <td>119</td>\n",
       "    </tr>\n",
       "    <tr>\n",
       "      <th>Good</th>\n",
       "      <td>662</td>\n",
       "      <td>933</td>\n",
       "      <td>909</td>\n",
       "      <td>871</td>\n",
       "      <td>702</td>\n",
       "      <td>522</td>\n",
       "      <td>307</td>\n",
       "    </tr>\n",
       "    <tr>\n",
       "      <th>Ideal</th>\n",
       "      <td>2834</td>\n",
       "      <td>3903</td>\n",
       "      <td>3826</td>\n",
       "      <td>4884</td>\n",
       "      <td>3115</td>\n",
       "      <td>2093</td>\n",
       "      <td>896</td>\n",
       "    </tr>\n",
       "    <tr>\n",
       "      <th>Premium</th>\n",
       "      <td>1603</td>\n",
       "      <td>2337</td>\n",
       "      <td>2331</td>\n",
       "      <td>2924</td>\n",
       "      <td>2360</td>\n",
       "      <td>1428</td>\n",
       "      <td>808</td>\n",
       "    </tr>\n",
       "    <tr>\n",
       "      <th>Very Good</th>\n",
       "      <td>1513</td>\n",
       "      <td>2400</td>\n",
       "      <td>2164</td>\n",
       "      <td>2299</td>\n",
       "      <td>1824</td>\n",
       "      <td>1204</td>\n",
       "      <td>678</td>\n",
       "    </tr>\n",
       "  </tbody>\n",
       "</table>\n",
       "</div>"
      ],
      "text/plain": [
       "color         D     E     F     G     H     I    J\n",
       "cut                                               \n",
       "Fair        163   224   312   314   303   175  119\n",
       "Good        662   933   909   871   702   522  307\n",
       "Ideal      2834  3903  3826  4884  3115  2093  896\n",
       "Premium    1603  2337  2331  2924  2360  1428  808\n",
       "Very Good  1513  2400  2164  2299  1824  1204  678"
      ]
     },
     "execution_count": 37,
     "metadata": {},
     "output_type": "execute_result"
    }
   ],
   "source": [
    "# result = pandas.crosstab(질적 자료, 질적 자료)\n",
    "# stats.chi2_contingency(observed = result)\n",
    "\n",
    "result = pd.crosstab(diamonds.cut, diamonds.color)\n",
    "result"
   ]
  },
  {
   "cell_type": "code",
   "execution_count": 38,
   "metadata": {},
   "outputs": [
    {
     "data": {
      "text/plain": [
       "(310.31790052115434,\n",
       " 1.394512091985105e-51,\n",
       " 24,\n",
       " array([[ 202.22005933,  292.42065258,  284.80941787,  337.04338154,\n",
       "          247.85761958,  161.83574342,   83.8131257 ],\n",
       "        [ 616.2059696 ,  891.06566555,  867.87267334, 1027.04026696,\n",
       "          755.27296997,  493.1466815 ,  255.39577308],\n",
       "        [2706.85993697, 3914.25930664, 3812.37749351, 4511.56640712,\n",
       "         3317.7512792 , 2166.28702262, 1121.89855395],\n",
       "        [1732.18437152, 2504.82808676, 2439.63147942, 2887.05917686,\n",
       "         2123.1083426 , 1386.25884316,  717.92969967],\n",
       "        [1517.52966259, 2194.42628847, 2137.30893585, 2529.29076752,\n",
       "         1860.00978865, 1214.47170931,  628.96284761]]))"
      ]
     },
     "execution_count": 38,
     "metadata": {},
     "output_type": "execute_result"
    }
   ],
   "source": [
    "stats.chi2_contingency(observed = result)"
   ]
  },
  {
   "cell_type": "code",
   "execution_count": 39,
   "metadata": {},
   "outputs": [],
   "source": [
    "# 결과 해석\n",
    "\n",
    "# (1) 310.31790052115434    : Chi-Square 값 (소수점 셋째자리까지 표현)\n",
    "# (2) 1.394512091985105e-51 : p-value\n",
    "# (3) 24                    : df(degree of freedom)\n",
    "# (4)                       : 기대치(Expected Value)"
   ]
  },
  {
   "cell_type": "code",
   "execution_count": 40,
   "metadata": {},
   "outputs": [],
   "source": [
    "# 결론\n",
    "# 유의확률이 0.000 이므로 유의수준 0.05에서\n",
    "# cut 과 color 간에는 통계적으로 유의한 관련성이 있는 것으로 나타났다."
   ]
  },
  {
   "cell_type": "markdown",
   "metadata": {},
   "source": [
    " -- -"
   ]
  },
  {
   "cell_type": "code",
   "execution_count": 42,
   "metadata": {},
   "outputs": [],
   "source": [
    "# 귀무가설 : cut(품질)과 clarity(투명도) 간에는 관련성이 없다.  \n",
    "# 대립가설 : cut(품질)과 clarity(투명도) 간에는 관련성이 있다.\n",
    "\n",
    "# cut     : 질적 자료(5개의 범주로 구성되어 있음)  \n",
    "# clarity : 질적 자료(8개의 범주로 구성되어 있음)"
   ]
  },
  {
   "cell_type": "code",
   "execution_count": 43,
   "metadata": {},
   "outputs": [
    {
     "data": {
      "text/html": [
       "<div>\n",
       "<style scoped>\n",
       "    .dataframe tbody tr th:only-of-type {\n",
       "        vertical-align: middle;\n",
       "    }\n",
       "\n",
       "    .dataframe tbody tr th {\n",
       "        vertical-align: top;\n",
       "    }\n",
       "\n",
       "    .dataframe thead th {\n",
       "        text-align: right;\n",
       "    }\n",
       "</style>\n",
       "<table border=\"1\" class=\"dataframe\">\n",
       "  <thead>\n",
       "    <tr style=\"text-align: right;\">\n",
       "      <th>clarity</th>\n",
       "      <th>I1</th>\n",
       "      <th>IF</th>\n",
       "      <th>SI1</th>\n",
       "      <th>SI2</th>\n",
       "      <th>VS1</th>\n",
       "      <th>VS2</th>\n",
       "      <th>VVS1</th>\n",
       "      <th>VVS2</th>\n",
       "    </tr>\n",
       "    <tr>\n",
       "      <th>cut</th>\n",
       "      <th></th>\n",
       "      <th></th>\n",
       "      <th></th>\n",
       "      <th></th>\n",
       "      <th></th>\n",
       "      <th></th>\n",
       "      <th></th>\n",
       "      <th></th>\n",
       "    </tr>\n",
       "  </thead>\n",
       "  <tbody>\n",
       "    <tr>\n",
       "      <th>Fair</th>\n",
       "      <td>210</td>\n",
       "      <td>9</td>\n",
       "      <td>408</td>\n",
       "      <td>466</td>\n",
       "      <td>170</td>\n",
       "      <td>261</td>\n",
       "      <td>17</td>\n",
       "      <td>69</td>\n",
       "    </tr>\n",
       "    <tr>\n",
       "      <th>Good</th>\n",
       "      <td>96</td>\n",
       "      <td>71</td>\n",
       "      <td>1560</td>\n",
       "      <td>1081</td>\n",
       "      <td>648</td>\n",
       "      <td>978</td>\n",
       "      <td>186</td>\n",
       "      <td>286</td>\n",
       "    </tr>\n",
       "    <tr>\n",
       "      <th>Ideal</th>\n",
       "      <td>146</td>\n",
       "      <td>1212</td>\n",
       "      <td>4282</td>\n",
       "      <td>2598</td>\n",
       "      <td>3589</td>\n",
       "      <td>5071</td>\n",
       "      <td>2047</td>\n",
       "      <td>2606</td>\n",
       "    </tr>\n",
       "    <tr>\n",
       "      <th>Premium</th>\n",
       "      <td>205</td>\n",
       "      <td>230</td>\n",
       "      <td>3575</td>\n",
       "      <td>2949</td>\n",
       "      <td>1989</td>\n",
       "      <td>3357</td>\n",
       "      <td>616</td>\n",
       "      <td>870</td>\n",
       "    </tr>\n",
       "    <tr>\n",
       "      <th>Very Good</th>\n",
       "      <td>84</td>\n",
       "      <td>268</td>\n",
       "      <td>3240</td>\n",
       "      <td>2100</td>\n",
       "      <td>1775</td>\n",
       "      <td>2591</td>\n",
       "      <td>789</td>\n",
       "      <td>1235</td>\n",
       "    </tr>\n",
       "  </tbody>\n",
       "</table>\n",
       "</div>"
      ],
      "text/plain": [
       "clarity     I1    IF   SI1   SI2   VS1   VS2  VVS1  VVS2\n",
       "cut                                                     \n",
       "Fair       210     9   408   466   170   261    17    69\n",
       "Good        96    71  1560  1081   648   978   186   286\n",
       "Ideal      146  1212  4282  2598  3589  5071  2047  2606\n",
       "Premium    205   230  3575  2949  1989  3357   616   870\n",
       "Very Good   84   268  3240  2100  1775  2591   789  1235"
      ]
     },
     "execution_count": 43,
     "metadata": {},
     "output_type": "execute_result"
    }
   ],
   "source": [
    "result = pd.crosstab(diamonds.cut, diamonds.clarity)\n",
    "result"
   ]
  },
  {
   "cell_type": "code",
   "execution_count": 44,
   "metadata": {},
   "outputs": [
    {
     "data": {
      "text/plain": [
       "(4391.398067200364,\n",
       " 0.0,\n",
       " 28,\n",
       " array([[  22.11735261,   53.42788283,  389.96384872,  274.4223211 ,\n",
       "          243.88783834,  365.87652948,  109.09436411,  151.20986281],\n",
       "        [  67.39610679,  162.80571005, 1188.29977753,  836.22106044,\n",
       "          743.17623285, 1114.90077864,  332.43288839,  460.76744531],\n",
       "        [ 296.05656285,  715.17037449, 5219.94466073, 3673.33878383,\n",
       "         3264.61292176, 4897.51868743, 1460.30598813, 2024.05202076],\n",
       "        [ 189.45367075,  457.65461624, 3340.36735261, 2350.65728587,\n",
       "         2089.1038376 , 3134.03926585,  934.48470523, 1295.23926585],\n",
       "        [ 165.97630701,  400.94141639, 2926.4243604 , 2059.36054876,\n",
       "         1830.21916945, 2745.6647386 ,  818.68205413, 1134.73140527]]))"
      ]
     },
     "execution_count": 44,
     "metadata": {},
     "output_type": "execute_result"
    }
   ],
   "source": [
    "stats.chi2_contingency(observed = result)"
   ]
  },
  {
   "cell_type": "code",
   "execution_count": 45,
   "metadata": {},
   "outputs": [],
   "source": [
    "# 결론\n",
    "# 유의확률이 0.000 이므로 유의수준 0.05에서\n",
    "# cut 과 clarity 간에는 통계적으로 유의한 관련성이 있는 것으로 나타났다."
   ]
  }
 ],
 "metadata": {
  "kernelspec": {
   "display_name": "Python 3",
   "language": "python",
   "name": "python3"
  },
  "language_info": {
   "codemirror_mode": {
    "name": "ipython",
    "version": 3
   },
   "file_extension": ".py",
   "mimetype": "text/x-python",
   "name": "python",
   "nbconvert_exporter": "python",
   "pygments_lexer": "ipython3",
   "version": "3.8.3"
  }
 },
 "nbformat": 4,
 "nbformat_minor": 4
}
