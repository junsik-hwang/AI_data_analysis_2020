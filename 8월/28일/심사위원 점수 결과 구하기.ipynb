{
 "cells": [
  {
   "cell_type": "code",
   "execution_count": 42,
   "metadata": {},
   "outputs": [
    {
     "name": "stdout",
     "output_type": "stream",
     "text": [
      "1 2 pig 4 5 pig 7 8 pig 10 \n",
      "11 pig 13 14 bird 16 17 pig 19 20 \n",
      "pig 22 23 pig 25 26 pig 28 29 bird \n",
      "31 32 pig 34 35 pig 37 38 pig 40 \n",
      "41 pig 43 44 bird 46 47 pig 49 50 \n",
      "pig 52 53 pig 55 56 pig 58 59 bird \n",
      "61 62 pig 64 65 pig 67 68 pig 70 \n",
      "71 pig 73 74 bird 76 77 pig 79 80 \n",
      "pig 82 83 pig 85 86 pig 88 89 bird \n",
      "91 92 pig 94 95 pig 97 98 pig 100 \n"
     ]
    }
   ],
   "source": [
    "# 3의 배수 : pig\n",
    "# 3 과 5의 배수 : bird\n",
    "\n",
    "for i in range(1, 101):\n",
    "    if(i % 15 == 0):\n",
    "        print(\"bird\", end = \" \")\n",
    "    elif(i % 3 == 0):\n",
    "        print(\"pig\", end = \" \")\n",
    "    else:\n",
    "        print(i, end = \" \")\n",
    "    if(i % 10 == 0):\n",
    "        print()"
   ]
  },
  {
   "cell_type": "code",
   "execution_count": 17,
   "metadata": {},
   "outputs": [
    {
     "name": "stdout",
     "output_type": "stream",
     "text": [
      "4\n",
      "****\n",
      " ***\n",
      "  **\n",
      "   *\n"
     ]
    }
   ],
   "source": [
    "n = int(input())\n",
    "length = \n",
    "for i in range(n):\n",
    "    for j in range(i+1):\n",
    "        "
   ]
  },
  {
   "cell_type": "code",
   "execution_count": 25,
   "metadata": {},
   "outputs": [
    {
     "name": "stdout",
     "output_type": "stream",
     "text": [
      "3\n",
      "      *            *         * *    "
     ]
    }
   ],
   "source": [
    "n = int(input())\n",
    "total = 2*n-1\n",
    "\n",
    "for i in range(n):\n",
    "    for j in range((total-i+1)):\n",
    "        print(\" \", end = \"\")\n",
    "    for j in range(i+1):\n",
    "        if(i == 0 or i % 2 == 0):\n",
    "            if(j % 2 == 1):\n",
    "                print(\" \", end = \"\")\n",
    "            else:\n",
    "                print(\"*\", end = \"\")\n",
    "        else:\n",
    "            if(j == 0 or j % 2 == 0):\n",
    "                print(\" \", end = \"\")\n",
    "            else:\n",
    "                print(\"*\", end = \"\")\n",
    "    for j in range((total-i+1)):\n",
    "        print(\" \", end = \"\")"
   ]
  },
  {
   "cell_type": "code",
   "execution_count": 35,
   "metadata": {},
   "outputs": [
    {
     "name": "stdout",
     "output_type": "stream",
     "text": [
      "5\n",
      "    *    \n",
      "   ***   \n",
      "  *****  \n",
      " ******* \n",
      "********* \n"
     ]
    }
   ],
   "source": [
    "n = int(input())\n",
    "m = n - 1\n",
    "\n",
    "for i in range(1,n+1):\n",
    "    for j in range(m):\n",
    "        print(\" \", end = \"\")\n",
    "    for j in range(2*i-1):\n",
    "        print(\"*\", end = \"\")\n",
    "    for j in range(m-1):\n",
    "        print(\" \", end = \"\")\n",
    "    print(\" \")\n",
    "    m -= 1"
   ]
  },
  {
   "cell_type": "code",
   "execution_count": 60,
   "metadata": {},
   "outputs": [
    {
     "name": "stdout",
     "output_type": "stream",
     "text": [
      "5명의 평가 점수를 입력하세요! (100점 만점)\n",
      "점수 입력 : 86\n",
      "점수 입력 : 73\n",
      "점수 입력 : 80\n",
      "점수 입력 : 95\n",
      "점수 입력 : 88\n",
      "\n",
      "##총 입력 점수##\n",
      "86 점\n",
      "73 점\n",
      "80 점\n",
      "95 점\n",
      "88 점\n",
      "\n",
      "##제거 대상 점수##\n",
      "- 최고 점수 : 95 점\n",
      "- 최저 점수 : 73 점\n",
      "\n",
      "##최종 입력 점수##\n",
      "86 점\n",
      "80 점\n",
      "88 점\n",
      "-------------\n",
      "- 총점 : 254 점\n",
      "- 평균 : 84.67 점\n"
     ]
    }
   ],
   "source": [
    "# 심사위원 점수 결과 구하기\n",
    "score = []\n",
    "print(\"5명의 평가 점수를 입력하세요! (100점 만점)\")\n",
    "for i in range(5):\n",
    "    score.append(int(input(\"점수 입력 : \")))\n",
    "\n",
    "print()\n",
    "print(\"##총 입력 점수##\")\n",
    "for i in score:\n",
    "    print(i,\"점\")\n",
    "\n",
    "min_score = score.pop(score.index(min(score)))\n",
    "max_score = score.pop(score.index(max(score)))\n",
    "\n",
    "print()\n",
    "print(\"##제거 대상 점수##\")\n",
    "print(f\"- 최고 점수 : {max_score} 점\")\n",
    "print(f\"- 최저 점수 : {min_score} 점\")\n",
    "\n",
    "print()\n",
    "print(\"##최종 입력 점수##\")\n",
    "for i in score:\n",
    "    print(i, \"점\")\n",
    "print(\"-------------\")\n",
    "print(f\"- 총점 : {sum(score)} 점\")\n",
    "print(f\"- 평균 : {round(sum(score)/len(score),2)} 점\")"
   ]
  },
  {
   "cell_type": "code",
   "execution_count": 51,
   "metadata": {},
   "outputs": [
    {
     "data": {
      "text/plain": [
       "3"
      ]
     },
     "execution_count": 51,
     "metadata": {},
     "output_type": "execute_result"
    }
   ],
   "source": [
    "[1,2,3].pop(-1)"
   ]
  },
  {
   "cell_type": "code",
   "execution_count": 58,
   "metadata": {},
   "outputs": [
    {
     "data": {
      "text/plain": [
       "84.67"
      ]
     },
     "execution_count": 58,
     "metadata": {},
     "output_type": "execute_result"
    }
   ],
   "source": [
    "round(254/3,2)"
   ]
  },
  {
   "cell_type": "code",
   "execution_count": null,
   "metadata": {},
   "outputs": [],
   "source": []
  }
 ],
 "metadata": {
  "kernelspec": {
   "display_name": "Python 3",
   "language": "python",
   "name": "python3"
  },
  "language_info": {
   "codemirror_mode": {
    "name": "ipython",
    "version": 3
   },
   "file_extension": ".py",
   "mimetype": "text/x-python",
   "name": "python",
   "nbconvert_exporter": "python",
   "pygments_lexer": "ipython3",
   "version": "3.8.3"
  }
 },
 "nbformat": 4,
 "nbformat_minor": 4
}
