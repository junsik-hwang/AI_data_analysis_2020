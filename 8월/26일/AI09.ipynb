{
 "cells": [
  {
   "cell_type": "code",
   "execution_count": 8,
   "metadata": {},
   "outputs": [],
   "source": [
    "import pandas as pd\n",
    "# import seaborn as sns\n",
    "# import matplotlib.pyplot as plt\n",
    "import scipy.stats as stats\n",
    "# import researchpy as rp\n",
    "# import pingouin as pg\n",
    "import statsmodels.api as sm\n",
    "# from statsmodels.formula.api import ols\n",
    "# from statsmodels.stats.multicomp import pairwise_tukeyhsd\n",
    "# from statsmodels.stats.multicomp import MultiComparison\n",
    "# import scikit_posthocs as sp\n",
    "from sklearn.metrics import mean_squared_error\n",
    "import statsmodels.stats as sms"
   ]
  },
  {
   "cell_type": "code",
   "execution_count": 2,
   "metadata": {},
   "outputs": [],
   "source": [
    "iris = pd.read_excel(\"/SBA/iris.xlsx\",\n",
    "                     sheet_name = 0,\n",
    "                     header     = 0)"
   ]
  },
  {
   "cell_type": "markdown",
   "metadata": {},
   "source": [
    "- - -"
   ]
  },
  {
   "cell_type": "markdown",
   "metadata": {},
   "source": [
    "## 회귀분석(Regression Analysis)\n",
    "- 양적 자료(또는 양적 자료들)가 다르느 양적 자료에게 영향을 주는지를 분석하는 방법\n",
    "- 인과관계(원인과 결과)를 분석하는 방법\n",
    "- 예측(Prediction or Forecasting)할 때 주로 사용하는 방법\n",
    "- 분류(Classification) 할 때도 쓰임\n",
    "  \n",
    "  \n",
    "- 영향을 주는 양적 자료 : X = 독립변수 = 설명변수 = Feature\n",
    "- 영향을 받는 양적 자료 : Y = 종속변수 = 반응변수 = Label"
   ]
  },
  {
   "cell_type": "code",
   "execution_count": 1,
   "metadata": {},
   "outputs": [],
   "source": [
    "# 기본\n",
    "# Y : 양적 자료\n",
    "# X : 양적 자료\n",
    "\n",
    "# Y와 X 간의 선형으로 접근"
   ]
  },
  {
   "cell_type": "code",
   "execution_count": 2,
   "metadata": {},
   "outputs": [],
   "source": [
    "# 회귀분석의 종류\n",
    "\n",
    "# 1. 단순선형 회귀분석(Simple Linear Regression Analysis)\n",
    "# Y : 1개, X : 1개\n",
    "# 실전에서는 X가 하나인 경우는 거의 없다.\n",
    "\n",
    "# 2. 다중선형 회귀분석(Multiple Linear Regression Analysis)\n",
    "# Y : 1개\n",
    "# X : 2개 이상"
   ]
  },
  {
   "cell_type": "markdown",
   "metadata": {},
   "source": [
    "### 1. 단순선형 회귀분석(Simple Linear Regression Analysis)"
   ]
  },
  {
   "cell_type": "code",
   "execution_count": 6,
   "metadata": {},
   "outputs": [
    {
     "data": {
      "text/html": [
       "<table class=\"simpletable\">\n",
       "<caption>OLS Regression Results</caption>\n",
       "<tr>\n",
       "  <th>Dep. Variable:</th>      <td>petal_length</td>   <th>  R-squared (uncentered):</th>      <td>   0.900</td>\n",
       "</tr>\n",
       "<tr>\n",
       "  <th>Model:</th>                   <td>OLS</td>       <th>  Adj. R-squared (uncentered):</th> <td>   0.899</td>\n",
       "</tr>\n",
       "<tr>\n",
       "  <th>Method:</th>             <td>Least Squares</td>  <th>  F-statistic:       </th>          <td>   1334.</td>\n",
       "</tr>\n",
       "<tr>\n",
       "  <th>Date:</th>             <td>Thu, 27 Aug 2020</td> <th>  Prob (F-statistic):</th>          <td>3.02e-76</td>\n",
       "</tr>\n",
       "<tr>\n",
       "  <th>Time:</th>                 <td>10:42:24</td>     <th>  Log-Likelihood:    </th>          <td> -253.92</td>\n",
       "</tr>\n",
       "<tr>\n",
       "  <th>No. Observations:</th>      <td>   150</td>      <th>  AIC:               </th>          <td>   509.8</td>\n",
       "</tr>\n",
       "<tr>\n",
       "  <th>Df Residuals:</th>          <td>   149</td>      <th>  BIC:               </th>          <td>   512.9</td>\n",
       "</tr>\n",
       "<tr>\n",
       "  <th>Df Model:</th>              <td>     1</td>      <th>                     </th>              <td> </td>   \n",
       "</tr>\n",
       "<tr>\n",
       "  <th>Covariance Type:</th>      <td>nonrobust</td>    <th>                     </th>              <td> </td>   \n",
       "</tr>\n",
       "</table>\n",
       "<table class=\"simpletable\">\n",
       "<tr>\n",
       "        <td></td>          <th>coef</th>     <th>std err</th>      <th>t</th>      <th>P>|t|</th>  <th>[0.025</th>    <th>0.975]</th>  \n",
       "</tr>\n",
       "<tr>\n",
       "  <th>sepal_length</th> <td>    0.6669</td> <td>    0.018</td> <td>   36.530</td> <td> 0.000</td> <td>    0.631</td> <td>    0.703</td>\n",
       "</tr>\n",
       "</table>\n",
       "<table class=\"simpletable\">\n",
       "<tr>\n",
       "  <th>Omnibus:</th>       <td>210.387</td> <th>  Durbin-Watson:     </th> <td>   0.101</td>\n",
       "</tr>\n",
       "<tr>\n",
       "  <th>Prob(Omnibus):</th> <td> 0.000</td>  <th>  Jarque-Bera (JB):  </th> <td>  16.638</td>\n",
       "</tr>\n",
       "<tr>\n",
       "  <th>Skew:</th>          <td>-0.429</td>  <th>  Prob(JB):          </th> <td>0.000244</td>\n",
       "</tr>\n",
       "<tr>\n",
       "  <th>Kurtosis:</th>      <td> 1.612</td>  <th>  Cond. No.          </th> <td>    1.00</td>\n",
       "</tr>\n",
       "</table><br/><br/>Warnings:<br/>[1] Standard Errors assume that the covariance matrix of the errors is correctly specified."
      ],
      "text/plain": [
       "<class 'statsmodels.iolib.summary.Summary'>\n",
       "\"\"\"\n",
       "                                 OLS Regression Results                                \n",
       "=======================================================================================\n",
       "Dep. Variable:           petal_length   R-squared (uncentered):                   0.900\n",
       "Model:                            OLS   Adj. R-squared (uncentered):              0.899\n",
       "Method:                 Least Squares   F-statistic:                              1334.\n",
       "Date:                Thu, 27 Aug 2020   Prob (F-statistic):                    3.02e-76\n",
       "Time:                        10:42:24   Log-Likelihood:                         -253.92\n",
       "No. Observations:                 150   AIC:                                      509.8\n",
       "Df Residuals:                     149   BIC:                                      512.9\n",
       "Df Model:                           1                                                  \n",
       "Covariance Type:            nonrobust                                                  \n",
       "================================================================================\n",
       "                   coef    std err          t      P>|t|      [0.025      0.975]\n",
       "--------------------------------------------------------------------------------\n",
       "sepal_length     0.6669      0.018     36.530      0.000       0.631       0.703\n",
       "==============================================================================\n",
       "Omnibus:                      210.387   Durbin-Watson:                   0.101\n",
       "Prob(Omnibus):                  0.000   Jarque-Bera (JB):               16.638\n",
       "Skew:                          -0.429   Prob(JB):                     0.000244\n",
       "Kurtosis:                       1.612   Cond. No.                         1.00\n",
       "==============================================================================\n",
       "\n",
       "Warnings:\n",
       "[1] Standard Errors assume that the covariance matrix of the errors is correctly specified.\n",
       "\"\"\""
      ]
     },
     "execution_count": 6,
     "metadata": {},
     "output_type": "execute_result"
    }
   ],
   "source": [
    "# 예제 데이터 : iris\n",
    "# model = sm.OLS(endog = Y, exog = X).fit()\n",
    "# model.summary()\n",
    "\n",
    "# 참고\n",
    "# OLS = Ordinary Least Square\n",
    "# endog : endogenous : 내생의\n",
    "# exog  : exogenous  : 외생의\n",
    "\n",
    "# Y : petal_length : 꽃잎의 길이\n",
    "# X : sepal_length : 꽃받침의 길이\n",
    "iris_model = sm.OLS(endog = iris.petal_length, exog = iris.sepal_length).fit()\n",
    "iris_model.summary()"
   ]
  },
  {
   "cell_type": "markdown",
   "metadata": {},
   "source": [
    "#### 회귀분석 결과 해석의 단계"
   ]
  },
  {
   "cell_type": "code",
   "execution_count": 7,
   "metadata": {},
   "outputs": [],
   "source": [
    "# 1단계 : 회귀모형은 타당한가?\n",
    "# 귀무가설 : 회귀모형은 타당하지 않다.\n",
    "# 대립가설 : 회귀모형은 타당하다."
   ]
  },
  {
   "cell_type": "code",
   "execution_count": 8,
   "metadata": {},
   "outputs": [],
   "source": [
    "# 회귀분석 결과\n",
    "\n",
    "# F-statistic(검정통계량)       : 1334.\n",
    "# Prob (F-statistic, 유의확률)  : 3.02e-76\n",
    "\n",
    "# 결론\n",
    "# 유의확률이 0.000 이므로 유의수준 0.05에서\n",
    "# 회귀모형은 통계적으로 유의하게 타당한 것으로 나타났다. (대립가설)"
   ]
  },
  {
   "cell_type": "code",
   "execution_count": 9,
   "metadata": {},
   "outputs": [],
   "source": [
    "# 2단계 : X는 Y에게 유의한 영향을 주는가?\n",
    "# 귀무가설 : X는 Y에게 영향을 주지 않는다.\n",
    "# 대립가설 : X는 Y에게 영향을 준다."
   ]
  },
  {
   "cell_type": "code",
   "execution_count": 11,
   "metadata": {},
   "outputs": [],
   "source": [
    "# 회귀분석 결과\n",
    "\n",
    "#                 coef    std err    t       P>|t|  [0.025  0.975]\n",
    "# sepal_length : 0.6669   0.018    36.530   0.000   0.631   0.703\n",
    "\n",
    "# coef    : 회귀계수(beta1)          = 0.667\n",
    "# std err : 표준오차(standard error) = 0.018\n",
    "# t       : 회귀계수 / 표준오차      = 0.667 / 0.018 = 36.530\n",
    "# P>|t|   : 유의확률                 = 0.000\n",
    "\n",
    "# 결론\n",
    "# 유의확률이 0.000 이므로 유의수준 0.05에서\n",
    "# X는 Y에게 통계적으로 유의한 영향을 주는 것으로 나타났다.\n",
    "\n",
    "# 유의확률이 0.000 이므로 유의수준 0.05에서\n",
    "# 꽃받침의 길이는 꽃잎의 길이에 통계적으로 유의한 영향을 주는 것으로 나타났다."
   ]
  },
  {
   "cell_type": "code",
   "execution_count": 12,
   "metadata": {},
   "outputs": [],
   "source": [
    "# 3단계 : X는 Y에게 어떠한 영향을 주는가?\n",
    "\n",
    "# 회귀분석의 결과\n",
    "#                 coef    \n",
    "# sepal_length : 0.6669\n",
    "\n",
    "# coef : coefficient of regression(beta 1) : 회귀계수\n",
    "# 회귀계수 : 0.667\n",
    "\n",
    "# 회귀계수의 값이 크면 X가 Y에게 영향을 많이 준다.\n",
    "# 회귀계수의 값이 작으면 X가 Y에게 미미한 영향을 준다.\n",
    "# 회귀계수의 부호(sign)가 + 이면 X가 Y를 증가시키는 영향을 준다.\n",
    "# 회귀계수의 부호(sign)가 - 이면 X가 Y를 감소시키는 영향을 준다.\n",
    "\n",
    "# 해석\n",
    "# X의 기본단위가 1 증가하면 Y는 약 0.667 정도 증가시킨다.\n",
    "# 꽃받침의 길이가 1cm 증가하면 꽃잎의 길이는 약 0.667cm 증가시키는 영향을 준다."
   ]
  },
  {
   "cell_type": "code",
   "execution_count": 13,
   "metadata": {},
   "outputs": [],
   "source": [
    "# 4단계 : 회귀모형의 설명력 또는 X의 설명력\n",
    "\n",
    "# Y의 다름(변동)을 회귀모형이 얼마나 설명하고 있는가?\n",
    "# Y의 다름(변동)을 X가 얼마나 설명하고 있는가?"
   ]
  },
  {
   "cell_type": "code",
   "execution_count": 14,
   "metadata": {},
   "outputs": [],
   "source": [
    "# 회귀분석 결과\n",
    "\n",
    "# R-squared (uncentered) : 0.900\n",
    "\n",
    "# R-Square : 결정계수(Coefficient of Determination) = 0.900\n",
    "# R-Square : SSR / SST : 0 ~ 1\n",
    "# R-Square 값이 크면 회귀모형이 좋은 것으로 판단하는 지표중에 하나\n",
    "\n",
    "# 해석\n",
    "# 회귀모형이 Y의 다름(변동)을 약 90.0% 정도 설명하고 있다.\n",
    "# X가 Y의 다름(변동)을 약 90.0% 정도 설명하고 있다.\n",
    "# 꽃받침의 길이가 꽃잎의 길이의 변동을 약 90.0% 정도 설명하고 있다."
   ]
  },
  {
   "cell_type": "code",
   "execution_count": 15,
   "metadata": {},
   "outputs": [
    {
     "data": {
      "text/plain": [
       "0      3.401165\n",
       "1      3.267786\n",
       "2      3.134407\n",
       "3      3.067717\n",
       "4      3.334476\n",
       "         ...   \n",
       "145    4.468197\n",
       "146    4.201439\n",
       "147    4.334818\n",
       "148    4.134750\n",
       "149    3.934681\n",
       "Length: 150, dtype: float64"
      ]
     },
     "execution_count": 15,
     "metadata": {},
     "output_type": "execute_result"
    }
   ],
   "source": [
    "# 5단계 : 예측(Prediction, Forecast)\n",
    "# model.predict(exog = X)\n",
    "iris_predict = iris_model.predict(exog = iris.sepal_length)\n",
    "iris_predict"
   ]
  },
  {
   "cell_type": "code",
   "execution_count": 18,
   "metadata": {},
   "outputs": [
    {
     "data": {
      "text/plain": [
       "1.729383367822583"
      ]
     },
     "execution_count": 18,
     "metadata": {},
     "output_type": "execute_result"
    }
   ],
   "source": [
    "# MSE : Mean Square Error\n",
    "# MSE : SSE / 자유도 = SSE / n-p-1 = SSE / n-2\n",
    "# p   : x의 개수\n",
    "\n",
    "mean_squared_error(y_true = iris.petal_length,\n",
    "                   y_pred = iris_predict)"
   ]
  },
  {
   "cell_type": "code",
   "execution_count": 7,
   "metadata": {},
   "outputs": [
    {
     "data": {
      "text/plain": [
       "0.10067111764799717"
      ]
     },
     "execution_count": 7,
     "metadata": {},
     "output_type": "execute_result"
    }
   ],
   "source": [
    "# 6단계 : 회귀모형의 진단 또는 회귀모형에 대한 가정\n",
    "# (1) 오차의 정규성   가정\n",
    "# (2) 오차의 독립성   가정\n",
    "# (3) 오차의 등분산성 가정\n",
    "# (4) 오차의 선형성   가정\n",
    "\n",
    "# Durbin-Watson : 0.101\n",
    "# Durbin-Watson : 오차들이 독립인지를 알려주는 값\n",
    "# DW 값이 2에 가까우면 오차들은 독립이다.\n",
    "# DW 값이 0에 가까우면 오차들은 독립이 아니고, 양의 자기상관이 있다.\n",
    "# DW 값이 4에 가까우면 오차들은 독립이 아니고, 음의 자기상관이 있다.\n",
    "\n",
    "# 독립성 검정\n",
    "# 귀무가설 : 독립이다.\n",
    "# 대립가설 : 독립이 아니다.\n",
    "# statsmodels.stats.stattolls.durbin_watson(residuals)\n",
    "\n",
    "# 참고\n",
    "# residual : 실제(Y) - 예측(Y)\n",
    "sms.stattools.durbin_watson(iris_model.resid)\n",
    "\n",
    "# 결론 : 독립성 가정은 깨졌다."
   ]
  },
  {
   "cell_type": "code",
   "execution_count": 9,
   "metadata": {},
   "outputs": [
    {
     "data": {
      "text/plain": [
       "ShapiroResult(statistic=0.867868185043335, pvalue=2.91113549932831e-10)"
      ]
     },
     "execution_count": 9,
     "metadata": {},
     "output_type": "execute_result"
    }
   ],
   "source": [
    "# Jarque-Bera (JB) : 16.638\n",
    "# Prob(JB): 0.000244\n",
    "\n",
    "# 정규성 검정\n",
    "# 귀무가설 : 정규분포를 따른다.\n",
    "# 대립가설 : 정규분포를 따르지 않는다.\n",
    "\n",
    "# 유의확률이 0.000 이므로 유의수준 0.05에서 정규성 가정이 깨짐\n",
    "\n",
    "# stats.shapiro(residuals)\n",
    "stats.shapiro(iris_model.resid)\n",
    "\n",
    "# 결론 : 유의확률이 0.000 이므로 유의수준 0.05에서 정규성 가정이 깨짐"
   ]
  },
  {
   "cell_type": "code",
   "execution_count": null,
   "metadata": {},
   "outputs": [],
   "source": [
    "# Omnibus : 210.387\n",
    "# Prob(Omnibus) : 0.000\n",
    "\n",
    "# 모든 X(독립변수)들을 회귀모형에 사용했을 때에\n",
    "# 회귀모형의 유의성 검정\n",
    "\n",
    "# 귀무가설 : 유의하지 않다.\n",
    "# 대립가설 : 유의하다.\n",
    "\n",
    "# 결론\n",
    "# 유의확률이 0.000 이므로 유의수준 0.05에서\n",
    "# 모든 X(독립변수)들을 회귀모형에 넣을 때에 \n",
    "# 회귀모형은 통계적으로 유의한 것으로 나타났다."
   ]
  },
  {
   "cell_type": "code",
   "execution_count": 11,
   "metadata": {},
   "outputs": [
    {
     "data": {
      "text/plain": [
       "BartlettResult(statistic=30.40939275206455, pvalue=3.4983016007948605e-08)"
      ]
     },
     "execution_count": 11,
     "metadata": {},
     "output_type": "execute_result"
    }
   ],
   "source": [
    "# 오차에 대한 등분산 검정\n",
    "# 귀무가설 : 등분산이다.\n",
    "# 대립가설 : 등분산이 아니다.\n",
    "\n",
    "# stats.bartlett(X, redisuals)\n",
    "stats.bartlett(iris.sepal_length, iris_model.resid)\n",
    "\n",
    "# 결론\n",
    "# 유의확률이 0.000 이므로 유의수준 0.05 에서 등분산 가정이 깨짐"
   ]
  },
  {
   "cell_type": "markdown",
   "metadata": {},
   "source": [
    "- - -"
   ]
  },
  {
   "cell_type": "code",
   "execution_count": 19,
   "metadata": {},
   "outputs": [],
   "source": [
    "# 문제 1\n",
    "# Y : 꽃잎의 길이(petal_length)\n",
    "# X : 꽃잎의 너비(petal_width)"
   ]
  },
  {
   "cell_type": "code",
   "execution_count": 20,
   "metadata": {},
   "outputs": [
    {
     "data": {
      "text/html": [
       "<table class=\"simpletable\">\n",
       "<caption>OLS Regression Results</caption>\n",
       "<tr>\n",
       "  <th>Dep. Variable:</th>      <td>petal_length</td>   <th>  R-squared (uncentered):</th>      <td>   0.967</td> \n",
       "</tr>\n",
       "<tr>\n",
       "  <th>Model:</th>                   <td>OLS</td>       <th>  Adj. R-squared (uncentered):</th> <td>   0.967</td> \n",
       "</tr>\n",
       "<tr>\n",
       "  <th>Method:</th>             <td>Least Squares</td>  <th>  F-statistic:       </th>          <td>   4417.</td> \n",
       "</tr>\n",
       "<tr>\n",
       "  <th>Date:</th>             <td>Wed, 26 Aug 2020</td> <th>  Prob (F-statistic):</th>          <td>1.22e-112</td>\n",
       "</tr>\n",
       "<tr>\n",
       "  <th>Time:</th>                 <td>15:37:50</td>     <th>  Log-Likelihood:    </th>          <td> -169.60</td> \n",
       "</tr>\n",
       "<tr>\n",
       "  <th>No. Observations:</th>      <td>   150</td>      <th>  AIC:               </th>          <td>   341.2</td> \n",
       "</tr>\n",
       "<tr>\n",
       "  <th>Df Residuals:</th>          <td>   149</td>      <th>  BIC:               </th>          <td>   344.2</td> \n",
       "</tr>\n",
       "<tr>\n",
       "  <th>Df Model:</th>              <td>     1</td>      <th>                     </th>              <td> </td>    \n",
       "</tr>\n",
       "<tr>\n",
       "  <th>Covariance Type:</th>      <td>nonrobust</td>    <th>                     </th>              <td> </td>    \n",
       "</tr>\n",
       "</table>\n",
       "<table class=\"simpletable\">\n",
       "<tr>\n",
       "       <td></td>          <th>coef</th>     <th>std err</th>      <th>t</th>      <th>P>|t|</th>  <th>[0.025</th>    <th>0.975]</th>  \n",
       "</tr>\n",
       "<tr>\n",
       "  <th>petal_width</th> <td>    2.8747</td> <td>    0.043</td> <td>   66.463</td> <td> 0.000</td> <td>    2.789</td> <td>    2.960</td>\n",
       "</tr>\n",
       "</table>\n",
       "<table class=\"simpletable\">\n",
       "<tr>\n",
       "  <th>Omnibus:</th>       <td>21.106</td> <th>  Durbin-Watson:     </th> <td>   0.834</td>\n",
       "</tr>\n",
       "<tr>\n",
       "  <th>Prob(Omnibus):</th> <td> 0.000</td> <th>  Jarque-Bera (JB):  </th> <td>  25.388</td>\n",
       "</tr>\n",
       "<tr>\n",
       "  <th>Skew:</th>          <td>-0.983</td> <th>  Prob(JB):          </th> <td>3.07e-06</td>\n",
       "</tr>\n",
       "<tr>\n",
       "  <th>Kurtosis:</th>      <td> 3.441</td> <th>  Cond. No.          </th> <td>    1.00</td>\n",
       "</tr>\n",
       "</table><br/><br/>Warnings:<br/>[1] Standard Errors assume that the covariance matrix of the errors is correctly specified."
      ],
      "text/plain": [
       "<class 'statsmodels.iolib.summary.Summary'>\n",
       "\"\"\"\n",
       "                                 OLS Regression Results                                \n",
       "=======================================================================================\n",
       "Dep. Variable:           petal_length   R-squared (uncentered):                   0.967\n",
       "Model:                            OLS   Adj. R-squared (uncentered):              0.967\n",
       "Method:                 Least Squares   F-statistic:                              4417.\n",
       "Date:                Wed, 26 Aug 2020   Prob (F-statistic):                   1.22e-112\n",
       "Time:                        15:37:50   Log-Likelihood:                         -169.60\n",
       "No. Observations:                 150   AIC:                                      341.2\n",
       "Df Residuals:                     149   BIC:                                      344.2\n",
       "Df Model:                           1                                                  \n",
       "Covariance Type:            nonrobust                                                  \n",
       "===============================================================================\n",
       "                  coef    std err          t      P>|t|      [0.025      0.975]\n",
       "-------------------------------------------------------------------------------\n",
       "petal_width     2.8747      0.043     66.463      0.000       2.789       2.960\n",
       "==============================================================================\n",
       "Omnibus:                       21.106   Durbin-Watson:                   0.834\n",
       "Prob(Omnibus):                  0.000   Jarque-Bera (JB):               25.388\n",
       "Skew:                          -0.983   Prob(JB):                     3.07e-06\n",
       "Kurtosis:                       3.441   Cond. No.                         1.00\n",
       "==============================================================================\n",
       "\n",
       "Warnings:\n",
       "[1] Standard Errors assume that the covariance matrix of the errors is correctly specified.\n",
       "\"\"\""
      ]
     },
     "execution_count": 20,
     "metadata": {},
     "output_type": "execute_result"
    }
   ],
   "source": [
    "iris_model = sm.OLS(endog = iris.petal_length, exog = iris.petal_width).fit()\n",
    "iris_model.summary()"
   ]
  },
  {
   "cell_type": "markdown",
   "metadata": {},
   "source": [
    "#### 회귀분석 결과 해석의 단계"
   ]
  },
  {
   "cell_type": "code",
   "execution_count": 22,
   "metadata": {},
   "outputs": [],
   "source": [
    "# 1단계 : 회귀모형은 타당한가?\n",
    "# 귀무가설 : 회귀모형은 타당하지 않다.\n",
    "# 대립가설 : 회귀모형은 타당하다."
   ]
  },
  {
   "cell_type": "code",
   "execution_count": 23,
   "metadata": {},
   "outputs": [],
   "source": [
    "# 회귀분석 결과\n",
    "\n",
    "# F-statistic(검정통계량)       : 4417.\n",
    "# Prob (F-statistic, 유의확률)  : 1.22e-112\n",
    "\n",
    "# 결론\n",
    "# 유의확률이 0.000 이므로 유의수준 0.05에서\n",
    "# 회귀모형은 통계적으로 타당한 것으로 나타났다. (대립가설)"
   ]
  },
  {
   "cell_type": "code",
   "execution_count": 24,
   "metadata": {},
   "outputs": [],
   "source": [
    "# 2단계 : X는 Y에게 유의한 영향을 주는가?\n",
    "# 귀무가설 : X는 Y에게 영향을 주지 않는다.\n",
    "# 대립가설 : X는 Y에게 영향을 준다."
   ]
  },
  {
   "cell_type": "code",
   "execution_count": 25,
   "metadata": {},
   "outputs": [],
   "source": [
    "# 회귀분석 결과\n",
    "\n",
    "#                coef   std err     t       P>|t|    [0.025  0.975]\n",
    "# petal_width   2.8747   0.043   66.463    0.000     2.789   2.960\n",
    "\n",
    "# coef    : 회귀계수(beta1)          = 2.875\n",
    "# std err : 표준오차(standard error) = 0.043\n",
    "# t       : 회귀계수 / 표준오차      = 2.875 / 0.043 = 66.463\n",
    "# P>|t|   : 유의확률                 = 0.000\n",
    "\n",
    "# 결론\n",
    "# 유의확률이 0.000 이므로 유의수준 0.05에서\n",
    "# X는 Y에게 통계적으로 유의한 영향을 주는 것으로 나타났다.\n",
    "\n",
    "# 유의확률이 0.000 이므로 유의수준 0.05에서\n",
    "# 꽃잎의 너비는 꽃잎의 길이에 통계적으로 유의한 영향을 주는 것으로 나타났다."
   ]
  },
  {
   "cell_type": "code",
   "execution_count": 26,
   "metadata": {},
   "outputs": [],
   "source": [
    "# 3단계 : X는 Y에게 어떠한 영향을 주는가?\n",
    "\n",
    "# 회귀분석의 결과\n",
    "#                 coef    \n",
    "# sepal_length : 2.875\n",
    "\n",
    "# coef : coefficient of regression(beta 1) : 회귀계수\n",
    "# 회귀계수 : 2.875\n",
    "\n",
    "# 회귀계수의 값이 크면 X가 Y에게 영향을 많이 준다.\n",
    "# 회귀계수의 값이 작으면 X가 Y에게 미미한 영향을 준다.\n",
    "# 회귀계수의 부호(sign)가 + 이면 X가 Y를 증가시키는 영향을 준다.\n",
    "# 회귀계수의 부호(sign)가 - 이면 X가 Y를 감소시키는 영향을 준다.\n",
    "\n",
    "# 해석\n",
    "# X의 기본단위가 1 증가하면 Y는 약 2.875 정도 증가시킨다.\n",
    "# 꽃잎의 너비가 1cm 증가하면 꽃잎의 길이는 약 2.875cm 증가시키는 영향을 준다."
   ]
  },
  {
   "cell_type": "code",
   "execution_count": 27,
   "metadata": {},
   "outputs": [],
   "source": [
    "# 4단계 : 회귀모형의 설명력 또는 X의 설명력\n",
    "\n",
    "# Y의 다름(변동)을 회귀모형이 얼마나 설명하고 있는가?\n",
    "# Y의 다름(변동)을 X가 얼마나 설명하고 있는가?"
   ]
  },
  {
   "cell_type": "code",
   "execution_count": 28,
   "metadata": {},
   "outputs": [],
   "source": [
    "# 회귀분석 결과\n",
    "\n",
    "# R-squared (uncentered) : 0.967\n",
    "\n",
    "# R-Square : 결정계수(Coefficient of Determination) = 0.967\n",
    "# R-Square : SSR / SST : 0 ~ 1\n",
    "# R-Square 값이 크면 회귀모형이 좋은 것으로 판단하는 지표중에 하나\n",
    "\n",
    "# 해석\n",
    "# 회귀모형이 Y의 다름(변동)을 약 96.7% 정도 설명하고 있다.\n",
    "# X가 Y의 다름(변동)을 약 96.7% 정도 설명하고 있다.\n",
    "# 꽃잎의 너비가 꽃잎의 길이의 변동을 약 96.7% 정도 설명하고 있다."
   ]
  },
  {
   "cell_type": "code",
   "execution_count": 29,
   "metadata": {},
   "outputs": [
    {
     "data": {
      "text/plain": [
       "0      0.574941\n",
       "1      0.574941\n",
       "2      0.574941\n",
       "3      0.574941\n",
       "4      0.574941\n",
       "         ...   \n",
       "145    6.611825\n",
       "146    5.461942\n",
       "147    5.749413\n",
       "148    6.611825\n",
       "149    5.174472\n",
       "Length: 150, dtype: float64"
      ]
     },
     "execution_count": 29,
     "metadata": {},
     "output_type": "execute_result"
    }
   ],
   "source": [
    "# 5단계 : 예측(Prediction, Forecast)\n",
    "# model.predict(exog = X)\n",
    "iris_predict = iris_model.predict(exog = iris.petal_width)\n",
    "iris_predict"
   ]
  },
  {
   "cell_type": "code",
   "execution_count": 30,
   "metadata": {},
   "outputs": [
    {
     "data": {
      "text/plain": [
       "0.5618258679809038"
      ]
     },
     "execution_count": 30,
     "metadata": {},
     "output_type": "execute_result"
    }
   ],
   "source": [
    "# MSE\n",
    "mean_squared_error(y_true = iris.petal_length, y_pred = iris_predict)"
   ]
  }
 ],
 "metadata": {
  "kernelspec": {
   "display_name": "Python 3",
   "language": "python",
   "name": "python3"
  },
  "language_info": {
   "codemirror_mode": {
    "name": "ipython",
    "version": 3
   },
   "file_extension": ".py",
   "mimetype": "text/x-python",
   "name": "python",
   "nbconvert_exporter": "python",
   "pygments_lexer": "ipython3",
   "version": "3.8.3"
  }
 },
 "nbformat": 4,
 "nbformat_minor": 4
}
