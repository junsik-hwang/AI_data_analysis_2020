{
 "cells": [
  {
   "cell_type": "code",
   "execution_count": 107,
   "metadata": {},
   "outputs": [
    {
     "name": "stdout",
     "output_type": "stream",
     "text": [
      "주민등록번호를 입력해주세요 : 950229-1111111\n",
      "잘못 입력했습니다.\n",
      "주민등록번호를 입력해주세요 : 950123-2312122\n",
      "주민등록번호에 해당합니다.\n"
     ]
    }
   ],
   "source": [
    "import string\n",
    "\n",
    "cnt = 0\n",
    "while(1):\n",
    "    number = input(\"주민등록번호를 입력해주세요 : \")\n",
    "    try:\n",
    "        int(number[0:6]) #정수형으로 변환. 숫자가 아니라면 오류발생\n",
    "        int(number[7:])\n",
    "        if(number[6] == '-' and len(number) == 14):\n",
    "            cnt += 1\n",
    "        \n",
    "        if(int(number[2:4]) in [1,3,5,7,8,10,12]):\n",
    "            if(0 < int(number[4:6]) < 32):\n",
    "                cnt += 1\n",
    "        elif(int(number[2:4]) == 2):\n",
    "            if(0 < int(number[4:6]) < 29):\n",
    "                cnt += 1\n",
    "        elif(int(number[2:4]) in [4,6,9,11]):\n",
    "            if(0 < int(number[4:6]) < 31):\n",
    "                cnt += 1\n",
    "        \n",
    "        # 주민번호 뒷자리 첫번째 숫자가 1 또는 2 판별\n",
    "        if(number[7] == '1' or number[7] == '2'):\n",
    "            cnt += 1\n",
    "            \n",
    "        if(cnt == 3):\n",
    "            print(\"주민등록번호에 해당합니다.\")\n",
    "            break\n",
    "        else:\n",
    "            print(\"잘못 입력했습니다.\")\n",
    "            cnt = 0\n",
    "    except:\n",
    "        cnt = 0\n",
    "        print(\"잘못 입력했습니다.\")\n",
    "        "
   ]
  },
  {
   "cell_type": "code",
   "execution_count": null,
   "metadata": {},
   "outputs": [],
   "source": []
  }
 ],
 "metadata": {
  "kernelspec": {
   "display_name": "Python 3",
   "language": "python",
   "name": "python3"
  },
  "language_info": {
   "codemirror_mode": {
    "name": "ipython",
    "version": 3
   },
   "file_extension": ".py",
   "mimetype": "text/x-python",
   "name": "python",
   "nbconvert_exporter": "python",
   "pygments_lexer": "ipython3",
   "version": "3.8.3"
  }
 },
 "nbformat": 4,
 "nbformat_minor": 4
}
