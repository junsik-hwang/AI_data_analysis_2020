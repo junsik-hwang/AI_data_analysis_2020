{
 "cells": [
  {
   "cell_type": "code",
   "execution_count": null,
   "metadata": {},
   "outputs": [],
   "source": [
    "# 지뢰찾기\n",
    "def left(arr, a, b):\n",
    "    cnt = 0\n",
    "    for k in [-1, 0, 1]:\n",
    "        if((-1 < a+k < rows) and (-1 < b-1 < cols)):\n",
    "            if(arr[a+k][b-1] == '*'):\n",
    "                cnt += 1\n",
    "    return cnt\n",
    "\n",
    "def middle(arr, a, b):\n",
    "    cnt = 0\n",
    "    for k in [-1, 1]:\n",
    "        if(-1 < a+k < rows):\n",
    "            if(arr[a+k][b] == '*'):\n",
    "                cnt += 1\n",
    "    return cnt\n",
    "\n",
    "def right(arr, a, b):\n",
    "    cnt = 0\n",
    "    for k in [-1, 0, 1]:\n",
    "        if((-1 < a+k < rows) and (-1 < b+1 < cols)):\n",
    "            if(arr[a+k][b+1] == '*'):\n",
    "                cnt += 1\n",
    "    return cnt\n",
    "\n",
    "\n",
    "rows, cols = map(int,input().split())\n",
    "arr = [[0] * rows] * cols\n",
    "for i in range(rows):\n",
    "    arr[i] = list(input())\n",
    "\n",
    "\n",
    "for i in range(rows):\n",
    "    for j in range(cols):\n",
    "        if(arr[i][j] == '.'):\n",
    "            arr[i][j] = left(arr, i, j) + middle(arr, i, j) + right(arr, i, j)\n",
    "        print(arr[i][j], end = '')\n",
    "    print()"
   ]
  }
 ],
 "metadata": {
  "kernelspec": {
   "display_name": "Python 3",
   "language": "python",
   "name": "python3"
  },
  "language_info": {
   "codemirror_mode": {
    "name": "ipython",
    "version": 3
   },
   "file_extension": ".py",
   "mimetype": "text/x-python",
   "name": "python",
   "nbconvert_exporter": "python",
   "pygments_lexer": "ipython3",
   "version": "3.8.3"
  }
 },
 "nbformat": 4,
 "nbformat_minor": 4
}
