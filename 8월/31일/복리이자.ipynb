{
 "cells": [
  {
   "cell_type": "code",
   "execution_count": null,
   "metadata": {},
   "outputs": [],
   "source": [
    "while(1):\n",
    "    n = int(input(\"복리 이자율 입력 : \"))\n",
    "    if(n > 30):\n",
    "        print(\"이자율이 30%를 넘었습니다. 다시 입력해주세요.\")\n",
    "        n = int(input(\"복리 이자율 입력 : \"))\n",
    "    else:\n",
    "        break\n",
    "while(1):\n",
    "    initial = int(input(\"최초금액 입력 : \"))\n",
    "    target = int(input(\"목표금액 입력 : \"))\n",
    "    if(initial > target):\n",
    "        print(\"최초금액이 목표금액보다 큽니다. 다시 입력해주세요.\")\n",
    "    else:\n",
    "        break\n",
    "year = int(input(\"시작연도 입력 : \"))\n",
    "\n",
    "cnt = 0\n",
    "while(initial <= target):\n",
    "    cnt += 1\n",
    "    initial += initial * (n / 100)\n",
    "\n",
    "print(\"최종 연도 : \", year + cnt)\n",
    "print(\"최종 금액 : \", int(initial))"
   ]
  }
 ],
 "metadata": {
  "kernelspec": {
   "display_name": "Python 3",
   "language": "python",
   "name": "python3"
  },
  "language_info": {
   "codemirror_mode": {
    "name": "ipython",
    "version": 3
   },
   "file_extension": ".py",
   "mimetype": "text/x-python",
   "name": "python",
   "nbconvert_exporter": "python",
   "pygments_lexer": "ipython3",
   "version": "3.8.3"
  }
 },
 "nbformat": 4,
 "nbformat_minor": 4
}
